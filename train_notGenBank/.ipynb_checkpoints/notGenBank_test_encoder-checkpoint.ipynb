{
 "cells": [
  {
   "cell_type": "code",
   "execution_count": 1,
   "id": "3b499680-a6fb-4dde-b24c-1c8fd3f5d74a",
   "metadata": {},
   "outputs": [
    {
     "name": "stderr",
     "output_type": "stream",
     "text": [
      "2025-05-02 08:16:20.347915: I tensorflow/stream_executor/platform/default/dso_loader.cc:49] Successfully opened dynamic library libcudart.so.10.1\n"
     ]
    }
   ],
   "source": [
    "import pandas as pd\n",
    "import numpy as np\n",
    "import csv\n",
    "import matplotlib.pyplot as plt\n",
    "pd.options.mode.chained_assignment = None  # default='warn'\n",
    "from sklearn.model_selection import train_test_split\n",
    "from tensorflow.keras.preprocessing.text import Tokenizer\n",
    "from tensorflow.keras.preprocessing.sequence import pad_sequences\n",
    "import tensorflow as tf\n",
    "from tensorflow.keras import layers, Model\n",
    "from tensorflow.keras.optimizers import Adam\n",
    "from tensorflow.keras.callbacks import ModelCheckpoint, EarlyStopping, ReduceLROnPlateau\n",
    "from tensorflow.keras.layers import Input, Dense, Dropout, LayerNormalization, MultiHeadAttention, Concatenate, Reshape, Embedding, GlobalAveragePooling1D, Lambda"
   ]
  },
  {
   "cell_type": "code",
   "execution_count": 2,
   "id": "0e54c60f-3c43-4d6f-8233-a4ce8c4f6054",
   "metadata": {},
   "outputs": [],
   "source": [
    "def read_csv_head(input_file, num_lines):\n",
    "    \"\"\"\n",
    "    Đọc num_lines dòng đầu tiên từ file CSV (kể cả dòng header) và trả về dưới dạng list.\n",
    "    \n",
    "    :param input_file: Đường dẫn file CSV.\n",
    "    :param num_lines: Số dòng muốn lấy (bao gồm header).\n",
    "    :return: Danh sách các dòng đã lấy.\n",
    "    \"\"\"\n",
    "    \n",
    "    result = []\n",
    "    with open(input_file, 'r', newline='', encoding='utf-8') as csvfile:\n",
    "        reader = csv.reader(csvfile)\n",
    "        for i, row in enumerate(reader):\n",
    "            if i >= num_lines:\n",
    "                break\n",
    "            result.append(row)\n",
    "    return result"
   ]
  },
  {
   "cell_type": "code",
   "execution_count": 3,
   "id": "faf90e39-c92d-4eb6-8efd-6ab62195a747",
   "metadata": {},
   "outputs": [],
   "source": [
    "data_namp = read_csv_head(r'/mnt/nvme1/nAMP_notGenBank.csv', 950001)  # 1 dòng tiêu đề + 2500 dòng dữ liệu\n",
    "data_namp = pd.DataFrame(data_namp[1:], columns=data_namp[0])\n",
    "# data_namp"
   ]
  },
  {
   "cell_type": "code",
   "execution_count": 4,
   "id": "a84a2007-6602-4d94-b113-9c4a61a94629",
   "metadata": {},
   "outputs": [],
   "source": [
    "# data_amp = pd.read_csv(r'/mnt/nvme1/AMP_GenBank.csv')\n",
    "# data_amp = pd.read_csv(r'/mnt/nvme1/AMP_notGenBank.csv')  # 1 dòng tiêu đề + 2500 dòng dữ liệu\n",
    "# data_amp\n",
    "data_amp = read_csv_head(r'/mnt/nvme1/AMP_notGenBank.csv', 940001)  # 1 dòng tiêu đề + 2500 dòng dữ liệu\n",
    "data_amp = pd.DataFrame(data_amp[1:], columns=data_amp[0])"
   ]
  },
  {
   "cell_type": "code",
   "execution_count": 5,
   "id": "4e976bde-d9f1-4b5f-8d85-60c799274728",
   "metadata": {},
   "outputs": [],
   "source": [
    "combinated_data = pd.concat([data_namp, data_amp], ignore_index=True)\n",
    "# data"
   ]
  },
  {
   "cell_type": "code",
   "execution_count": 6,
   "id": "0179fe89-7c6b-4d37-a2fc-016f2d179ff9",
   "metadata": {},
   "outputs": [],
   "source": [
    "combinated_data = pd.concat([data_namp, data_amp], ignore_index=True)\n",
    "# data"
   ]
  },
  {
   "cell_type": "code",
   "execution_count": 7,
   "id": "f8e23b82-9588-4538-b187-8bd14b766249",
   "metadata": {},
   "outputs": [],
   "source": [
    "data, data_test = train_test_split(combinated_data, test_size=0.3, stratify=combinated_data['Label'], random_state=42, shuffle=True)"
   ]
  },
  {
   "cell_type": "code",
   "execution_count": 8,
   "id": "6aa3eb7a-55d3-4693-a4c0-adbfab5a5fd9",
   "metadata": {},
   "outputs": [],
   "source": [
    "# data1 = pd.read_csv(\"input/features.csv\")\n",
    "# data1"
   ]
  },
  {
   "cell_type": "code",
   "execution_count": 9,
   "id": "13655e39-055f-4272-9a81-c89ba7c294c6",
   "metadata": {},
   "outputs": [],
   "source": [
    "# data2 = pd.read_csv(\"input/features5.csv\")\n",
    "# data2"
   ]
  },
  {
   "cell_type": "code",
   "execution_count": 10,
   "id": "4526f1e5-e242-421a-ab2a-a0e0d786bb2d",
   "metadata": {},
   "outputs": [],
   "source": [
    "# data = pd.concat([data1, data2], ignore_index=True)\n",
    "# data"
   ]
  },
  {
   "cell_type": "code",
   "execution_count": 11,
   "id": "533fe4d7-d85e-47a4-b103-bd721ad22add",
   "metadata": {},
   "outputs": [],
   "source": [
    "# data_test = pd.read_csv(\"input/features_test.csv\")\n",
    "# data_test"
   ]
  },
  {
   "cell_type": "markdown",
   "id": "f8b402ff-535f-466b-9a79-cdc634101cb0",
   "metadata": {},
   "source": [
    "### Cột \"ID\" có thể chỉ là một định danh duy nhất cho từng dòng, không mang ý nghĩa đặc biệt trong mô hình."
   ]
  },
  {
   "cell_type": "code",
   "execution_count": 12,
   "id": "ac90c4e7-fb8f-4d49-bff6-1f1b3bf60252",
   "metadata": {},
   "outputs": [],
   "source": [
    "data = data.drop(columns=['ID'])\n",
    "data_test = data_test.drop(columns=['ID'])"
   ]
  },
  {
   "cell_type": "code",
   "execution_count": 13,
   "id": "da0ec589-a0d9-4230-86e2-c8832cad8c43",
   "metadata": {},
   "outputs": [],
   "source": [
    "# data.info()"
   ]
  },
  {
   "cell_type": "code",
   "execution_count": 14,
   "id": "af5832af-6e34-4919-9bb2-39e5e0cd6835",
   "metadata": {},
   "outputs": [],
   "source": [
    "# data_test.info()"
   ]
  },
  {
   "cell_type": "markdown",
   "id": "fead2831-b5c2-4aef-899d-ab8e3d1e2dbd",
   "metadata": {},
   "source": [
    "### Kiểm tra và xóa số lượng rows trùng lặp"
   ]
  },
  {
   "cell_type": "code",
   "execution_count": 15,
   "id": "9dc662b8-9204-44c2-99c0-0c5311bd563c",
   "metadata": {},
   "outputs": [],
   "source": [
    "# data.duplicated().sum()"
   ]
  },
  {
   "cell_type": "code",
   "execution_count": 16,
   "id": "58edf603-0310-470d-afbc-849d5ebc8d2e",
   "metadata": {},
   "outputs": [],
   "source": [
    "# data_test.duplicated().sum()"
   ]
  },
  {
   "cell_type": "code",
   "execution_count": 17,
   "id": "6d135e01-24c0-4587-98a9-71cccae32b8d",
   "metadata": {},
   "outputs": [],
   "source": [
    "# data = data.drop_duplicates()\n",
    "# data_test = data_test.drop_duplicates()"
   ]
  },
  {
   "cell_type": "code",
   "execution_count": 18,
   "id": "b36576cd-53cf-42ff-95a7-a651e6bafcea",
   "metadata": {},
   "outputs": [],
   "source": [
    "# data.duplicated().sum()"
   ]
  },
  {
   "cell_type": "code",
   "execution_count": 19,
   "id": "080f4af5-9828-4143-88f8-516bcb4fccaf",
   "metadata": {},
   "outputs": [],
   "source": [
    "# data_test.duplicated().sum()"
   ]
  },
  {
   "cell_type": "markdown",
   "id": "d4fea486-9173-4367-a1f8-854bee4649f7",
   "metadata": {},
   "source": [
    "### Kiểm tra xem có cột nào chứa giá trị NaN (khuyết thiếu) hay không."
   ]
  },
  {
   "cell_type": "code",
   "execution_count": 20,
   "id": "665e8553-d4a8-4758-9646-93e74781d1fc",
   "metadata": {},
   "outputs": [],
   "source": [
    "# null_columns_1 = data.columns[data.isnull().sum() > 0]\n",
    "# print(data[null_columns_1].isnull().sum())\n",
    "\n",
    "# null_columns_2 = data_test.columns[data_test.isnull().sum() > 0]\n",
    "# print(data[null_columns_2].isnull().sum())"
   ]
  },
  {
   "cell_type": "markdown",
   "id": "e5467cde-0e24-4a5c-873e-8e8bf234b1e5",
   "metadata": {},
   "source": [
    "### Phân loại các cột theo kiểu dữ liệu\n",
    "#### - float_columns: Chứa các cột có kiểu dữ liệu float64 (biến số học).\n",
    "#### - object_columns: Chứa các cột có kiểu dữ liệu object (biến dạng chuỗi)."
   ]
  },
  {
   "cell_type": "code",
   "execution_count": 21,
   "id": "5c8cfc89-0588-4e2a-88d7-a5cc44185495",
   "metadata": {},
   "outputs": [],
   "source": [
    "float_columns = data.select_dtypes(include=['float64']).columns\n",
    "object_columns = data.select_dtypes(include=['object']).columns"
   ]
  },
  {
   "cell_type": "markdown",
   "id": "015b7558-79f7-4ef1-ac6d-c63639db0467",
   "metadata": {},
   "source": [
    "### Dữ liệu có 2 cột dạng chuỗi:\n",
    "#### - Label: Có thể là nhãn phân loại (ví dụ: Antimicrobial vs Non-Antimicrobial hoặc 1 vs 0).\n",
    "#### - Sequence: Chuỗi peptide cần dự đoán."
   ]
  },
  {
   "cell_type": "code",
   "execution_count": 22,
   "id": "bdf85ec3-31e3-4fea-af4a-ae0f6cc05a8a",
   "metadata": {},
   "outputs": [],
   "source": [
    "# object_columns"
   ]
  },
  {
   "cell_type": "markdown",
   "id": "8fd40693-8d1a-462e-a5a5-8cb56a541962",
   "metadata": {},
   "source": [
    "### Chuyển đổi nhãn (Label) từ chuỗi sang số (0/1):\n",
    "#### - Nếu Label == 'nAMP' → gán 0 (Không kháng khuẩn).\n",
    "#### - Nếu không phải 'nAMP' → gán 1 (Kháng khuẩn).\n",
    "### Chuyển đổi kiểu dữ liệu thành float để phù hợp với mô hình."
   ]
  },
  {
   "cell_type": "code",
   "execution_count": 23,
   "id": "40cd6d3f-5f42-44a4-b87b-4ee95b04d45a",
   "metadata": {},
   "outputs": [],
   "source": [
    "data.loc[:, 'Label'] = data['Label'].apply(lambda x: 0 if x == 'nAMP' else 1)\n",
    "data['Label'] = data['Label'].astype(float)\n",
    "\n",
    "data_test.loc[:, 'Label'] = data_test['Label'].apply(lambda x: 0 if x == 'nAMP' else 1)\n",
    "data_test['Label'] = data_test['Label'].astype(float)\n",
    "\n",
    "# data"
   ]
  },
  {
   "cell_type": "code",
   "execution_count": 24,
   "id": "c38e7a8c-86d2-4961-a625-0dfc5a4af85d",
   "metadata": {},
   "outputs": [
    {
     "data": {
      "image/png": "[encoded data removed]",
      "text/plain": [
       "<Figure size 1000x600 with 1 Axes>"
      ]
     },
     "metadata": {},
     "output_type": "display_data"
    }
   ],
   "source": [
    "label_counts = data['Label'].value_counts()\n",
    "plt.figure(figsize=(10, 6))\n",
    "label_counts.plot(kind='bar', color = 'skyblue')\n",
    "plt.title('Tỉ lệ phân phối chuỗi peptide kháng khuẩn và không kháng khuẩn')\n",
    "plt.xlabel('Label', fontsize=12)\n",
    "plt.ylabel('Count', fontsize=12)\n",
    "plt.xticks(rotation=0, ha='right')\n",
    "plt.tight_layout()\n",
    "plt.show()"
   ]
  },
  {
   "cell_type": "code",
   "execution_count": 25,
   "id": "3d5607d4-6a77-456c-a80e-998d96104d36",
   "metadata": {},
   "outputs": [],
   "source": [
    "x_test = data_test.drop(columns=['Label'])\n",
    "y_test = data_test['Label']\n",
    "\n",
    "X_train = data.drop(columns=['Label'])\n",
    "y_train = data['Label']"
   ]
  },
  {
   "cell_type": "markdown",
   "id": "71f1ead0-665b-457d-867f-1002cba40385",
   "metadata": {},
   "source": [
    "### Kiểm tra (mẫu, đặc trưng)"
   ]
  },
  {
   "cell_type": "code",
   "execution_count": 26,
   "id": "8b65c10b-ec6d-4f94-9d25-1ec1a6ba3eec",
   "metadata": {},
   "outputs": [],
   "source": [
    "# print(x_test.shape)\n",
    "# print(y_test.shape)\n",
    "\n",
    "# print(X_train.shape)\n",
    "# print(y_train.shape)"
   ]
  },
  {
   "cell_type": "code",
   "execution_count": 27,
   "id": "2cd0d5db-79c3-46b7-9820-9ff2e7a88175",
   "metadata": {},
   "outputs": [],
   "source": [
    "X_val, X_test, Y_val, Y_test = train_test_split(x_test, y_test, test_size=0.5, stratify=y_test, random_state=42, shuffle=True)"
   ]
  },
  {
   "cell_type": "markdown",
   "id": "bcf7fb99-99fd-48bd-96c2-a6c4025b3dae",
   "metadata": {},
   "source": [
    "### chuỗi sequence dạng chữ, chuyển về chuỗi số"
   ]
  },
  {
   "cell_type": "code",
   "execution_count": 28,
   "id": "bb0b1313-8d97-4230-b44e-b0ae8b8a0f8d",
   "metadata": {},
   "outputs": [],
   "source": [
    "# sequence_lengths = [len(seq) for seq in  data['Sequence']]  \n",
    "\n",
    "# # Tính giá trị percentile 95%\n",
    "# max_length = int(np.percentile(sequence_lengths, 95))  \n",
    "# print(f\"Max length hợp lý dựa trên 95% dữ liệu: {max_length}\")"
   ]
  },
  {
   "cell_type": "markdown",
   "id": "b6897f8e-0800-44f7-8e0e-22dd810e6db4",
   "metadata": {},
   "source": [
    "### Đệm hoặc cắt ở phía sau\n",
    "###  Lý do chọn 'post':\n",
    "#### - Giữ thông tin quan trọng ở đầu chuỗi, vì đầu peptide có thể chứa thông tin quan trọng về tính kháng khuẩn."
   ]
  },
  {
   "cell_type": "code",
   "execution_count": 29,
   "id": "49e9ec60-8c07-40da-90f0-52cf24af7e6b",
   "metadata": {
    "scrolled": true
   },
   "outputs": [],
   "source": [
    "# pip install tensorflow"
   ]
  },
  {
   "cell_type": "code",
   "execution_count": 30,
   "id": "7bfb4f45-f497-4eab-8a44-bf901bd38720",
   "metadata": {},
   "outputs": [],
   "source": [
    "max_length = 50\n",
    "\n",
    "padding_type = 'post' # Đệm thêm số 0\n",
    "trunc_type = 'post'  # Cắt nếu chuỗi dài"
   ]
  },
  {
   "cell_type": "code",
   "execution_count": 31,
   "id": "6be93406-934f-4649-9321-f68418036a6d",
   "metadata": {},
   "outputs": [
    {
     "name": "stdout",
     "output_type": "stream",
     "text": [
      "Vocab Size:  26\n"
     ]
    }
   ],
   "source": [
    "tokenizer = Tokenizer(char_level=True)\n",
    "tokenizer.fit_on_texts(data['Sequence'])\n",
    "vocab_size = len(tokenizer.word_index) + 1\n",
    "print(\"Vocab Size: \",vocab_size)"
   ]
  },
  {
   "cell_type": "code",
   "execution_count": 32,
   "id": "4fa54d9d-2efa-4f22-b3e3-782371bf824a",
   "metadata": {},
   "outputs": [
    {
     "data": {
      "text/plain": [
       "{'l': 1,\n",
       " 'r': 2,\n",
       " 'a': 3,\n",
       " 'v': 4,\n",
       " 'k': 5,\n",
       " 'g': 6,\n",
       " 's': 7,\n",
       " 'i': 8,\n",
       " 't': 9,\n",
       " 'p': 10,\n",
       " 'f': 11,\n",
       " 'q': 12,\n",
       " 'n': 13,\n",
       " 'e': 14,\n",
       " 'y': 15,\n",
       " 'd': 16,\n",
       " 'm': 17,\n",
       " 'h': 18,\n",
       " 'w': 19,\n",
       " 'c': 20,\n",
       " 'x': 21,\n",
       " 'b': 22,\n",
       " 'z': 23,\n",
       " 'j': 24,\n",
       " 'u': 25}"
      ]
     },
     "execution_count": 32,
     "metadata": {},
     "output_type": "execute_result"
    }
   ],
   "source": [
    "tokenizer.word_index"
   ]
  },
  {
   "cell_type": "code",
   "execution_count": 33,
   "id": "33b00c6c-9b57-49a3-b432-47bed4f3af7b",
   "metadata": {},
   "outputs": [],
   "source": [
    "train_sequences  = tokenizer.texts_to_sequences(X_train['Sequence'])\n",
    "train_sequence_array = pad_sequences(train_sequences , maxlen= max_length, padding= padding_type, truncating=trunc_type)\n",
    "\n",
    "val_sequences = tokenizer.texts_to_sequences(X_val['Sequence'])\n",
    "val_sequence_array = pad_sequences(val_sequences , maxlen= max_length, padding= padding_type, truncating=trunc_type)\n",
    "\n",
    "test_sequences = tokenizer.texts_to_sequences(X_test['Sequence'])\n",
    "test_sequence_array = pad_sequences(test_sequences , maxlen= max_length, padding= padding_type, truncating=trunc_type)"
   ]
  },
  {
   "cell_type": "code",
   "execution_count": 34,
   "id": "1194789f-8d43-44d1-be05-7723fd428acb",
   "metadata": {},
   "outputs": [],
   "source": [
    "X_train= X_train.drop(columns=['Sequence'])\n",
    "X_train['train_sequences'] = train_sequence_array.tolist()\n",
    "\n",
    "X_val= X_val.drop(columns=['Sequence'])\n",
    "X_val['val_sequences'] = val_sequence_array.tolist()\n",
    "\n",
    "X_test= X_test.drop(columns=['Sequence'])\n",
    "X_test['test_sequences'] = test_sequence_array.tolist()"
   ]
  },
  {
   "cell_type": "code",
   "execution_count": 35,
   "id": "b62f8cde-7fbe-4fff-b83d-752c4bba8376",
   "metadata": {},
   "outputs": [],
   "source": [
    "# X_train.describe()"
   ]
  },
  {
   "cell_type": "code",
   "execution_count": 36,
   "id": "62dc43a8-0e31-4570-aff2-4c4c88fcb406",
   "metadata": {},
   "outputs": [],
   "source": [
    "# columns_with_max_equal_1 = X_train.columns[X_train.max() == 1]\n",
    "# columns_with_min_equal_0 = X_train.columns[X_train.min() == 0]\n",
    "\n",
    "# # In kết quả\n",
    "# print(\"Các cột có max == 1:\", len(list(columns_with_max_equal_1)))\n",
    "# print(\"Các cột có min == 0:\", len(list(columns_with_min_equal_0)))"
   ]
  },
  {
   "cell_type": "markdown",
   "id": "2b619a27-c108-4251-afe7-1713fbfc4eb4",
   "metadata": {},
   "source": [
    "## Kiểm tra X_train\n",
    "#### Tổng có 127 cột. Tách thành 126 + 1 cột mảng"
   ]
  },
  {
   "cell_type": "code",
   "execution_count": 37,
   "id": "034f2195-49fd-4ddd-aa42-46f498892640",
   "metadata": {},
   "outputs": [],
   "source": [
    "# print(X_train.dtypes.value_counts())"
   ]
  },
  {
   "cell_type": "code",
   "execution_count": 38,
   "id": "1fba2fce-86fc-4977-af47-6121ccfc37d6",
   "metadata": {},
   "outputs": [],
   "source": [
    "X_train_num = X_train.iloc[:, :126]  # Chọn 126 cột đầu tiên\n",
    "X_train_text = X_train.iloc[:, -1]   # Chọn cột cuối cùng"
   ]
  },
  {
   "cell_type": "code",
   "execution_count": 39,
   "id": "230c0454-933a-4b80-9df5-e9d054b96058",
   "metadata": {},
   "outputs": [],
   "source": [
    "# object_cols = X_train.select_dtypes(include=['object']).columns\n",
    "# print(\"Cột object:\", object_cols)"
   ]
  },
  {
   "cell_type": "code",
   "execution_count": 40,
   "id": "994f4162-de11-4ef4-b7f1-b84085800e0c",
   "metadata": {},
   "outputs": [],
   "source": [
    "# print(X_train_text.head(10))  # Xem 10 dòng đầu"
   ]
  },
  {
   "cell_type": "markdown",
   "id": "21de5cf4-43e4-4922-b74c-93a006047dd1",
   "metadata": {},
   "source": [
    "## Kiểm tra X_val\n",
    "#### Tổng có 127 cột. Tách thành 126 + 1 cột mảng"
   ]
  },
  {
   "cell_type": "code",
   "execution_count": 41,
   "id": "857d78c9-97b4-44a1-b9c4-5b87b129e435",
   "metadata": {},
   "outputs": [],
   "source": [
    "# print(X_val.dtypes.value_counts())"
   ]
  },
  {
   "cell_type": "code",
   "execution_count": 42,
   "id": "60ad9d6b-f5ec-4540-8724-c72b37777f66",
   "metadata": {},
   "outputs": [],
   "source": [
    "X_val_num = X_val.iloc[:, :126]  # Chọn 126 cột đầu tiên\n",
    "X_val_text = X_val.iloc[:, -1]   # Chọn cột cuối cùng"
   ]
  },
  {
   "cell_type": "code",
   "execution_count": 43,
   "id": "16b909ca-fb69-404e-bb6d-ed217cecc4fa",
   "metadata": {},
   "outputs": [],
   "source": [
    "# print(X_val_text.head(10))  # Xem 10 dòng đầu"
   ]
  },
  {
   "cell_type": "markdown",
   "id": "72daa2d2-6d01-4aa3-8fb5-a34e6262ab04",
   "metadata": {},
   "source": [
    "## Kiểm tra dữ liệu huấn luyện\n",
    "In thử một vài giá trị trong X_train và X_val để kiểm tra xem có giá trị âm hoặc không hợp lệ không"
   ]
  },
  {
   "cell_type": "code",
   "execution_count": 44,
   "id": "af8f1cdc-39af-4c88-accf-d19e9b203027",
   "metadata": {},
   "outputs": [],
   "source": [
    "# print(f\"X_train_text - NaN: {pd.isna(X_train_text).sum()} / Total: {X_train_text.size}\")\n",
    "# print(f\"X_val_text - NaN: {pd.isna(X_val_text).sum()} / Total: {X_val_text.size}\")"
   ]
  },
  {
   "cell_type": "code",
   "execution_count": 45,
   "id": "6e286dbe-dccf-4b4f-be0e-96023f1a7d60",
   "metadata": {},
   "outputs": [],
   "source": [
    "# X_train_num = np.array(X_train_num, dtype=np.float32)\n",
    "# X_val_num = np.array(X_val_num, dtype=np.float32)\n",
    "X_train_num = X_train_num.to_numpy(dtype=np.float32)\n",
    "X_val_num = X_val_num.to_numpy(dtype=np.float32)"
   ]
  },
  {
   "cell_type": "code",
   "execution_count": 46,
   "id": "c893d250-b074-42f9-a231-a5af913dc10d",
   "metadata": {},
   "outputs": [
    {
     "name": "stdout",
     "output_type": "stream",
     "text": [
      "X_train_text shape: (1323000, 50)\n",
      "X_val_text shape: (283500, 50)\n"
     ]
    }
   ],
   "source": [
    "# Định nghĩa độ dài cố định cho X_train_text và X_val_text\n",
    "max_len = max_length  \n",
    "\n",
    "# Chuyển đổi tất cả thành danh sách cùng kích thước\n",
    "X_train_text = np.array([seq[:max_len] + [0] * (max_len - len(seq)) if len(seq) < max_len else seq[:max_len] for seq in X_train_text], dtype=np.int32)\n",
    "\n",
    "X_val_text = np.array([seq[:max_len] + [0] * (max_len - len(seq)) if len(seq) < max_len else seq[:max_len] for seq in X_val_text], dtype=np.int32)\n",
    "\n",
    "print(\"X_train_text shape:\", X_train_text.shape)\n",
    "print(\"X_val_text shape:\", X_val_text.shape)"
   ]
  },
  {
   "cell_type": "markdown",
   "id": "25470e88-8754-4ca6-978a-1a57c21b3cfe",
   "metadata": {},
   "source": [
    "### Các class huấn luyện model\n",
    "#### - Điều kiện quan trọng: embed_dim phải chia hết cho heads để mỗi đầu Attention có kích thước vector bằng nhau.\n",
    "#### - Thông thường, số neurons trong FFN (neurons) nên gấp 2-4 lần embed_dim để mô hình có đủ khả năng trích xuất đặc trưng.\n",
    "#### - Gợi ý công thức: neurons = 2 × embed_dim hoặc neurons = 4 × embed_dim."
   ]
  },
  {
   "cell_type": "code",
   "execution_count": 47,
   "id": "f7541044-b2cd-45d9-8b8d-b43410a11991",
   "metadata": {},
   "outputs": [],
   "source": [
    "# Định nghĩa Transformer Encoder\n",
    "class TransformerEncoder(layers.Layer):\n",
    "    def __init__(self, embed_dim, heads, neurons):\n",
    "        super(TransformerEncoder, self).__init__()\n",
    "        self.att = layers.MultiHeadAttention(num_heads=heads, key_dim=embed_dim // heads) # NOTE\n",
    "        self.ffn = tf.keras.Sequential([\n",
    "            layers.Dense(neurons, activation=\"relu\"),\n",
    "            layers.Dense(embed_dim)\n",
    "        ])\n",
    "        self.layernorm1 = layers.LayerNormalization(epsilon=1e-6)\n",
    "        self.layernorm2 = layers.LayerNormalization(epsilon=1e-6)\n",
    "        self.dropout1 = layers.Dropout(0.2)\n",
    "        self.dropout2 = layers.Dropout(0.2)\n",
    "\n",
    "    def call(self, inputs, training=None, mask=None):\n",
    "        if mask is not None:\n",
    "            # MHA yêu cầu mask shape: (batch_size, 1, 1, seq_len) hoặc (batch_size, seq_len)\n",
    "            mask = tf.cast(mask[:, tf.newaxis, :], dtype=tf.int32)  # (batch_size, 1, seq_len)\n",
    "    \n",
    "        attn_output = self.att(inputs, inputs, attention_mask=mask)\n",
    "        attn_output = self.dropout1(attn_output, training=training)\n",
    "        out1 = self.layernorm1(inputs + attn_output)\n",
    "        ffn_output = self.ffn(out1)\n",
    "        ffn_output = self.dropout2(ffn_output, training=training)\n",
    "        return self.layernorm2(out1 + ffn_output)\n",
    "\n",
    "# Lớp embedding cho chuỗi văn bản\n",
    "class TokenAndPositionEmbedding(layers.Layer):\n",
    "    def __init__(self, maxlen, vocab_size, embed_dim):\n",
    "        super(TokenAndPositionEmbedding, self).__init__()\n",
    "        self.maxlen = maxlen\n",
    "        self.token_emb = layers.Embedding(input_dim=vocab_size, output_dim=embed_dim, mask_zero=True)\n",
    "        self.pos_emb = layers.Embedding(input_dim=maxlen, output_dim=embed_dim)\n",
    "\n",
    "    def call(self, x):\n",
    "        positions = tf.range(start=0, limit=self.maxlen, delta=1)\n",
    "        positions = self.pos_emb(positions)\n",
    "        x_embed = self.token_emb(x)\n",
    "        return x_embed + positions, self.token_emb.compute_mask(x)\n",
    "\n",
    "\n",
    "class MultiLayerTransformerEncoder(layers.Layer):\n",
    "    def __init__(self, num_layers, embed_dim, heads, neurons):\n",
    "        super(MultiLayerTransformerEncoder, self).__init__()\n",
    "        self.encoders = [\n",
    "            TransformerEncoder(embed_dim, heads, neurons)\n",
    "            for _ in range(num_layers)\n",
    "        ]\n",
    "\n",
    "    def call(self, x, mask=None, training=False):\n",
    "        for encoder_layer in self.encoders:\n",
    "            x = encoder_layer(x, training=training, mask=mask)\n",
    "\n",
    "        return x"
   ]
  },
  {
   "cell_type": "code",
   "execution_count": 48,
   "id": "1a90fc46-80e4-47aa-8412-cb1c7b2ccc05",
   "metadata": {},
   "outputs": [
    {
     "name": "stderr",
     "output_type": "stream",
     "text": [
      "2025-05-02 08:23:50.558499: I tensorflow/compiler/jit/xla_cpu_device.cc:41] Not creating XLA devices, tf_xla_enable_xla_devices not set\n",
      "2025-05-02 08:23:50.575330: I tensorflow/stream_executor/platform/default/dso_loader.cc:49] Successfully opened dynamic library libcuda.so.1\n",
      "2025-05-02 08:23:50.750873: I tensorflow/stream_executor/cuda/cuda_gpu_executor.cc:941] successful NUMA node read from SysFS had negative value (-1), but there must be at least one NUMA node, so returning NUMA node zero\n",
      "2025-05-02 08:23:50.754175: I tensorflow/core/common_runtime/gpu/gpu_device.cc:1720] Found device 0 with properties: \n",
      "pciBusID: 0000:00:1e.0 name: Tesla T4 computeCapability: 7.5\n",
      "coreClock: 1.59GHz coreCount: 40 deviceMemorySize: 14.58GiB deviceMemoryBandwidth: 298.08GiB/s\n",
      "2025-05-02 08:23:50.754241: I tensorflow/stream_executor/platform/default/dso_loader.cc:49] Successfully opened dynamic library libcudart.so.10.1\n",
      "2025-05-02 08:23:50.839738: I tensorflow/stream_executor/platform/default/dso_loader.cc:49] Successfully opened dynamic library libcublas.so.10\n",
      "2025-05-02 08:23:50.839859: I tensorflow/stream_executor/platform/default/dso_loader.cc:49] Successfully opened dynamic library libcublasLt.so.10\n",
      "2025-05-02 08:23:50.886028: I tensorflow/stream_executor/platform/default/dso_loader.cc:49] Successfully opened dynamic library libcufft.so.10\n",
      "2025-05-02 08:23:50.897505: I tensorflow/stream_executor/platform/default/dso_loader.cc:49] Successfully opened dynamic library libcurand.so.10\n",
      "2025-05-02 08:23:50.984844: I tensorflow/stream_executor/platform/default/dso_loader.cc:49] Successfully opened dynamic library libcusolver.so.10\n",
      "2025-05-02 08:23:50.996124: I tensorflow/stream_executor/platform/default/dso_loader.cc:49] Successfully opened dynamic library libcusparse.so.10\n",
      "2025-05-02 08:23:51.148235: I tensorflow/stream_executor/platform/default/dso_loader.cc:49] Successfully opened dynamic library libcudnn.so.7\n",
      "2025-05-02 08:23:51.148474: I tensorflow/stream_executor/cuda/cuda_gpu_executor.cc:941] successful NUMA node read from SysFS had negative value (-1), but there must be at least one NUMA node, so returning NUMA node zero\n",
      "2025-05-02 08:23:51.153141: I tensorflow/stream_executor/cuda/cuda_gpu_executor.cc:941] successful NUMA node read from SysFS had negative value (-1), but there must be at least one NUMA node, so returning NUMA node zero\n",
      "2025-05-02 08:23:51.155687: I tensorflow/core/common_runtime/gpu/gpu_device.cc:1862] Adding visible gpu devices: 0\n",
      "2025-05-02 08:23:51.156349: I tensorflow/core/platform/cpu_feature_guard.cc:142] This TensorFlow binary is optimized with oneAPI Deep Neural Network Library (oneDNN) to use the following CPU instructions in performance-critical operations:  SSE4.1 SSE4.2 AVX AVX2 AVX512F FMA\n",
      "To enable them in other operations, rebuild TensorFlow with the appropriate compiler flags.\n",
      "2025-05-02 08:23:51.156749: I tensorflow/compiler/jit/xla_gpu_device.cc:99] Not creating XLA devices, tf_xla_enable_xla_devices not set\n",
      "2025-05-02 08:23:51.156909: I tensorflow/stream_executor/cuda/cuda_gpu_executor.cc:941] successful NUMA node read from SysFS had negative value (-1), but there must be at least one NUMA node, so returning NUMA node zero\n",
      "2025-05-02 08:23:51.159612: I tensorflow/core/common_runtime/gpu/gpu_device.cc:1720] Found device 0 with properties: \n",
      "pciBusID: 0000:00:1e.0 name: Tesla T4 computeCapability: 7.5\n",
      "coreClock: 1.59GHz coreCount: 40 deviceMemorySize: 14.58GiB deviceMemoryBandwidth: 298.08GiB/s\n",
      "2025-05-02 08:23:51.159663: I tensorflow/stream_executor/platform/default/dso_loader.cc:49] Successfully opened dynamic library libcudart.so.10.1\n",
      "2025-05-02 08:23:51.159693: I tensorflow/stream_executor/platform/default/dso_loader.cc:49] Successfully opened dynamic library libcublas.so.10\n",
      "2025-05-02 08:23:51.159709: I tensorflow/stream_executor/platform/default/dso_loader.cc:49] Successfully opened dynamic library libcublasLt.so.10\n",
      "2025-05-02 08:23:51.159725: I tensorflow/stream_executor/platform/default/dso_loader.cc:49] Successfully opened dynamic library libcufft.so.10\n",
      "2025-05-02 08:23:51.159740: I tensorflow/stream_executor/platform/default/dso_loader.cc:49] Successfully opened dynamic library libcurand.so.10\n",
      "2025-05-02 08:23:51.159756: I tensorflow/stream_executor/platform/default/dso_loader.cc:49] Successfully opened dynamic library libcusolver.so.10\n",
      "2025-05-02 08:23:51.159773: I tensorflow/stream_executor/platform/default/dso_loader.cc:49] Successfully opened dynamic library libcusparse.so.10\n",
      "2025-05-02 08:23:51.159788: I tensorflow/stream_executor/platform/default/dso_loader.cc:49] Successfully opened dynamic library libcudnn.so.7\n",
      "2025-05-02 08:23:51.159880: I tensorflow/stream_executor/cuda/cuda_gpu_executor.cc:941] successful NUMA node read from SysFS had negative value (-1), but there must be at least one NUMA node, so returning NUMA node zero\n",
      "2025-05-02 08:23:51.162740: I tensorflow/stream_executor/cuda/cuda_gpu_executor.cc:941] successful NUMA node read from SysFS had negative value (-1), but there must be at least one NUMA node, so returning NUMA node zero\n",
      "2025-05-02 08:23:51.165249: I tensorflow/core/common_runtime/gpu/gpu_device.cc:1862] Adding visible gpu devices: 0\n",
      "2025-05-02 08:23:51.166349: I tensorflow/stream_executor/platform/default/dso_loader.cc:49] Successfully opened dynamic library libcudart.so.10.1\n",
      "2025-05-02 08:23:53.184635: I tensorflow/core/common_runtime/gpu/gpu_device.cc:1261] Device interconnect StreamExecutor with strength 1 edge matrix:\n",
      "2025-05-02 08:23:53.184664: I tensorflow/core/common_runtime/gpu/gpu_device.cc:1267]      0 \n",
      "2025-05-02 08:23:53.184670: I tensorflow/core/common_runtime/gpu/gpu_device.cc:1280] 0:   N \n",
      "2025-05-02 08:23:53.186038: I tensorflow/stream_executor/cuda/cuda_gpu_executor.cc:941] successful NUMA node read from SysFS had negative value (-1), but there must be at least one NUMA node, so returning NUMA node zero\n",
      "2025-05-02 08:23:53.188009: I tensorflow/stream_executor/cuda/cuda_gpu_executor.cc:941] successful NUMA node read from SysFS had negative value (-1), but there must be at least one NUMA node, so returning NUMA node zero\n",
      "2025-05-02 08:23:53.189695: I tensorflow/stream_executor/cuda/cuda_gpu_executor.cc:941] successful NUMA node read from SysFS had negative value (-1), but there must be at least one NUMA node, so returning NUMA node zero\n",
      "2025-05-02 08:23:53.191277: I tensorflow/core/common_runtime/gpu/gpu_device.cc:1406] Created TensorFlow device (/job:localhost/replica:0/task:0/device:GPU:0 with 13806 MB memory) -> physical GPU (device: 0, name: Tesla T4, pci bus id: 0000:00:1e.0, compute capability: 7.5)\n"
     ]
    },
    {
     "name": "stdout",
     "output_type": "stream",
     "text": [
      "WARNING:tensorflow:AutoGraph could not transform <bound method TransformerEncoder.call of <__main__.TransformerEncoder object at 0x7e114c6b5eb0>> and will run it as-is.\n",
      "Please report this to the TensorFlow team. When filing the bug, set the verbosity to 10 (on Linux, `export AUTOGRAPH_VERBOSITY=10`) and attach the full output.\n",
      "Cause: module 'gast' has no attribute 'Index'\n",
      "To silence this warning, decorate the function with @tf.autograph.experimental.do_not_convert\n",
      "WARNING: AutoGraph could not transform <bound method TransformerEncoder.call of <__main__.TransformerEncoder object at 0x7e114c6b5eb0>> and will run it as-is.\n",
      "Please report this to the TensorFlow team. When filing the bug, set the verbosity to 10 (on Linux, `export AUTOGRAPH_VERBOSITY=10`) and attach the full output.\n",
      "Cause: module 'gast' has no attribute 'Index'\n",
      "To silence this warning, decorate the function with @tf.autograph.experimental.do_not_convert\n"
     ]
    }
   ],
   "source": [
    "# ==== THAM SỐ ====\n",
    "# Đảm bảo TensorFlow đang chạy trong Eager Execution\n",
    "\n",
    "embed_dim = 200   # Kích thước vector embedding\n",
    "heads = 6        # Số đầu attention\n",
    "neurons = 400     # Số nơ-ron của lớp fully connected\n",
    "maxlen = 50      # Chiều dài chuỗi đầu vào (thay max_length bằng 100)\n",
    "num_features = 126  # Số lượng cột số đầu vào\n",
    "vocab_size = vocab_size   # Kích thước từ vựng\n",
    "num_layers = 4    # Số lớp transformer encoder\n",
    "\n",
    "# ==== ĐỊNH NGHĨA INPUT ====\n",
    "# Input cho dữ liệu số\n",
    "num_input = Input(shape=(num_features,))\n",
    "num_reshaped = Dense(embed_dim, activation=\"relu\")(num_input)\n",
    "num_reshaped = Reshape((1, embed_dim))(num_reshaped)  # Shape: (batch_size, 1, embed_dim)\n",
    "\n",
    "# Input văn bản\n",
    "text_input = Input(shape=(maxlen,))\n",
    "embedding_layer = TokenAndPositionEmbedding(maxlen, vocab_size, embed_dim)\n",
    "text_embedded, text_mask = embedding_layer(text_input)  # Shape: (batch_size, maxlen, embed_dim), (batch_size, maxlen)\n",
    "\n",
    "# Ghép 2 đầu vào: (1 + maxlen, embed_dim)\n",
    "merged_input = Concatenate(axis=1)([num_reshaped, text_embedded])\n",
    "\n",
    "# Ghép mask: num_input không phải padding → mask = 1\n",
    "def create_combined_mask(text_mask):\n",
    "    # Tạo mask cho dữ liệu số (num_input) với giá trị là 1\n",
    "    num_mask = tf.ones_like(text_mask[:, :1], dtype=tf.int32)  # num_mask sẽ có kiểu int32\n",
    "    text_mask = tf.cast(text_mask, dtype=tf.int32)  # Chuyển text_mask sang kiểu int32\n",
    "    return tf.concat([num_mask, text_mask], axis=1)\n",
    "\n",
    "\n",
    "merged_mask = Lambda(\n",
    "    create_combined_mask,\n",
    "    output_shape=(maxlen + 1,)\n",
    ")(text_mask)\n",
    "\n",
    "# Nếu cần, reshape thêm cho phù hợp với attention mask yêu cầu\n",
    "merged_mask = Lambda(lambda x: tf.cast(tf.expand_dims(x, axis=1), tf.float32))(merged_mask)\n",
    "\n",
    "# Transformer encoder\n",
    "multi_encoder = MultiLayerTransformerEncoder(num_layers=num_layers, embed_dim=embed_dim, heads=heads, neurons=neurons)\n",
    "x = multi_encoder(merged_input, mask=merged_mask)\n",
    "\n",
    "# Global Average Pooling để giảm chiều dữ liệu\n",
    "x = GlobalAveragePooling1D()(x)\n",
    "\n",
    "# Fully connected layers\n",
    "x = Dense(neurons, activation=\"relu\")(x)\n",
    "x = Dropout(0.2)(x)\n",
    "x = Dense(embed_dim, activation=\"relu\")(x)\n",
    "x = Dropout(0.2)(x)\n",
    "\n",
    "# Output (ví dụ: classification với softmax, có thể thay đổi)\n",
    "output = Dense(1, activation=\"sigmoid\")(x)"
   ]
  },
  {
   "cell_type": "code",
   "execution_count": 49,
   "id": "2ef29b1a-1439-474f-adfa-42121d7964f8",
   "metadata": {},
   "outputs": [
    {
     "name": "stdout",
     "output_type": "stream",
     "text": [
      "Model: \"model\"\n",
      "__________________________________________________________________________________________________\n",
      "Layer (type)                    Output Shape         Param #     Connected to                     \n",
      "==================================================================================================\n",
      "input_1 (InputLayer)            [(None, 126)]        0                                            \n",
      "__________________________________________________________________________________________________\n",
      "input_2 (InputLayer)            [(None, 50)]         0                                            \n",
      "__________________________________________________________________________________________________\n",
      "dense (Dense)                   (None, 200)          25400       input_1[0][0]                    \n",
      "__________________________________________________________________________________________________\n",
      "token_and_position_embedding (T ((None, 50, 200), (N 15200       input_2[0][0]                    \n",
      "__________________________________________________________________________________________________\n",
      "reshape (Reshape)               (None, 1, 200)       0           dense[0][0]                      \n",
      "__________________________________________________________________________________________________\n",
      "lambda (Lambda)                 (None, 51)           0           token_and_position_embedding[0][1\n",
      "__________________________________________________________________________________________________\n",
      "concatenate (Concatenate)       (None, 51, 200)      0           reshape[0][0]                    \n",
      "                                                                 token_and_position_embedding[0][0\n",
      "__________________________________________________________________________________________________\n",
      "lambda_1 (Lambda)               (None, 1, 51)        0           lambda[0][0]                     \n",
      "__________________________________________________________________________________________________\n",
      "multi_layer_transformer_encoder (None, 51, 200)      1282376     concatenate[0][0]                \n",
      "                                                                 lambda_1[0][0]                   \n",
      "__________________________________________________________________________________________________\n",
      "global_average_pooling1d (Globa (None, 200)          0           multi_layer_transformer_encoder[0\n",
      "__________________________________________________________________________________________________\n",
      "dense_9 (Dense)                 (None, 400)          80400       global_average_pooling1d[0][0]   \n",
      "__________________________________________________________________________________________________\n",
      "dropout_8 (Dropout)             (None, 400)          0           dense_9[0][0]                    \n",
      "__________________________________________________________________________________________________\n",
      "dense_10 (Dense)                (None, 200)          80200       dropout_8[0][0]                  \n",
      "__________________________________________________________________________________________________\n",
      "dropout_9 (Dropout)             (None, 200)          0           dense_10[0][0]                   \n",
      "__________________________________________________________________________________________________\n",
      "dense_11 (Dense)                (None, 1)            201         dropout_9[0][0]                  \n",
      "==================================================================================================\n",
      "Total params: 1,483,777\n",
      "Trainable params: 1,483,777\n",
      "Non-trainable params: 0\n",
      "__________________________________________________________________________________________________\n"
     ]
    }
   ],
   "source": [
    "# ==== TẠO MÔ HÌNH ====\n",
    "model = Model(inputs=[num_input, text_input], outputs=output)\n",
    "\n",
    "optimizer = Adam(learning_rate=0.000000005)  # Giảm tốc độ học thêm\n",
    "model.compile(optimizer=optimizer, loss=\"binary_crossentropy\", metrics=[\"accuracy\"])\n",
    "\n",
    "# Hiển thị mô hình\n",
    "model.summary()"
   ]
  },
  {
   "cell_type": "code",
   "execution_count": 50,
   "id": "9f8859e7-0dc5-4ae3-9db3-61552088538c",
   "metadata": {},
   "outputs": [],
   "source": [
    "# model.load_weights('GenBank_transfomer_peptide_weights.best.weights.h5')"
   ]
  },
  {
   "cell_type": "code",
   "execution_count": 51,
   "id": "ae405db4-01f6-4bb8-bbca-8e5fd2a9284e",
   "metadata": {},
   "outputs": [],
   "source": [
    "weight_path = \"{}_weights.best.weights.h5\".format('VS1_notGenBank_transfomer_peptide')\n",
    "# weight_path = \"{}_weights.best.weights.h5\".format('hyper_param')\n",
    "\n",
    "\n",
    "checkpoint = ModelCheckpoint(weight_path, monitor='val_loss', verbose=1, \n",
    "                             save_best_only=True, mode='min', save_weights_only = True)\n",
    "\n",
    "early = EarlyStopping(monitor=\"val_loss\", \n",
    "                      mode=\"min\", \n",
    "                      patience=5)\n",
    "\n",
    "reduce = ReduceLROnPlateau(\n",
    "        monitor=\"val_loss\", factor=0.1,\n",
    "        patience=2, verbose=1\n",
    "    )\n",
    "\n",
    "callbacks_list = [checkpoint, early, reduce]"
   ]
  },
  {
   "cell_type": "code",
   "execution_count": 52,
   "id": "f4bce3b0-d5e3-4d5c-96ae-5d8e9f80c15a",
   "metadata": {},
   "outputs": [
    {
     "name": "stderr",
     "output_type": "stream",
     "text": [
      "2025-05-02 08:23:54.372544: W tensorflow/core/framework/cpu_allocator_impl.cc:80] Allocation of 666792000 exceeds 10% of free system memory.\n",
      "2025-05-02 08:23:54.915374: I tensorflow/compiler/mlir/mlir_graph_optimization_pass.cc:116] None of the MLIR optimization passes are enabled (registered 2)\n",
      "2025-05-02 08:23:54.924912: I tensorflow/core/platform/profile_utils/cpu_utils.cc:112] CPU Frequency: 2499995000 Hz\n"
     ]
    },
    {
     "name": "stdout",
     "output_type": "stream",
     "text": [
      "Epoch 1/200\n"
     ]
    },
    {
     "name": "stderr",
     "output_type": "stream",
     "text": [
      "2025-05-02 08:23:58.005952: I tensorflow/stream_executor/platform/default/dso_loader.cc:49] Successfully opened dynamic library libcublas.so.10\n"
     ]
    },
    {
     "name": "stdout",
     "output_type": "stream",
     "text": [
      "41344/41344 [==============================] - ETA: 0s - loss: 0.6854 - accuracy: 0.5552      "
     ]
    },
    {
     "name": "stderr",
     "output_type": "stream",
     "text": [
      "2025-05-02 08:34:04.366129: W tensorflow/core/framework/cpu_allocator_impl.cc:80] Allocation of 142884000 exceeds 10% of free system memory.\n"
     ]
    },
    {
     "name": "stdout",
     "output_type": "stream",
     "text": [
      "41344/41344 [==============================] - 660s 16ms/step - loss: 0.6854 - accuracy: 0.5552 - val_loss: 0.6410 - val_accuracy: 0.6444\n",
      "\n",
      "Epoch 00001: val_loss improved from inf to 0.64102, saving model to VS1_notGenBank_transfomer_peptide_weights.best.weights.h5\n",
      "Epoch 2/200\n",
      "41344/41344 [==============================] - 657s 16ms/step - loss: 0.6533 - accuracy: 0.6321 - val_loss: 0.6083 - val_accuracy: 0.6962\n",
      "\n",
      "Epoch 00002: val_loss improved from 0.64102 to 0.60826, saving model to VS1_notGenBank_transfomer_peptide_weights.best.weights.h5\n",
      "Epoch 3/200\n",
      "41344/41344 [==============================] - 657s 16ms/step - loss: 0.6274 - accuracy: 0.6848 - val_loss: 0.5801 - val_accuracy: 0.7034\n",
      "\n",
      "Epoch 00003: val_loss improved from 0.60826 to 0.58009, saving model to VS1_notGenBank_transfomer_peptide_weights.best.weights.h5\n",
      "Epoch 4/200\n",
      "41344/41344 [==============================] - 656s 16ms/step - loss: 0.6033 - accuracy: 0.7223 - val_loss: 0.5524 - val_accuracy: 0.7205\n",
      "\n",
      "Epoch 00004: val_loss improved from 0.58009 to 0.55243, saving model to VS1_notGenBank_transfomer_peptide_weights.best.weights.h5\n",
      "Epoch 5/200\n",
      "41344/41344 [==============================] - 657s 16ms/step - loss: 0.5776 - accuracy: 0.7538 - val_loss: 0.5208 - val_accuracy: 0.7472\n",
      "\n",
      "Epoch 00005: val_loss improved from 0.55243 to 0.52075, saving model to VS1_notGenBank_transfomer_peptide_weights.best.weights.h5\n",
      "Epoch 6/200\n",
      "41344/41344 [==============================] - 658s 16ms/step - loss: 0.5485 - accuracy: 0.7825 - val_loss: 0.4857 - val_accuracy: 0.7747\n",
      "\n",
      "Epoch 00006: val_loss improved from 0.52075 to 0.48573, saving model to VS1_notGenBank_transfomer_peptide_weights.best.weights.h5\n",
      "Epoch 7/200\n",
      "41344/41344 [==============================] - 659s 16ms/step - loss: 0.5158 - accuracy: 0.8078 - val_loss: 0.4453 - val_accuracy: 0.8056\n",
      "\n",
      "Epoch 00007: val_loss improved from 0.48573 to 0.44526, saving model to VS1_notGenBank_transfomer_peptide_weights.best.weights.h5\n",
      "Epoch 8/200\n",
      "41344/41344 [==============================] - 659s 16ms/step - loss: 0.4787 - accuracy: 0.8333 - val_loss: 0.4028 - val_accuracy: 0.8370\n",
      "\n",
      "Epoch 00008: val_loss improved from 0.44526 to 0.40278, saving model to VS1_notGenBank_transfomer_peptide_weights.best.weights.h5\n",
      "Epoch 9/200\n",
      "41344/41344 [==============================] - 656s 16ms/step - loss: 0.4389 - accuracy: 0.8572 - val_loss: 0.3586 - val_accuracy: 0.8708\n",
      "\n",
      "Epoch 00009: val_loss improved from 0.40278 to 0.35859, saving model to VS1_notGenBank_transfomer_peptide_weights.best.weights.h5\n",
      "Epoch 10/200\n",
      "41344/41344 [==============================] - 661s 16ms/step - loss: 0.3964 - accuracy: 0.8819 - val_loss: 0.3121 - val_accuracy: 0.9035\n",
      "\n",
      "Epoch 00010: val_loss improved from 0.35859 to 0.31210, saving model to VS1_notGenBank_transfomer_peptide_weights.best.weights.h5\n",
      "Epoch 11/200\n",
      "41344/41344 [==============================] - 662s 16ms/step - loss: 0.3518 - accuracy: 0.9049 - val_loss: 0.2635 - val_accuracy: 0.9312\n",
      "\n",
      "Epoch 00011: val_loss improved from 0.31210 to 0.26347, saving model to VS1_notGenBank_transfomer_peptide_weights.best.weights.h5\n",
      "Epoch 12/200\n",
      "41344/41344 [==============================] - 658s 16ms/step - loss: 0.3045 - accuracy: 0.9272 - val_loss: 0.2153 - val_accuracy: 0.9511\n",
      "\n",
      "Epoch 00012: val_loss improved from 0.26347 to 0.21532, saving model to VS1_notGenBank_transfomer_peptide_weights.best.weights.h5\n",
      "Epoch 13/200\n",
      "41344/41344 [==============================] - 660s 16ms/step - loss: 0.2566 - accuracy: 0.9462 - val_loss: 0.1702 - val_accuracy: 0.9651\n",
      "\n",
      "Epoch 00013: val_loss improved from 0.21532 to 0.17021, saving model to VS1_notGenBank_transfomer_peptide_weights.best.weights.h5\n",
      "Epoch 14/200\n",
      "41344/41344 [==============================] - 672s 16ms/step - loss: 0.2099 - accuracy: 0.9625 - val_loss: 0.1296 - val_accuracy: 0.9770\n",
      "\n",
      "Epoch 00014: val_loss improved from 0.17021 to 0.12959, saving model to VS1_notGenBank_transfomer_peptide_weights.best.weights.h5\n",
      "Epoch 15/200\n",
      "41344/41344 [==============================] - 662s 16ms/step - loss: 0.1672 - accuracy: 0.9748 - val_loss: 0.0951 - val_accuracy: 0.9860\n",
      "\n",
      "Epoch 00015: val_loss improved from 0.12959 to 0.09510, saving model to VS1_notGenBank_transfomer_peptide_weights.best.weights.h5\n",
      "Epoch 16/200\n",
      "41344/41344 [==============================] - 665s 16ms/step - loss: 0.1287 - accuracy: 0.9840 - val_loss: 0.0680 - val_accuracy: 0.9913\n",
      "\n",
      "Epoch 00016: val_loss improved from 0.09510 to 0.06798, saving model to VS1_notGenBank_transfomer_peptide_weights.best.weights.h5\n",
      "Epoch 17/200\n",
      "41344/41344 [==============================] - 671s 16ms/step - loss: 0.0966 - accuracy: 0.9903 - val_loss: 0.0484 - val_accuracy: 0.9940\n",
      "\n",
      "Epoch 00017: val_loss improved from 0.06798 to 0.04837, saving model to VS1_notGenBank_transfomer_peptide_weights.best.weights.h5\n",
      "Epoch 18/200\n",
      "41344/41344 [==============================] - 660s 16ms/step - loss: 0.0715 - accuracy: 0.9934 - val_loss: 0.0356 - val_accuracy: 0.9951\n",
      "\n",
      "Epoch 00018: val_loss improved from 0.04837 to 0.03557, saving model to VS1_notGenBank_transfomer_peptide_weights.best.weights.h5\n",
      "Epoch 19/200\n",
      "41344/41344 [==============================] - 658s 16ms/step - loss: 0.0532 - accuracy: 0.9948 - val_loss: 0.0278 - val_accuracy: 0.9954\n",
      "\n",
      "Epoch 00019: val_loss improved from 0.03557 to 0.02783, saving model to VS1_notGenBank_transfomer_peptide_weights.best.weights.h5\n",
      "Epoch 20/200\n",
      "41344/41344 [==============================] - 655s 16ms/step - loss: 0.0410 - accuracy: 0.9953 - val_loss: 0.0234 - val_accuracy: 0.9954\n",
      "\n",
      "Epoch 00020: val_loss improved from 0.02783 to 0.02341, saving model to VS1_notGenBank_transfomer_peptide_weights.best.weights.h5\n",
      "Epoch 21/200\n",
      "41344/41344 [==============================] - 659s 16ms/step - loss: 0.0334 - accuracy: 0.9954 - val_loss: 0.0210 - val_accuracy: 0.9955\n",
      "\n",
      "Epoch 00021: val_loss improved from 0.02341 to 0.02095, saving model to VS1_notGenBank_transfomer_peptide_weights.best.weights.h5\n",
      "Epoch 22/200\n",
      "41344/41344 [==============================] - 660s 16ms/step - loss: 0.0288 - accuracy: 0.9954 - val_loss: 0.0196 - val_accuracy: 0.9956\n",
      "\n",
      "Epoch 00022: val_loss improved from 0.02095 to 0.01959, saving model to VS1_notGenBank_transfomer_peptide_weights.best.weights.h5\n",
      "Epoch 23/200\n",
      "41344/41344 [==============================] - 660s 16ms/step - loss: 0.0258 - accuracy: 0.9955 - val_loss: 0.0188 - val_accuracy: 0.9955\n",
      "\n",
      "Epoch 00023: val_loss improved from 0.01959 to 0.01881, saving model to VS1_notGenBank_transfomer_peptide_weights.best.weights.h5\n",
      "Epoch 24/200\n",
      "41344/41344 [==============================] - 663s 16ms/step - loss: 0.0237 - accuracy: 0.9955 - val_loss: 0.0184 - val_accuracy: 0.9955\n",
      "\n",
      "Epoch 00024: val_loss improved from 0.01881 to 0.01835, saving model to VS1_notGenBank_transfomer_peptide_weights.best.weights.h5\n",
      "Epoch 25/200\n",
      "41344/41344 [==============================] - 659s 16ms/step - loss: 0.0225 - accuracy: 0.9954 - val_loss: 0.0180 - val_accuracy: 0.9955\n",
      "\n",
      "Epoch 00025: val_loss improved from 0.01835 to 0.01804, saving model to VS1_notGenBank_transfomer_peptide_weights.best.weights.h5\n",
      "Epoch 26/200\n",
      "41344/41344 [==============================] - 661s 16ms/step - loss: 0.0216 - accuracy: 0.9955 - val_loss: 0.0178 - val_accuracy: 0.9955\n",
      "\n",
      "Epoch 00026: val_loss improved from 0.01804 to 0.01784, saving model to VS1_notGenBank_transfomer_peptide_weights.best.weights.h5\n",
      "Epoch 27/200\n",
      "41344/41344 [==============================] - 660s 16ms/step - loss: 0.0209 - accuracy: 0.9955 - val_loss: 0.0177 - val_accuracy: 0.9955\n",
      "\n",
      "Epoch 00027: val_loss improved from 0.01784 to 0.01769, saving model to VS1_notGenBank_transfomer_peptide_weights.best.weights.h5\n",
      "Epoch 28/200\n",
      "41344/41344 [==============================] - 658s 16ms/step - loss: 0.0203 - accuracy: 0.9956 - val_loss: 0.0176 - val_accuracy: 0.9955\n",
      "\n",
      "Epoch 00028: val_loss improved from 0.01769 to 0.01758, saving model to VS1_notGenBank_transfomer_peptide_weights.best.weights.h5\n",
      "Epoch 29/200\n",
      "41344/41344 [==============================] - 661s 16ms/step - loss: 0.0199 - accuracy: 0.9955 - val_loss: 0.0175 - val_accuracy: 0.9955\n",
      "\n",
      "Epoch 00029: val_loss improved from 0.01758 to 0.01750, saving model to VS1_notGenBank_transfomer_peptide_weights.best.weights.h5\n",
      "Epoch 30/200\n",
      "41344/41344 [==============================] - 661s 16ms/step - loss: 0.0197 - accuracy: 0.9955 - val_loss: 0.0174 - val_accuracy: 0.9955\n",
      "\n",
      "Epoch 00030: val_loss improved from 0.01750 to 0.01743, saving model to VS1_notGenBank_transfomer_peptide_weights.best.weights.h5\n",
      "Epoch 31/200\n",
      "41344/41344 [==============================] - 660s 16ms/step - loss: 0.0191 - accuracy: 0.9956 - val_loss: 0.0174 - val_accuracy: 0.9956\n",
      "\n",
      "Epoch 00031: val_loss improved from 0.01743 to 0.01737, saving model to VS1_notGenBank_transfomer_peptide_weights.best.weights.h5\n",
      "Epoch 32/200\n",
      "41344/41344 [==============================] - 661s 16ms/step - loss: 0.0190 - accuracy: 0.9956 - val_loss: 0.0173 - val_accuracy: 0.9956\n",
      "\n",
      "Epoch 00032: val_loss improved from 0.01737 to 0.01731, saving model to VS1_notGenBank_transfomer_peptide_weights.best.weights.h5\n",
      "Epoch 33/200\n",
      "41344/41344 [==============================] - 663s 16ms/step - loss: 0.0190 - accuracy: 0.9956 - val_loss: 0.0173 - val_accuracy: 0.9956\n",
      "\n",
      "Epoch 00033: val_loss improved from 0.01731 to 0.01726, saving model to VS1_notGenBank_transfomer_peptide_weights.best.weights.h5\n",
      "Epoch 34/200\n",
      "41344/41344 [==============================] - 665s 16ms/step - loss: 0.0192 - accuracy: 0.9955 - val_loss: 0.0172 - val_accuracy: 0.9956\n",
      "\n",
      "Epoch 00034: val_loss improved from 0.01726 to 0.01722, saving model to VS1_notGenBank_transfomer_peptide_weights.best.weights.h5\n",
      "\n",
      "Epoch 00034: ReduceLROnPlateau reducing learning rate to 4.999999969612646e-10.\n",
      "Epoch 35/200\n",
      "41344/41344 [==============================] - 667s 16ms/step - loss: 0.0188 - accuracy: 0.9955 - val_loss: 0.0172 - val_accuracy: 0.9956\n",
      "\n",
      "Epoch 00035: val_loss improved from 0.01722 to 0.01722, saving model to VS1_notGenBank_transfomer_peptide_weights.best.weights.h5\n",
      "Epoch 36/200\n",
      "41344/41344 [==============================] - 660s 16ms/step - loss: 0.0188 - accuracy: 0.9956 - val_loss: 0.0172 - val_accuracy: 0.9956\n",
      "\n",
      "Epoch 00036: val_loss improved from 0.01722 to 0.01722, saving model to VS1_notGenBank_transfomer_peptide_weights.best.weights.h5\n",
      "\n",
      "Epoch 00036: ReduceLROnPlateau reducing learning rate to 4.999999858590343e-11.\n",
      "Epoch 37/200\n",
      "41344/41344 [==============================] - 667s 16ms/step - loss: 0.0187 - accuracy: 0.9957 - val_loss: 0.0172 - val_accuracy: 0.9956\n",
      "\n",
      "Epoch 00037: val_loss improved from 0.01722 to 0.01722, saving model to VS1_notGenBank_transfomer_peptide_weights.best.weights.h5\n",
      "Epoch 38/200\n",
      "41344/41344 [==============================] - 668s 16ms/step - loss: 0.0186 - accuracy: 0.9956 - val_loss: 0.0172 - val_accuracy: 0.9956\n",
      "\n",
      "Epoch 00038: val_loss improved from 0.01722 to 0.01722, saving model to VS1_notGenBank_transfomer_peptide_weights.best.weights.h5\n",
      "\n",
      "Epoch 00038: ReduceLROnPlateau reducing learning rate to 4.999999719812465e-12.\n",
      "Epoch 39/200\n",
      "41344/41344 [==============================] - 670s 16ms/step - loss: 0.0190 - accuracy: 0.9955 - val_loss: 0.0172 - val_accuracy: 0.9956\n",
      "\n",
      "Epoch 00039: val_loss did not improve from 0.01722\n",
      "Epoch 40/200\n",
      "41344/41344 [==============================] - 663s 16ms/step - loss: 0.0188 - accuracy: 0.9956 - val_loss: 0.0172 - val_accuracy: 0.9956\n",
      "\n",
      "Epoch 00040: val_loss improved from 0.01722 to 0.01722, saving model to VS1_notGenBank_transfomer_peptide_weights.best.weights.h5\n",
      "\n",
      "Epoch 00040: ReduceLROnPlateau reducing learning rate to 4.999999546340118e-13.\n",
      "Epoch 41/200\n",
      "41344/41344 [==============================] - 670s 16ms/step - loss: 0.0186 - accuracy: 0.9956 - val_loss: 0.0172 - val_accuracy: 0.9956\n",
      "\n",
      "Epoch 00041: val_loss did not improve from 0.01722\n",
      "Epoch 42/200\n",
      "41344/41344 [==============================] - 667s 16ms/step - loss: 0.0192 - accuracy: 0.9954 - val_loss: 0.0172 - val_accuracy: 0.9956\n",
      "\n",
      "Epoch 00042: val_loss did not improve from 0.01722\n",
      "\n",
      "Epoch 00042: ReduceLROnPlateau reducing learning rate to 4.9999994379199e-14.\n",
      "Epoch 43/200\n",
      "41344/41344 [==============================] - 664s 16ms/step - loss: 0.0185 - accuracy: 0.9956 - val_loss: 0.0172 - val_accuracy: 0.9956\n",
      "\n",
      "Epoch 00043: val_loss did not improve from 0.01722\n",
      "Epoch 44/200\n",
      "41344/41344 [==============================] - 665s 16ms/step - loss: 0.0189 - accuracy: 0.9955 - val_loss: 0.0172 - val_accuracy: 0.9956\n",
      "\n",
      "Epoch 00044: val_loss did not improve from 0.01722\n",
      "\n",
      "Epoch 00044: ReduceLROnPlateau reducing learning rate to 4.999999573445172e-15.\n",
      "Epoch 45/200\n",
      "41344/41344 [==============================] - 666s 16ms/step - loss: 0.0185 - accuracy: 0.9956 - val_loss: 0.0172 - val_accuracy: 0.9956\n",
      "\n",
      "Epoch 00045: val_loss did not improve from 0.01722\n"
     ]
    }
   ],
   "source": [
    "history = model.fit(\n",
    "    [X_train_num, X_train_text], y_train,  # Đầu vào gồm dữ liệu số và dữ liệu chuỗi\n",
    "    validation_data=([X_val_num, X_val_text], Y_val),  # Validation cũng có hai đầu vào\n",
    "    epochs=200,\n",
    "    batch_size=32,\n",
    "    callbacks=callbacks_list  # Dùng danh sách callbacks đã khai báo ở cell 1\n",
    ") "
   ]
  },
  {
   "cell_type": "code",
   "execution_count": 53,
   "id": "2a0abf03-c35a-4832-a2e2-9f87c26af612",
   "metadata": {},
   "outputs": [
    {
     "data": {
      "image/png": "[encoded data removed]",
      "text/plain": [
       "<Figure size 640x480 with 1 Axes>"
      ]
     },
     "metadata": {},
     "output_type": "display_data"
    }
   ],
   "source": [
    "def plot_history_accuracy(history):\n",
    "    plt.plot(history.history[\"accuracy\"], label=\"Training Accuracy\")\n",
    "    plt.plot(history.history[\"val_accuracy\"], label=\"Validation Accuracy\")\n",
    "    plt.legend()\n",
    "    plt.grid()\n",
    "    plt.show()\n",
    "\n",
    "plot_history_accuracy(history=history)"
   ]
  },
  {
   "cell_type": "code",
   "execution_count": 54,
   "id": "5848d11d-a7c8-4077-86f9-8a42ff05fa38",
   "metadata": {},
   "outputs": [
    {
     "data": {
      "image/png": "[encoded data removed]",
      "text/plain": [
       "<Figure size 640x480 with 1 Axes>"
      ]
     },
     "metadata": {},
     "output_type": "display_data"
    }
   ],
   "source": [
    "def plot_history_loss(history):\n",
    "    plt.plot(history.history[\"loss\"], label=\"Training Loss\")\n",
    "    plt.plot(history.history[\"val_loss\"], label=\"Validation Loss\")\n",
    "    plt.legend()\n",
    "    plt.grid()\n",
    "    plt.show()\n",
    "\n",
    "plot_history_loss(history=history)"
   ]
  },
  {
   "cell_type": "code",
   "execution_count": 55,
   "id": "010e06bc-4be8-4de6-9940-2060e4c2d38a",
   "metadata": {},
   "outputs": [],
   "source": [
    "X_test_num = X_test.iloc[:, :126]  # Chọn 126 cột đầu tiên\n",
    "X_test_text = X_test.iloc[:, -1]   # Chọn cột cuối cùng\n",
    "\n",
    "# X_test_num = np.array(X_test_num, dtype=np.float32)\n",
    "X_test_num = X_test_num.to_numpy(dtype=np.float32)"
   ]
  },
  {
   "cell_type": "code",
   "execution_count": 56,
   "id": "d58d07e4-49c5-42f3-9342-200440587402",
   "metadata": {},
   "outputs": [
    {
     "name": "stdout",
     "output_type": "stream",
     "text": [
      "X_train_text shape: (283500, 50)\n"
     ]
    }
   ],
   "source": [
    "# Định nghĩa độ dài cố định cho X_train_text và X_val_text\n",
    "max_len = max_length\n",
    "\n",
    "# Chuyển đổi tất cả thành danh sách cùng kích thước\n",
    "# X_test_text = np.array([seq[:max_len] + [0] * (max_len - len(seq)) if len(seq) < max_len else seq[:max_len] for seq in X_test_text], dtype=np.int32)\n",
    "X_test_text = test_sequence_array\n",
    "\n",
    "print(\"X_train_text shape:\", X_test_text.shape)"
   ]
  },
  {
   "cell_type": "code",
   "execution_count": 57,
   "id": "a3319506-686e-4400-a9cc-3c2c71d98431",
   "metadata": {},
   "outputs": [
    {
     "name": "stderr",
     "output_type": "stream",
     "text": [
      "2025-05-02 16:50:28.207235: W tensorflow/core/framework/cpu_allocator_impl.cc:80] Allocation of 142884000 exceeds 10% of free system memory.\n"
     ]
    },
    {
     "name": "stdout",
     "output_type": "stream",
     "text": [
      "8860/8860 [==============================] - 49s 5ms/step\n"
     ]
    }
   ],
   "source": [
    "predictions = model.predict([X_test_num, X_test_text],verbose = True)\n",
    "predictions = (predictions >= 0.5).astype(int)"
   ]
  },
  {
   "cell_type": "code",
   "execution_count": 58,
   "id": "6284615c-1b63-4a82-9f83-baf4fdeb311a",
   "metadata": {},
   "outputs": [
    {
     "name": "stdout",
     "output_type": "stream",
     "text": [
      "                precision    recall  f1-score   support\n",
      "\n",
      "nAMP (Class 0)       1.00      0.99      1.00    142500\n",
      " AMP (Class 1)       0.99      1.00      1.00    141000\n",
      "\n",
      "      accuracy                           1.00    283500\n",
      "     macro avg       1.00      1.00      1.00    283500\n",
      "  weighted avg       1.00      1.00      1.00    283500\n",
      "\n"
     ]
    }
   ],
   "source": [
    "from sklearn.metrics import classification_report,confusion_matrix\n",
    "\n",
    "print(classification_report(Y_test, predictions, target_names=['nAMP (Class 0)', 'AMP (Class 1)']))"
   ]
  },
  {
   "cell_type": "code",
   "execution_count": 59,
   "id": "ebe02abf-f7ef-4118-863d-4f56026f5a8f",
   "metadata": {},
   "outputs": [],
   "source": [
    "cm = confusion_matrix(Y_test, predictions)\n",
    "cm = pd.DataFrame(cm, index=['nAMP', 'AMP'], columns=['nAMP', 'AMP'])"
   ]
  },
  {
   "cell_type": "code",
   "execution_count": 60,
   "id": "2eeec075-5801-429e-af8e-fbea4503cc99",
   "metadata": {},
   "outputs": [
    {
     "data": {
      "image/png": "[encoded data removed]",
      "text/plain": [
       "<Figure size 1000x1000 with 2 Axes>"
      ]
     },
     "metadata": {},
     "output_type": "display_data"
    }
   ],
   "source": [
    "import seaborn as sns\n",
    "\n",
    "plt.figure(figsize=(10, 10))\n",
    "sns.heatmap(cm, cmap=\"Blues\", linecolor='black', linewidth=1, annot=True, fmt='d', xticklabels=cm.columns, yticklabels=cm.index)\n",
    "plt.title('Confusion Matrix')\n",
    "plt.show()"
   ]
  },
  {
   "cell_type": "code",
   "execution_count": null,
   "id": "2c1fd8b9-c922-4e1e-aec3-3acabc69baf5",
   "metadata": {},
   "outputs": [],
   "source": []
  },
  {
   "cell_type": "code",
   "execution_count": null,
   "id": "bb4c1123-78d4-41d9-bd4e-3e38241fee89",
   "metadata": {},
   "outputs": [],
   "source": []
  }
 ],
 "metadata": {
  "kernelspec": {
   "display_name": "Python 3 (ipykernel)",
   "language": "python",
   "name": "python3"
  },
  "language_info": {
   "codemirror_mode": {
    "name": "ipython",
    "version": 3
   },
   "file_extension": ".py",
   "mimetype": "text/x-python",
   "name": "python",
   "nbconvert_exporter": "python",
   "pygments_lexer": "ipython3",
   "version": "3.12.7"
  }
 },
 "nbformat": 4,
 "nbformat_minor": 5
}
