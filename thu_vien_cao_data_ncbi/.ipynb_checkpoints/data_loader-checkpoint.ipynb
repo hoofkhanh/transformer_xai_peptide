{
 "cells": [
  {
   "cell_type": "code",
   "execution_count": 1,
   "metadata": {},
   "outputs": [
    {
     "name": "stdout",
     "output_type": "stream",
     "text": [
      "Collecting Bio\n",
      "  Downloading bio-1.7.1-py3-none-any.whl.metadata (5.7 kB)\n",
      "Collecting biopython>=1.80 (from Bio)\n",
      "  Downloading biopython-1.85-cp312-cp312-win_amd64.whl.metadata (13 kB)\n",
      "Collecting gprofiler-official (from Bio)\n",
      "  Downloading gprofiler_official-1.0.0-py3-none-any.whl.metadata (11 kB)\n",
      "Collecting mygene (from Bio)\n",
      "  Downloading mygene-3.2.2-py2.py3-none-any.whl.metadata (10 kB)\n",
      "Requirement already satisfied: pandas in d:\\anaconda\\lib\\site-packages (from Bio) (2.2.2)\n",
      "Collecting pooch (from Bio)\n",
      "  Downloading pooch-1.8.2-py3-none-any.whl.metadata (10 kB)\n",
      "Requirement already satisfied: requests in d:\\anaconda\\lib\\site-packages (from Bio) (2.32.3)\n",
      "Requirement already satisfied: tqdm in d:\\anaconda\\lib\\site-packages (from Bio) (4.66.5)\n",
      "Requirement already satisfied: numpy in d:\\anaconda\\lib\\site-packages (from biopython>=1.80->Bio) (1.26.4)\n",
      "Collecting biothings-client>=0.2.6 (from mygene->Bio)\n",
      "  Downloading biothings_client-0.4.1-py3-none-any.whl.metadata (10 kB)\n",
      "Requirement already satisfied: python-dateutil>=2.8.2 in d:\\anaconda\\lib\\site-packages (from pandas->Bio) (2.9.0.post0)\n",
      "Requirement already satisfied: pytz>=2020.1 in d:\\anaconda\\lib\\site-packages (from pandas->Bio) (2024.1)\n",
      "Requirement already satisfied: tzdata>=2022.7 in d:\\anaconda\\lib\\site-packages (from pandas->Bio) (2023.3)\n",
      "Requirement already satisfied: platformdirs>=2.5.0 in d:\\anaconda\\lib\\site-packages (from pooch->Bio) (3.10.0)\n",
      "Requirement already satisfied: packaging>=20.0 in d:\\anaconda\\lib\\site-packages (from pooch->Bio) (24.1)\n",
      "Requirement already satisfied: charset-normalizer<4,>=2 in d:\\anaconda\\lib\\site-packages (from requests->Bio) (3.3.2)\n",
      "Requirement already satisfied: idna<4,>=2.5 in d:\\anaconda\\lib\\site-packages (from requests->Bio) (3.7)\n",
      "Requirement already satisfied: urllib3<3,>=1.21.1 in d:\\anaconda\\lib\\site-packages (from requests->Bio) (2.2.3)\n",
      "Requirement already satisfied: certifi>=2017.4.17 in d:\\anaconda\\lib\\site-packages (from requests->Bio) (2024.8.30)\n",
      "Requirement already satisfied: colorama in d:\\anaconda\\lib\\site-packages (from tqdm->Bio) (0.4.6)\n",
      "Requirement already satisfied: httpx>=0.22.0 in d:\\anaconda\\lib\\site-packages (from biothings-client>=0.2.6->mygene->Bio) (0.27.0)\n",
      "Requirement already satisfied: six>=1.5 in d:\\anaconda\\lib\\site-packages (from python-dateutil>=2.8.2->pandas->Bio) (1.16.0)\n",
      "Requirement already satisfied: anyio in d:\\anaconda\\lib\\site-packages (from httpx>=0.22.0->biothings-client>=0.2.6->mygene->Bio) (4.2.0)\n",
      "Requirement already satisfied: httpcore==1.* in d:\\anaconda\\lib\\site-packages (from httpx>=0.22.0->biothings-client>=0.2.6->mygene->Bio) (1.0.2)\n",
      "Requirement already satisfied: sniffio in d:\\anaconda\\lib\\site-packages (from httpx>=0.22.0->biothings-client>=0.2.6->mygene->Bio) (1.3.0)\n",
      "Requirement already satisfied: h11<0.15,>=0.13 in d:\\anaconda\\lib\\site-packages (from httpcore==1.*->httpx>=0.22.0->biothings-client>=0.2.6->mygene->Bio) (0.14.0)\n",
      "Downloading bio-1.7.1-py3-none-any.whl (280 kB)\n",
      "Downloading biopython-1.85-cp312-cp312-win_amd64.whl (2.8 MB)\n",
      "   ---------------------------------------- 0.0/2.8 MB ? eta -:--:--\n",
      "   -------------- ------------------------- 1.0/2.8 MB 5.6 MB/s eta 0:00:01\n",
      "   ---------------------- ----------------- 1.6/2.8 MB 4.2 MB/s eta 0:00:01\n",
      "   ---------------------------------------- 2.8/2.8 MB 4.5 MB/s eta 0:00:00\n",
      "Downloading gprofiler_official-1.0.0-py3-none-any.whl (9.3 kB)\n",
      "Downloading mygene-3.2.2-py2.py3-none-any.whl (5.4 kB)\n",
      "Downloading pooch-1.8.2-py3-none-any.whl (64 kB)\n",
      "Downloading biothings_client-0.4.1-py3-none-any.whl (46 kB)\n",
      "Installing collected packages: biopython, pooch, gprofiler-official, biothings-client, mygene, Bio\n",
      "Successfully installed Bio-1.7.1 biopython-1.85 biothings-client-0.4.1 gprofiler-official-1.0.0 mygene-3.2.2 pooch-1.8.2\n"
     ]
    }
   ],
   "source": [
    "! pip install Bio"
   ]
  },
  {
   "cell_type": "code",
   "execution_count": null,
   "metadata": {
    "scrolled": true
   },
   "outputs": [
    {
     "name": "stdout",
     "output_type": "stream",
     "text": [
      "📝 Đã có sẵn 725000 ID trong nAmp_peptides.fasta, sẽ bỏ qua những ID này.\n"
     ]
    }
   ],
   "source": [
    "def split_fasta_into_two(input_path):\n",
    "    with open(input_path, \"r\") as f:\n",
    "        content = f.read()\n",
    "\n",
    "    # Chia các bản ghi theo dấu '>'\n",
    "    records = content.strip().split(\">\")\n",
    "    records = [\">\" + record.strip() for record in records if record.strip()]\n",
    "\n",
    "    if len(records) != 2:\n",
    "        print(f\"❌ Số bản ghi khác 2 ({len(records)}). Không tách.\")\n",
    "        return\n",
    "\n",
    "    with open(\"record_1.fasta\", \"w\") as f1:\n",
    "        f1.write(records[0] + \"\\n\")\n",
    "        print(\"✔️ Ghi file record_1.fasta\")\n",
    "\n",
    "    with open(\"record_2.fasta\", \"w\") as f2:\n",
    "        f2.write(records[1] + \"\\n\")\n",
    "        print(\"✔️ Ghi file record_2.fasta\")\n"
   ]
  },
  {
   "cell_type": "code",
   "execution_count": 1,
   "metadata": {},
   "outputs": [
    {
     "name": "stdout",
     "output_type": "stream",
     "text": [
      "✔️ Ghi part_1.fasta (362500 record)\n",
      "✔️ Ghi part_2.fasta (362500 record)\n"
     ]
    }
   ],
   "source": [
    "# chia thành 2 file train và test_val\n",
    "\n",
    "def split_fasta_half(input_path):\n",
    "    with open(input_path, \"r\") as f:\n",
    "        lines = f.readlines()\n",
    "\n",
    "    records = []\n",
    "    current = []\n",
    "\n",
    "    for line in lines:\n",
    "        if line.startswith(\">\") and current:\n",
    "            records.append(current)\n",
    "            current = [line]\n",
    "        else:\n",
    "            current.append(line)\n",
    "\n",
    "    if current:\n",
    "        records.append(current)\n",
    "\n",
    "    total = len(records)\n",
    "    half = total // 2\n",
    "\n",
    "    with open(\"part_1.fasta\", \"w\") as f1:\n",
    "        for r in records[:half]:\n",
    "            f1.writelines(r)\n",
    "    print(f\"✔️ Ghi part_1.fasta ({half} record)\")\n",
    "\n",
    "    with open(\"part_2.fasta\", \"w\") as f2:\n",
    "        for r in records[half:]:\n",
    "            f2.writelines(r)\n",
    "    print(f\"✔️ Ghi part_2.fasta ({total - half} record)\")\n",
    "split_fasta_half('nAmp_peptides.fasta')"
   ]
  }
 ],
 "metadata": {
  "kernelspec": {
   "display_name": "Python 3 (ipykernel)",
   "language": "python",
   "name": "python3"
  },
  "language_info": {
   "codemirror_mode": {
    "name": "ipython",
    "version": 3
   },
   "file_extension": ".py",
   "mimetype": "text/x-python",
   "name": "python",
   "nbconvert_exporter": "python",
   "pygments_lexer": "ipython3",
   "version": "3.12.7"
  }
 },
 "nbformat": 4,
 "nbformat_minor": 4
}
