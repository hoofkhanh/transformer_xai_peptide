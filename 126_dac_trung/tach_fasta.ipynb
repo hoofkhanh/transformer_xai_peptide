{
 "cells": [
  {
   "cell_type": "code",
   "execution_count": 17,
   "id": "1cf1b13d-c5a9-4000-8063-22e59c5a08e5",
   "metadata": {},
   "outputs": [],
   "source": [
    "def split_fasta_file(input_file, output_prefix, num_parts=4):\n",
    "    # Đọc toàn bộ file\n",
    "    with open(input_file, 'r') as f:\n",
    "        lines = f.readlines()\n",
    "\n",
    "    total_lines = len(lines)\n",
    "    if total_lines % 2 != 0:\n",
    "        raise ValueError(\"File fasta bị lỗi: số dòng không chia hết cho 2\")\n",
    "\n",
    "    total_sequences = total_lines // 2\n",
    "    sequences_per_part = total_sequences // num_parts\n",
    "    remainder = total_sequences % num_parts  # số dư\n",
    "\n",
    "    print(f\"Tổng số sequence: {total_sequences}\")\n",
    "\n",
    "    # Xử lý tách file\n",
    "    start_seq = 0\n",
    "    for part in range(num_parts):\n",
    "        end_seq = start_seq + sequences_per_part\n",
    "        if part < remainder:\n",
    "            end_seq += 1  # chia đều số dư cho những phần đầu tiên\n",
    "\n",
    "        start_line = start_seq * 2\n",
    "        end_line = end_seq * 2\n",
    "\n",
    "        part_lines = lines[start_line:end_line]\n",
    "        num_sequences_in_part = len(part_lines) // 2\n",
    "\n",
    "        output_file = f\"{output_prefix}_part{part+1}.fasta\"\n",
    "        with open(output_file, 'w') as f:\n",
    "            f.writelines(part_lines)\n",
    "\n",
    "        print(f\"Đã ghi {output_file}: {num_sequences_in_part} sequence\")\n",
    "\n",
    "        start_seq = end_seq"
   ]
  },
  {
   "cell_type": "code",
   "execution_count": 28,
   "id": "b4c3c605-99bb-474d-a510-05e41cd641f1",
   "metadata": {},
   "outputs": [
    {
     "name": "stdout",
     "output_type": "stream",
     "text": [
      "Tổng số sequence: 2461058\n",
      "Đã ghi sequences_part1.fasta: 615265 sequence\n",
      "Đã ghi sequences_part2.fasta: 615265 sequence\n",
      "Đã ghi sequences_part3.fasta: 615264 sequence\n",
      "Đã ghi sequences_part4.fasta: 615264 sequence\n"
     ]
    }
   ],
   "source": [
    "split_fasta_file(\"separated_nAMP_notGenBank.fasta\", \"sequences\", num_parts=4)"
   ]
  },
  {
   "cell_type": "code",
   "execution_count": null,
   "id": "02927a17-a6f2-4d61-b613-e186a3ceb14f",
   "metadata": {},
   "outputs": [],
   "source": []
  }
 ],
 "metadata": {
  "kernelspec": {
   "display_name": "Python 3 (ipykernel)",
   "language": "python",
   "name": "python3"
  },
  "language_info": {
   "codemirror_mode": {
    "name": "ipython",
    "version": 3
   },
   "file_extension": ".py",
   "mimetype": "text/x-python",
   "name": "python",
   "nbconvert_exporter": "python",
   "pygments_lexer": "ipython3",
   "version": "3.12.4"
  }
 },
 "nbformat": 4,
 "nbformat_minor": 5
}
