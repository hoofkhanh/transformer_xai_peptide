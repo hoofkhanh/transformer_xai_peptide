{
 "cells": [
  {
   "cell_type": "code",
   "execution_count": 10,
   "id": "60d007ee-0b3a-4ca8-9e16-19c357643ff3",
   "metadata": {},
   "outputs": [
    {
     "name": "stdout",
     "output_type": "stream",
     "text": [
      "nAMP_notGenBank/nAMP_notGenBank_part1.csv: 615265 dòng dữ liệu (không tính header)\n",
      "nAMP_notGenBank/nAMP_notGenBank_part2.csv: 615265 dòng dữ liệu (không tính header)\n",
      "nAMP_notGenBank/nAMP_notGenBank_part3.csv: 615264 dòng dữ liệu (không tính header)\n",
      "nAMP_notGenBank/nAMP_notGenBank_part4.csv: 615264 dòng dữ liệu (không tính header)\n",
      "\n",
      "Đã gộp 4 file thành nAMP_notGenBank/nAMP_notGenBank.csv\n",
      "Tổng số dòng dữ liệu (không tính header): 2461058\n"
     ]
    }
   ],
   "source": [
    "import pandas as pd\n",
    "\n",
    "def merge_csv_files(file_list, output_file):\n",
    "    dfs = []\n",
    "    total_rows = 0\n",
    "\n",
    "    for file in file_list:\n",
    "        df = pd.read_csv(file)\n",
    "        dfs.append(df)\n",
    "        num_rows = len(df)\n",
    "        total_rows += num_rows\n",
    "        print(f\"{file}: {num_rows} dòng dữ liệu (không tính header)\")\n",
    "\n",
    "    merged_df = pd.concat(dfs, ignore_index=True)\n",
    "    merged_df.to_csv(output_file, index=False)\n",
    "\n",
    "    print(f\"\\nĐã gộp {len(file_list)} file thành {output_file}\")\n",
    "    print(f\"Tổng số dòng dữ liệu (không tính header): {total_rows}\")\n",
    "\n",
    "# Ví dụ sử dụng:\n",
    "file_list = ['nAMP_notGenBank/nAMP_notGenBank_part1.csv', 'nAMP_notGenBank/nAMP_notGenBank_part2.csv', 'nAMP_notGenBank/nAMP_notGenBank_part3.csv', 'nAMP_notGenBank/nAMP_notGenBank_part4.csv']\n",
    "output_file = 'nAMP_notGenBank/nAMP_notGenBank.csv'\n",
    "merge_csv_files(file_list, output_file)"
   ]
  },
  {
   "cell_type": "code",
   "execution_count": null,
   "id": "40e05976-3bd9-4769-9295-cab837a347c2",
   "metadata": {},
   "outputs": [],
   "source": []
  }
 ],
 "metadata": {
  "kernelspec": {
   "display_name": "Python 3 (ipykernel)",
   "language": "python",
   "name": "python3"
  },
  "language_info": {
   "codemirror_mode": {
    "name": "ipython",
    "version": 3
   },
   "file_extension": ".py",
   "mimetype": "text/x-python",
   "name": "python",
   "nbconvert_exporter": "python",
   "pygments_lexer": "ipython3",
   "version": "3.12.4"
  }
 },
 "nbformat": 4,
 "nbformat_minor": 5
}
