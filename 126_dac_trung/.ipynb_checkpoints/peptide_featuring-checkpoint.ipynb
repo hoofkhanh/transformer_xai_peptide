{
 "cells": [
  {
   "cell_type": "code",
   "execution_count": 4,
   "metadata": {},
   "outputs": [],
   "source": [
    "import pandas as pd\n",
    "from collections import defaultdict\n",
    "import math\n",
    "from Bio import SeqIO"
   ]
  },
  {
   "cell_type": "code",
   "execution_count": 6,
   "metadata": {},
   "outputs": [],
   "source": [
    "# data = pd.read_csv(r'D:\\jupyter_lab\\transformer_xai_peptide\\input\\full_feature_input\\amp_ncbi.csv')\n",
    "# data"
   ]
  },
  {
   "cell_type": "code",
   "execution_count": 174,
   "metadata": {},
   "outputs": [],
   "source": [
    "file_name = \"nAMP_notGenBank_part1.csv\""
   ]
  },
  {
   "cell_type": "code",
   "execution_count": 176,
   "metadata": {},
   "outputs": [],
   "source": [
    "# Đường dẫn tới tệp FASTA\n",
    "fasta_file = r\"C:\\Users\\hp\\anaconda3\\envs\\TH_TTNT\\src\\transformer_xai_peptide\\126_dac_trung\\sequences_part1.fasta\""
   ]
  },
  {
   "cell_type": "code",
   "execution_count": 178,
   "metadata": {},
   "outputs": [],
   "source": [
    "def fasta_to_dataframe(fasta_file, description):\n",
    "    \n",
    "    data = []\n",
    "    \n",
    "    # Duyệt qua từng record trong tệp FASTA\n",
    "    for record in SeqIO.parse(fasta_file, \"fasta\"):\n",
    "        # Lấy ID, mô tả, và chuỗi từ từng record\n",
    "        seq_id = record.id.split()[0]\n",
    "        if description == '':\n",
    "            description = record.description.split()[1]\n",
    "        sequence = str(record.seq)\n",
    "        \n",
    "        # Thêm thông tin vào danh sách\n",
    "        data.append({\n",
    "            \"ID\": seq_id,\n",
    "            \"Label\": description,\n",
    "            \"Sequence\": sequence\n",
    "        })\n",
    "    \n",
    "    # Tạo DataFrame từ danh sách dữ liệu\n",
    "    df = pd.DataFrame(data)\n",
    "    \n",
    "    return df"
   ]
  },
  {
   "cell_type": "code",
   "execution_count": 179,
   "metadata": {},
   "outputs": [
    {
     "data": {
      "text/plain": [
       "Index(['ID', 'Label', 'Sequence'], dtype='object')"
      ]
     },
     "execution_count": 179,
     "metadata": {},
     "output_type": "execute_result"
    }
   ],
   "source": [
    "# Gọi hàm để chuyển đổi tệp FASTA thành DataFrame\n",
    "df = fasta_to_dataframe(fasta_file, 'nAMP')\n",
    "\n",
    "# Xem dữ liệu\n",
    "df.columns"
   ]
  },
  {
   "cell_type": "code",
   "execution_count": 181,
   "metadata": {},
   "outputs": [],
   "source": [
    "def generate_distribution_features(sequence):\n",
    "    \"\"\"\n",
    "    Generate a dictionary of distribution descriptors for amino acid classes in a given sequence.\n",
    "    \n",
    "    Parameters:\n",
    "    - sequence (str): The amino acid sequence.\n",
    "\n",
    "    Returns:\n",
    "    - dict: A dictionary with distribution descriptors for various properties and classes.\n",
    "    \"\"\"\n",
    "\n",
    "    # Define the amino acid classes for each property\n",
    "    properties = {\n",
    "        \"hydrophobicity\": {\n",
    "            \"polar\": \"RKEDQN\",\n",
    "            \"neutral\": \"GASTPHY\",\n",
    "            \"hydrophobic\": \"CLVIMFW\"\n",
    "        },\n",
    "        \"vdw_volume\": {\n",
    "            \"small\": \"GASTPDC\",\n",
    "            \"medium\": \"NVEQIL\",\n",
    "            \"large\": \"MHKFRYW\"\n",
    "        },\n",
    "        \"polarity\": {\n",
    "            \"polar\": \"EDQNKR\",\n",
    "            \"neutral\": \"GASTPHY\",\n",
    "            \"nonpolar\": \"CLVIMFW\"\n",
    "        },\n",
    "        \"polarizability\": {\n",
    "            \"low\": \"GASDT\",\n",
    "            \"medium\": \"CPNVEQIL\",\n",
    "            \"high\": \"KMHFRYW\"\n",
    "        },\n",
    "        \"charge\": {\n",
    "            \"negative\": \"DE\",\n",
    "            \"neutral\": \"ACFGHILMNPQSTVWY\",\n",
    "            \"positive\": \"KR\"\n",
    "        },\n",
    "        \"secondary_structure\": {\n",
    "            \"helix\": \"EALMQKRH\",\n",
    "            \"sheet\": \"VIYCWT\",\n",
    "            \"coil\": \"GNPSD\"\n",
    "        },\n",
    "        \"solvent_accessibility\": {\n",
    "            \"buried\": \"ALFCGIVW\",\n",
    "            \"intermediate\": \"MPSTHY\",\n",
    "            \"exposed\": \"DEKNQR\"\n",
    "        }\n",
    "    }\n",
    "\n",
    "    def calculate_distribution(amino_class):\n",
    "        \"\"\"\n",
    "        Calculate distribution descriptors for a given amino acid class in a sequence.\n",
    "        Returns a dictionary with descriptors for the first, 20%, 40%, 60%, 80% and 100% residue positions.\n",
    "        \"\"\"\n",
    "        class_residues = [i for i, aa in enumerate(sequence) if aa in amino_class]\n",
    "        length = len(sequence)\n",
    "        total = len(class_residues)\n",
    "\n",
    "        if total == 0:\n",
    "            # No residues of this class in sequence\n",
    "            return {\"first\": 0, \"20%\": 0, \"40%\": 0, \"60%\": 0, \"80%\": 0, \"100%\": 0}\n",
    "\n",
    "        # Calculate descriptors based on positions in sequence\n",
    "        distribution = {}\n",
    "        for percentile, label in zip([0, 0.2, 0.4, 0.6, 0.8, 1.0], [\"first\", \"20%\", \"40%\", \"60%\", \"80%\", \"100%\"]):\n",
    "            position = math.floor(total * percentile)\n",
    "            if position >= total:  # Prevent index error\n",
    "                position = total - 1\n",
    "            residue_position = class_residues[position]\n",
    "            distribution[label] = (residue_position + 1) / length * 100  # Convert to percentage\n",
    "\n",
    "        return distribution\n",
    "\n",
    "    feature_dict = defaultdict(dict)\n",
    "\n",
    "    for prop, classes in properties.items():\n",
    "        for class_name, amino_class in classes.items():\n",
    "            # Calculate the distribution descriptors\n",
    "            distribution = calculate_distribution(amino_class)\n",
    "            for key, value in distribution.items():\n",
    "                feature_name = f\"{prop}_{class_name}_{key}\"\n",
    "                feature_dict[feature_name] = value\n",
    "\n",
    "    return dict(feature_dict)"
   ]
  },
  {
   "cell_type": "code",
   "execution_count": 182,
   "metadata": {},
   "outputs": [],
   "source": [
    "# # Áp dụng hàm generate_distribution_features cho từng chuỗi trong cột 'Sequence'\n",
    "# features_list = df['Sequence'].apply(generate_distribution_features)\n",
    "\n",
    "# # Chuyển đổi danh sách các đặc trưng thành DataFrame\n",
    "# features_df = pd.DataFrame(features_list.tolist())\n",
    "\n",
    "# # Nối DataFrame gốc với các đặc trưng mới\n",
    "# df_with_features = pd.concat([df, features_df], axis=1)\n",
    "\n",
    "# # Lưu DataFrame kết quả vào tệp CSV\n",
    "# output_file = r'D:\\jupyter_lab\\transformer_xai_peptide\\input\\full_feature_input\\amp_httpsapp.peptipedia.clactivity2.csv'\n",
    "# df_with_features.to_csv(output_file, index=False)\n",
    "\n",
    "# print(f\"Kết quả đã được lưu vào {output_file}\")\n"
   ]
  },
  {
   "cell_type": "code",
   "execution_count": 183,
   "metadata": {},
   "outputs": [
    {
     "name": "stdout",
     "output_type": "stream",
     "text": [
      "Kết quả đã được lưu vào C:\\Users\\hp\\anaconda3\\envs\\TH_TTNT\\src\\transformer_xai_peptide\\126_dac_trung\\AMP_notGenBank\\AMP_notGenBank_part4.csv\n",
      "Các cột đã được normalize: ['hydrophobicity_polar_first', 'hydrophobicity_polar_20%', 'hydrophobicity_polar_40%', 'hydrophobicity_polar_60%', 'hydrophobicity_polar_80%', 'hydrophobicity_polar_100%', 'hydrophobicity_neutral_first', 'hydrophobicity_neutral_20%', 'hydrophobicity_neutral_40%', 'hydrophobicity_neutral_60%', 'hydrophobicity_neutral_80%', 'hydrophobicity_neutral_100%', 'hydrophobicity_hydrophobic_first', 'hydrophobicity_hydrophobic_20%', 'hydrophobicity_hydrophobic_40%', 'hydrophobicity_hydrophobic_60%', 'hydrophobicity_hydrophobic_80%', 'hydrophobicity_hydrophobic_100%', 'vdw_volume_small_first', 'vdw_volume_small_20%', 'vdw_volume_small_40%', 'vdw_volume_small_60%', 'vdw_volume_small_80%', 'vdw_volume_small_100%', 'vdw_volume_medium_first', 'vdw_volume_medium_20%', 'vdw_volume_medium_40%', 'vdw_volume_medium_60%', 'vdw_volume_medium_80%', 'vdw_volume_medium_100%', 'vdw_volume_large_first', 'vdw_volume_large_20%', 'vdw_volume_large_40%', 'vdw_volume_large_60%', 'vdw_volume_large_80%', 'vdw_volume_large_100%', 'polarity_polar_first', 'polarity_polar_20%', 'polarity_polar_40%', 'polarity_polar_60%', 'polarity_polar_80%', 'polarity_polar_100%', 'polarity_neutral_first', 'polarity_neutral_20%', 'polarity_neutral_40%', 'polarity_neutral_60%', 'polarity_neutral_80%', 'polarity_neutral_100%', 'polarity_nonpolar_first', 'polarity_nonpolar_20%', 'polarity_nonpolar_40%', 'polarity_nonpolar_60%', 'polarity_nonpolar_80%', 'polarity_nonpolar_100%', 'polarizability_low_first', 'polarizability_low_20%', 'polarizability_low_40%', 'polarizability_low_60%', 'polarizability_low_80%', 'polarizability_low_100%', 'polarizability_medium_first', 'polarizability_medium_20%', 'polarizability_medium_40%', 'polarizability_medium_60%', 'polarizability_medium_80%', 'polarizability_medium_100%', 'polarizability_high_first', 'polarizability_high_20%', 'polarizability_high_40%', 'polarizability_high_60%', 'polarizability_high_80%', 'polarizability_high_100%', 'charge_negative_first', 'charge_negative_20%', 'charge_negative_40%', 'charge_negative_60%', 'charge_negative_80%', 'charge_negative_100%', 'charge_neutral_first', 'charge_neutral_20%', 'charge_neutral_40%', 'charge_neutral_60%', 'charge_neutral_80%', 'charge_neutral_100%', 'charge_positive_first', 'charge_positive_20%', 'charge_positive_40%', 'charge_positive_60%', 'charge_positive_80%', 'charge_positive_100%', 'secondary_structure_helix_first', 'secondary_structure_helix_20%', 'secondary_structure_helix_40%', 'secondary_structure_helix_60%', 'secondary_structure_helix_80%', 'secondary_structure_helix_100%', 'secondary_structure_sheet_first', 'secondary_structure_sheet_20%', 'secondary_structure_sheet_40%', 'secondary_structure_sheet_60%', 'secondary_structure_sheet_80%', 'secondary_structure_sheet_100%', 'secondary_structure_coil_first', 'secondary_structure_coil_20%', 'secondary_structure_coil_40%', 'secondary_structure_coil_60%', 'secondary_structure_coil_80%', 'secondary_structure_coil_100%', 'solvent_accessibility_buried_first', 'solvent_accessibility_buried_20%', 'solvent_accessibility_buried_40%', 'solvent_accessibility_buried_60%', 'solvent_accessibility_buried_80%', 'solvent_accessibility_buried_100%', 'solvent_accessibility_intermediate_first', 'solvent_accessibility_intermediate_20%', 'solvent_accessibility_intermediate_40%', 'solvent_accessibility_intermediate_60%', 'solvent_accessibility_intermediate_80%', 'solvent_accessibility_intermediate_100%', 'solvent_accessibility_exposed_first', 'solvent_accessibility_exposed_20%', 'solvent_accessibility_exposed_40%', 'solvent_accessibility_exposed_60%', 'solvent_accessibility_exposed_80%', 'solvent_accessibility_exposed_100%']\n",
      "Các cột KHÔNG normalize: ['ID', 'Label', 'Sequence']\n"
     ]
    }
   ],
   "source": [
    "import pandas as pd\n",
    "from sklearn.preprocessing import MinMaxScaler\n",
    "import os\n",
    "\n",
    "\n",
    "# Áp dụng hàm generate_distribution_features cho từng chuỗi trong cột 'Sequence'\n",
    "features_list = df['Sequence'].apply(generate_distribution_features)\n",
    "\n",
    "# Chuyển đổi danh sách các đặc trưng thành DataFrame\n",
    "features_df = pd.DataFrame(features_list.tolist())\n",
    "\n",
    "# Nối DataFrame gốc với các đặc trưng mới\n",
    "df_with_features = pd.concat([df, features_df], axis=1)\n",
    "\n",
    "# Bước 1: Chọn các cột cần normalize (loại trừ ID, Label, Sequence)\n",
    "cols_to_normalize = [col for col in df_with_features.columns \n",
    "                    if col not in ['ID', 'Label', 'Sequence'] \n",
    "                    and pd.api.types.is_numeric_dtype(df_with_features[col])]\n",
    "\n",
    "# Bước 2: Áp dụng Min-Max normalization cho các cột đã chọn\n",
    "scaler = MinMaxScaler()\n",
    "df_with_features[cols_to_normalize] = scaler.fit_transform(df_with_features[cols_to_normalize])\n",
    "\n",
    "# Bước 3: Lưu file CSV (đã được normalize)\n",
    "output_dir = r'C:\\Users\\hp\\anaconda3\\envs\\TH_TTNT\\src\\transformer_xai_peptide\\126_dac_trung\\nAMP_notGenBank'\n",
    "output_file = os.path.join(output_dir, file_name)\n",
    "\n",
    "df_with_features.to_csv(output_file, index=False)\n",
    "\n",
    "print(f\"Kết quả đã được lưu vào {output_file}\")\n",
    "print(\"Các cột đã được normalize:\", cols_to_normalize)\n",
    "print(\"Các cột KHÔNG normalize:\", ['ID', 'Label', 'Sequence'])"
   ]
  },
  {
   "cell_type": "code",
   "execution_count": null,
   "metadata": {},
   "outputs": [],
   "source": []
  },
  {
   "cell_type": "code",
   "execution_count": null,
   "metadata": {},
   "outputs": [],
   "source": []
  },
  {
   "cell_type": "code",
   "execution_count": null,
   "metadata": {},
   "outputs": [],
   "source": []
  },
  {
   "cell_type": "code",
   "execution_count": null,
   "metadata": {},
   "outputs": [],
   "source": []
  }
 ],
 "metadata": {
  "kernelspec": {
   "display_name": "Python 3 (ipykernel)",
   "language": "python",
   "name": "python3"
  },
  "language_info": {
   "codemirror_mode": {
    "name": "ipython",
    "version": 3
   },
   "file_extension": ".py",
   "mimetype": "text/x-python",
   "name": "python",
   "nbconvert_exporter": "python",
   "pygments_lexer": "ipython3",
   "version": "3.12.4"
  }
 },
 "nbformat": 4,
 "nbformat_minor": 4
}
