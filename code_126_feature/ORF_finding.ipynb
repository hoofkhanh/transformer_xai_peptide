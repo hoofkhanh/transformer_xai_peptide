{
 "cells": [
  {
   "cell_type": "code",
   "execution_count": null,
   "metadata": {},
   "outputs": [
    {
     "data": {
      "text/plain": [
       "[{'ORF': 'ATGCGATAA', 'RNA': 'AUGCGAUAA', 'Peptide': 'MR'},\n",
       " {'ORF': 'ATGCGATATAGCGTGTAA',\n",
       "  'RNA': 'AUGCGAUAUAGCGUGUAA',\n",
       "  'Peptide': 'MRYSV'},\n",
       " {'ORF': 'ATGTAG', 'RNA': 'AUGUAG', 'Peptide': 'M'}]"
      ]
     },
     "execution_count": 4,
     "metadata": {},
     "output_type": "execute_result"
    }
   ],
   "source": [
    "# Genetic code for translation\n",
    "genetic_code = {\n",
    "    'AUG': 'M', 'UUU': 'F', 'UUC': 'F', 'UUA': 'L', 'UUG': 'L',\n",
    "    'UCU': 'S', 'UCC': 'S', 'UCA': 'S', 'UCG': 'S',\n",
    "    'UAU': 'Y', 'UAC': 'Y', 'UGU': 'C', 'UGC': 'C',\n",
    "    'UGG': 'W', 'UAA': '*', 'UAG': '*', 'UGA': '*',\n",
    "    'CUU': 'L', 'CUC': 'L', 'CUA': 'L', 'CUG': 'L',\n",
    "    'CCU': 'P', 'CCC': 'P', 'CCA': 'P', 'CCG': 'P',\n",
    "    'CAU': 'H', 'CAC': 'H', 'CAA': 'Q', 'CAG': 'Q',\n",
    "    'CGU': 'R', 'CGC': 'R', 'CGA': 'R', 'CGG': 'R',\n",
    "    'AUU': 'I', 'AUC': 'I', 'AUA': 'I', 'ACU': 'T', 'ACC': 'T', 'ACA': 'T', 'ACG': 'T',\n",
    "    'AAU': 'N', 'AAC': 'N', 'AAA': 'K', 'AAG': 'K',\n",
    "    'AGU': 'S', 'AGC': 'S', 'AGA': 'R', 'AGG': 'R',\n",
    "    'GUU': 'V', 'GUC': 'V', 'GUA': 'V', 'GUG': 'V',\n",
    "    'GCU': 'A', 'GCC': 'A', 'GCA': 'A', 'GCG': 'A',\n",
    "    'GAU': 'D', 'GAC': 'D', 'GAA': 'E', 'GAG': 'E',\n",
    "    'GGU': 'G', 'GGC': 'G', 'GGA': 'G', 'GGG': 'G'\n",
    "}\n",
    "\n",
    "# Function to find all ORFs in a given DNA sequence\n",
    "def find_orfs(dna_seq):\n",
    "    orfs = []\n",
    "    start_codon = 'ATG'\n",
    "    stop_codons = ['TAA', 'TAG', 'TGA']\n",
    "    \n",
    "    # Check each reading frame\n",
    "    for frame in range(3):\n",
    "        seq_len = len(dna_seq)\n",
    "        for i in range(frame, seq_len, 3):\n",
    "            codon = dna_seq[i:i+3]\n",
    "            if codon == start_codon:\n",
    "                # Found start codon, look for stop codon\n",
    "                for j in range(i + 3, seq_len, 3):\n",
    "                    next_codon = dna_seq[j:j+3]\n",
    "                    if next_codon in stop_codons:\n",
    "                        orfs.append(dna_seq[i:j+3])\n",
    "                        break\n",
    "    return orfs\n",
    "\n",
    "# Function to transcribe DNA to RNA\n",
    "def transcribe_dna_to_rna(dna_seq):\n",
    "    return dna_seq.replace('T', 'U')\n",
    "\n",
    "# Function to translate RNA sequence to peptide sequence\n",
    "def translate_rna_to_peptide(rna_seq):\n",
    "    peptide = []\n",
    "    for i in range(0, len(rna_seq), 3):\n",
    "        codon = rna_seq[i:i+3]\n",
    "        if len(codon) == 3:\n",
    "            amino_acid = genetic_code.get(codon, '')\n",
    "            if amino_acid == '*':  # Stop codon\n",
    "                break\n",
    "            peptide.append(amino_acid)\n",
    "    return ''.join(peptide)\n",
    "\n",
    "# Main function to process the DNA sequence\n",
    "def process_dna_sequence(dna_seq):\n",
    "    orfs = find_orfs(dna_seq)\n",
    "    results = []\n",
    "    for orf in orfs:\n",
    "        rna_seq = transcribe_dna_to_rna(orf)\n",
    "        peptide_seq = translate_rna_to_peptide(rna_seq)\n",
    "        results.append({\n",
    "            \"ORF\": orf,\n",
    "            \"RNA\": rna_seq,\n",
    "            \"Peptide\": peptide_seq\n",
    "        })\n",
    "    return results\n",
    "\n",
    "# Example DNA sequence input\n",
    "dna_sequence = \"ATGCGATAAATGCGATATAGCGTGTAATGTAG\"\n",
    "results = process_dna_sequence(dna_sequence)\n",
    "results\n"
   ]
  }
 ],
 "metadata": {
  "kernelspec": {
   "display_name": "base",
   "language": "python",
   "name": "python3"
  },
  "language_info": {
   "codemirror_mode": {
    "name": "ipython",
    "version": 3
   },
   "file_extension": ".py",
   "mimetype": "text/x-python",
   "name": "python",
   "nbconvert_exporter": "python",
   "pygments_lexer": "ipython3",
   "version": "3.12.4"
  }
 },
 "nbformat": 4,
 "nbformat_minor": 2
}
