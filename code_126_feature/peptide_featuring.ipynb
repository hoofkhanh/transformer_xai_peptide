{
 "cells": [
  {
   "cell_type": "code",
   "execution_count": 1,
   "metadata": {},
   "outputs": [],
   "source": [
    "import pandas as pd\n",
    "from collections import defaultdict\n",
    "import math\n",
    "from Bio import SeqIO"
   ]
  },
  {
   "cell_type": "code",
   "execution_count": 2,
   "metadata": {},
   "outputs": [],
   "source": [
    "# Đường dẫn tới tệp FASTA\n",
    "fasta_file = r\"E:\\AMP_predict\\peptides.fasta\""
   ]
  },
  {
   "cell_type": "code",
   "execution_count": 5,
   "metadata": {},
   "outputs": [],
   "source": [
    "def fasta_to_dataframe(fasta_file):\n",
    "\n",
    "    data = []\n",
    "    \n",
    "    # Duyệt qua từng record trong tệp FASTA\n",
    "    for record in SeqIO.parse(fasta_file, \"fasta\"):\n",
    "        # Lấy ID, mô tả, và chuỗi từ từng record\n",
    "        seq_id = record.id.split()[0]\n",
    "        description = record.description.split()[1]\n",
    "        sequence = str(record.seq)\n",
    "        \n",
    "        # Thêm thông tin vào danh sách\n",
    "        data.append({\n",
    "            \"ID\": seq_id,\n",
    "            \"Label\": description,\n",
    "            \"Sequence\": sequence\n",
    "        })\n",
    "    \n",
    "    # Tạo DataFrame từ danh sách dữ liệu\n",
    "    df = pd.DataFrame(data)\n",
    "    \n",
    "    return df"
   ]
  },
  {
   "cell_type": "code",
   "execution_count": 6,
   "metadata": {},
   "outputs": [
    {
     "data": {
      "text/plain": [
       "Index(['ID', 'Label', 'Sequence'], dtype='object')"
      ]
     },
     "execution_count": 6,
     "metadata": {},
     "output_type": "execute_result"
    }
   ],
   "source": [
    "# Gọi hàm để chuyển đổi tệp FASTA thành DataFrame\n",
    "df = fasta_to_dataframe(fasta_file)\n",
    "\n",
    "# Xem dữ liệu\n",
    "df.columns"
   ]
  },
  {
   "cell_type": "code",
   "execution_count": 7,
   "metadata": {},
   "outputs": [],
   "source": [
    "def generate_distribution_features(sequence):\n",
    "    \"\"\"\n",
    "    Generate a dictionary of distribution descriptors for amino acid classes in a given sequence.\n",
    "    \n",
    "    Parameters:\n",
    "    - sequence (str): The amino acid sequence.\n",
    "\n",
    "    Returns:\n",
    "    - dict: A dictionary with distribution descriptors for various properties and classes.\n",
    "    \"\"\"\n",
    "\n",
    "    # Define the amino acid classes for each property\n",
    "    properties = {\n",
    "        \"hydrophobicity\": {\n",
    "            \"polar\": \"RKEDQN\",\n",
    "            \"neutral\": \"GASTPHY\",\n",
    "            \"hydrophobic\": \"CLVIMFW\"\n",
    "        },\n",
    "        \"vdw_volume\": {\n",
    "            \"small\": \"GASTPDC\",\n",
    "            \"medium\": \"NVEQIL\",\n",
    "            \"large\": \"MHKFRYW\"\n",
    "        },\n",
    "        \"polarity\": {\n",
    "            \"polar\": \"EDQNKR\",\n",
    "            \"neutral\": \"GASTPHY\",\n",
    "            \"nonpolar\": \"CLVIMFW\"\n",
    "        },\n",
    "        \"polarizability\": {\n",
    "            \"low\": \"GASDT\",\n",
    "            \"medium\": \"CPNVEQIL\",\n",
    "            \"high\": \"KMHFRYW\"\n",
    "        },\n",
    "        \"charge\": {\n",
    "            \"negative\": \"DE\",\n",
    "            \"neutral\": \"ACFGHILMNPQSTVWY\",\n",
    "            \"positive\": \"KR\"\n",
    "        },\n",
    "        \"secondary_structure\": {\n",
    "            \"helix\": \"EALMQKRH\",\n",
    "            \"sheet\": \"VIYCWT\",\n",
    "            \"coil\": \"GNPSD\"\n",
    "        },\n",
    "        \"solvent_accessibility\": {\n",
    "            \"buried\": \"ALFCGIVW\",\n",
    "            \"intermediate\": \"MPSTHY\",\n",
    "            \"exposed\": \"DEKNQR\"\n",
    "        }\n",
    "    }\n",
    "\n",
    "    def calculate_distribution(amino_class):\n",
    "        \"\"\"\n",
    "        Calculate distribution descriptors for a given amino acid class in a sequence.\n",
    "        Returns a dictionary with descriptors for the first, 20%, 40%, 60%, 80% and 100% residue positions.\n",
    "        \"\"\"\n",
    "        class_residues = [i for i, aa in enumerate(sequence) if aa in amino_class]\n",
    "        length = len(sequence)\n",
    "        total = len(class_residues)\n",
    "\n",
    "        if total == 0:\n",
    "            # No residues of this class in sequence\n",
    "            return {\"first\": 0, \"20%\": 0, \"40%\": 0, \"60%\": 0, \"80%\": 0, \"100%\": 0}\n",
    "\n",
    "        # Calculate descriptors based on positions in sequence\n",
    "        distribution = {}\n",
    "        for percentile, label in zip([0, 0.2, 0.4, 0.6, 0.8, 1.0], [\"first\", \"20%\", \"40%\", \"60%\", \"80%\", \"100%\"]):\n",
    "            position = math.floor(total * percentile)\n",
    "            if position >= total:  # Prevent index error\n",
    "                position = total - 1\n",
    "            residue_position = class_residues[position]\n",
    "            distribution[label] = (residue_position + 1) / length * 100  # Convert to percentage\n",
    "\n",
    "        return distribution\n",
    "\n",
    "    feature_dict = defaultdict(dict)\n",
    "\n",
    "    for prop, classes in properties.items():\n",
    "        for class_name, amino_class in classes.items():\n",
    "            # Calculate the distribution descriptors\n",
    "            distribution = calculate_distribution(amino_class)\n",
    "            for key, value in distribution.items():\n",
    "                feature_name = f\"{prop}_{class_name}_{key}\"\n",
    "                feature_dict[feature_name] = value\n",
    "\n",
    "    return dict(feature_dict)"
   ]
  },
  {
   "cell_type": "code",
   "execution_count": 8,
   "metadata": {},
   "outputs": [
    {
     "name": "stdout",
     "output_type": "stream",
     "text": [
      "Kết quả đã được lưu vào E:\\AMP_predict\\features.csv\n"
     ]
    }
   ],
   "source": [
    "# Áp dụng hàm generate_distribution_features cho từng chuỗi trong cột 'Sequence'\n",
    "features_list = df['Sequence'].apply(generate_distribution_features)\n",
    "\n",
    "# Chuyển đổi danh sách các đặc trưng thành DataFrame\n",
    "features_df = pd.DataFrame(features_list.tolist())\n",
    "\n",
    "# Nối DataFrame gốc với các đặc trưng mới\n",
    "df_with_features = pd.concat([df, features_df], axis=1)\n",
    "\n",
    "# Lưu DataFrame kết quả vào tệp CSV\n",
    "output_file = r'E:\\AMP_predict\\features.csv'\n",
    "df_with_features.to_csv(output_file, index=False)\n",
    "\n",
    "print(f\"Kết quả đã được lưu vào {output_file}\")\n"
   ]
  }
 ],
 "metadata": {
  "kernelspec": {
   "display_name": "base",
   "language": "python",
   "name": "python3"
  },
  "language_info": {
   "codemirror_mode": {
    "name": "ipython",
    "version": 3
   },
   "file_extension": ".py",
   "mimetype": "text/x-python",
   "name": "python",
   "nbconvert_exporter": "python",
   "pygments_lexer": "ipython3",
   "version": "3.12.4"
  }
 },
 "nbformat": 4,
 "nbformat_minor": 2
}
