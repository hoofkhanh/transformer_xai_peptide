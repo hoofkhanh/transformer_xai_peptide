{
 "cells": [
  {
   "cell_type": "markdown",
   "metadata": {},
   "source": [
    "# Global aligment"
   ]
  },
  {
   "cell_type": "code",
   "execution_count": 19,
   "metadata": {},
   "outputs": [
    {
     "name": "stdout",
     "output_type": "stream",
     "text": [
      "Aligned Sequence 1: M------H---G-----QNH----SKA--T-QGV-C----L-VA--------LILMHQ---------V----------YA-S----P------------IG--S-H-DSRLSLQQG--T-KLL-E----RRT--RMTP----L--WR--FMGT--KPTGAYC-R-DHFE-CST--QICSCCESSSYSSWGPHND-HH\n",
      "Aligned Sequence 2: MWWKDFPHRGSGRVTVSARHTVEVPRAWITGTAVLCAVVVLYVAQTQLPKNVLSLPGQKSVKPVAVTVTPQGWAFFTKSARSPEFEPFRWDGSTWTSASLGRHSEHGFDRVSRSQGIETALLLHEAGKATRTACELSPVQECLRKTRVATAVTNRTPDPTLCGRIAVMEQKPTPFAWRDLLPDARTPENAVLLDVSC\n",
      "Alignment Score: -216.0\n"
     ]
    }
   ],
   "source": [
    "import numpy as np\n",
    "\n",
    "# Scoring parameters\n",
    "MATCH_SCORE = 1\n",
    "MISMATCH_SCORE = -1\n",
    "GAP_PENALTY = -2\n",
    "\n",
    "# Function to create a scoring matrix for global alignment\n",
    "def create_score_matrix(seq1, seq2, match=MATCH_SCORE, mismatch=MISMATCH_SCORE, gap=GAP_PENALTY):\n",
    "    len1 = len(seq1)\n",
    "    len2 = len(seq2)\n",
    "\n",
    "    # Initialize the score matrix with zeros\n",
    "    score_matrix = np.zeros((len1 + 1, len2 + 1))\n",
    "\n",
    "    # Initialize the first row and column with gap penalties\n",
    "    for i in range(1, len1 + 1):\n",
    "        score_matrix[i][0] = gap * i\n",
    "    for j in range(1, len2 + 1):\n",
    "        score_matrix[0][j] = gap * j\n",
    "\n",
    "    # Fill the scoring matrix\n",
    "    for i in range(1, len1 + 1):\n",
    "        for j in range(1, len2 + 1):\n",
    "            match_mismatch = match if seq1[i - 1] == seq2[j - 1] else mismatch\n",
    "            score_matrix[i][j] = max(\n",
    "                score_matrix[i - 1][j - 1] + match_mismatch,  # Diagonal (match/mismatch)\n",
    "                score_matrix[i - 1][j] + gap,                 # Up (gap in seq2)\n",
    "                score_matrix[i][j - 1] + gap                  # Left (gap in seq1)\n",
    "            )\n",
    "    return score_matrix\n",
    "\n",
    "# Function to trace back through the scoring matrix to generate the optimal alignment\n",
    "def traceback(score_matrix, seq1, seq2, gap=GAP_PENALTY):\n",
    "    aligned_seq1 = []\n",
    "    aligned_seq2 = []\n",
    "    i, j = len(seq1), len(seq2)\n",
    "\n",
    "    # Traceback from bottom-right corner of the matrix\n",
    "    while i > 0 and j > 0:\n",
    "        current_score = score_matrix[i][j]\n",
    "        diagonal_score = score_matrix[i - 1][j - 1]\n",
    "        up_score = score_matrix[i - 1][j]\n",
    "        left_score = score_matrix[i][j - 1]\n",
    "\n",
    "        if current_score == diagonal_score + (MATCH_SCORE if seq1[i - 1] == seq2[j - 1] else MISMATCH_SCORE):\n",
    "            aligned_seq1.append(seq1[i - 1])\n",
    "            aligned_seq2.append(seq2[j - 1])\n",
    "            i -= 1\n",
    "            j -= 1\n",
    "        elif current_score == up_score + gap:\n",
    "            aligned_seq1.append(seq1[i - 1])\n",
    "            aligned_seq2.append('-')\n",
    "            i -= 1\n",
    "        elif current_score == left_score + gap:\n",
    "            aligned_seq1.append('-')\n",
    "            aligned_seq2.append(seq2[j - 1])\n",
    "            j -= 1\n",
    "\n",
    "    # Fill gaps for remaining unmatched characters in seq1 or seq2\n",
    "    while i > 0:\n",
    "        aligned_seq1.append(seq1[i - 1])\n",
    "        aligned_seq2.append('-')\n",
    "        i -= 1\n",
    "    while j > 0:\n",
    "        aligned_seq1.append('-')\n",
    "        aligned_seq2.append(seq2[j - 1])\n",
    "        j -= 1\n",
    "\n",
    "    # Reverse the aligned sequences since traceback was from the end\n",
    "    aligned_seq1 = ''.join(reversed(aligned_seq1))\n",
    "    aligned_seq2 = ''.join(reversed(aligned_seq2))\n",
    "\n",
    "    return aligned_seq1, aligned_seq2\n",
    "\n",
    "# Function to perform Needleman-Wunsch global alignment\n",
    "def needleman_wunsch(seq1, seq2):\n",
    "    score_matrix = create_score_matrix(seq1, seq2)\n",
    "    aligned_seq1, aligned_seq2 = traceback(score_matrix, seq1, seq2)\n",
    "    return aligned_seq1, aligned_seq2, score_matrix[-1][-1]\n",
    "\n",
    "# Example usage:\n",
    "seq1 = \"MHGQNHSKATQGVCLVALILMHQVYASPIGSHDSRLSLQQGTKLLERRTRMTPLWRFMGTKPTGAYCRDHFECSTQICSCCESSSYSSWGPHNDHH\"\n",
    "seq2 = \"MWWKDFPHRGSGRVTVSARHTVEVPRAWITGTAVLCAVVVLYVAQTQLPKNVLSLPGQKSVKPVAVTVTPQGWAFFTKSARSPEFEPFRWDGSTWTSASLGRHSEHGFDRVSRSQGIETALLLHEAGKATRTACELSPVQECLRKTRVATAVTNRTPDPTLCGRIAVMEQKPTPFAWRDLLPDARTPENAVLLDVSC\"\n",
    "\n",
    "aligned_seq1, aligned_seq2, score = needleman_wunsch(seq1, seq2)\n",
    "print(\"Aligned Sequence 1:\", aligned_seq1)\n",
    "print(\"Aligned Sequence 2:\", aligned_seq2)\n",
    "print(\"Alignment Score:\", score)\n"
   ]
  }
 ],
 "metadata": {
  "kernelspec": {
   "display_name": "base",
   "language": "python",
   "name": "python3"
  },
  "language_info": {
   "codemirror_mode": {
    "name": "ipython",
    "version": 3
   },
   "file_extension": ".py",
   "mimetype": "text/x-python",
   "name": "python",
   "nbconvert_exporter": "python",
   "pygments_lexer": "ipython3",
   "version": "3.12.4"
  }
 },
 "nbformat": 4,
 "nbformat_minor": 2
}
