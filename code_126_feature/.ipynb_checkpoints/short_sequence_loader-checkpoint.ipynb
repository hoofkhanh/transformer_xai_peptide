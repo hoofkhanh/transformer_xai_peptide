{
 "cells": [
  {
   "cell_type": "code",
   "execution_count": 35,
   "metadata": {},
   "outputs": [],
   "source": [
    "from Bio import Entrez, SeqIO"
   ]
  },
  {
   "cell_type": "code",
   "execution_count": 36,
   "metadata": {},
   "outputs": [],
   "source": [
    "# Hàm để tìm kiếm các peptide dựa trên từ khóa và giới hạn kích thước\n",
    "def search_peptides(term, retmax=5000):\n",
    "    handle = Entrez.esearch(\n",
    "        db=\"protein\",\n",
    "        term=term,\n",
    "        retmax=retmax,\n",
    "        retmode=\"xml\"\n",
    "    )\n",
    "    results = Entrez.read(handle)\n",
    "    handle.close()\n",
    "    return results[\"IdList\"]"
   ]
  },
  {
   "cell_type": "code",
   "execution_count": 37,
   "metadata": {},
   "outputs": [],
   "source": [
    "# Hàm để lấy trình tự từ NCBI dựa trên ID\n",
    "def fetch_sequences(id_list):\n",
    "    handle = Entrez.efetch(\n",
    "        db=\"protein\",\n",
    "        id=id_list,\n",
    "        rettype=\"fasta\",\n",
    "        retmode=\"text\"\n",
    "    )\n",
    "    sequences = list(SeqIO.parse(handle, \"fasta\"))\n",
    "    handle.close()\n",
    "    return sequences"
   ]
  },
  {
   "cell_type": "code",
   "execution_count": 38,
   "metadata": {},
   "outputs": [],
   "source": [
    "# Hàm để lọc trình tự theo độ dài từ 10 đến 50 amino acid\n",
    "def filter_sequences(sequences, min_len=10, max_len=50):\n",
    "    return [seq for seq in sequences if min_len <= len(seq.seq) <= max_len]"
   ]
  },
  {
   "cell_type": "code",
   "execution_count": 39,
   "metadata": {},
   "outputs": [],
   "source": [
    "# Lưu trình tự vào file với gán nhãn \"AMP\" hoặc \"nAMP\"\n",
    "def save_sequences_to_file(sequences, label, filename = \"10_50.fasta\"):\n",
    "    with open(filename, \"a\") as output_handle:\n",
    "        for seq in sequences:\n",
    "            seq.id = f\"{seq.id}\" \n",
    "            seq.description = f\"{label}\"\n",
    "            SeqIO.write(seq, output_handle, \"fasta\")"
   ]
  },
  {
   "cell_type": "code",
   "execution_count": 40,
   "metadata": {},
   "outputs": [],
   "source": [
    "# Tìm kiếm và xử lý AMP (antimicrobial peptides)\n",
    "amp_ids = search_peptides(\"antimicrobial peptide AND 10:50[Sequence Length]\")\n",
    "amp_sequences = fetch_sequences(amp_ids)\n",
    "filtered_amp_sequences = filter_sequences(amp_sequences)\n",
    "\n",
    "save_sequences_to_file(filtered_amp_sequences, \"AMP\")"
   ]
  },
  {
   "cell_type": "code",
   "execution_count": 41,
   "metadata": {},
   "outputs": [],
   "source": [
    "# Tìm kiếm và xử lý nAMP (non-antimicrobial peptides)\n",
    "namp_ids = search_peptides(\"NOT antimicrobial peptide AND 10:50[Sequence Length]\")\n",
    "namp_sequences = fetch_sequences(namp_ids)\n",
    "filtered_namp_sequences = filter_sequences(namp_sequences)\n",
    "\n",
    "save_sequences_to_file(filtered_namp_sequences, \"nAMP\")"
   ]
  }
 ],
 "metadata": {
  "kernelspec": {
   "display_name": "base",
   "language": "python",
   "name": "python3"
  },
  "language_info": {
   "codemirror_mode": {
    "name": "ipython",
    "version": 3
   },
   "file_extension": ".py",
   "mimetype": "text/x-python",
   "name": "python",
   "nbconvert_exporter": "python",
   "pygments_lexer": "ipython3",
   "version": "3.12.4"
  }
 },
 "nbformat": 4,
 "nbformat_minor": 2
}
