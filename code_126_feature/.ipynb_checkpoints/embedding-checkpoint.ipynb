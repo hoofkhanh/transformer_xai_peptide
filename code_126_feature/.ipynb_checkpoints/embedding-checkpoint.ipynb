{
 "cells": [
  {
   "cell_type": "code",
   "execution_count": 1,
   "metadata": {
    "executionInfo": {
     "elapsed": 10097,
     "status": "ok",
     "timestamp": 1731160547618,
     "user": {
      "displayName": "HocSau Thich",
      "userId": "08555065894262566577"
     },
     "user_tz": -420
    },
    "id": "U6ud5GGPgiJS"
   },
   "outputs": [],
   "source": [
    "from pandas import read_csv\n",
    "import tensorflow as tf\n",
    "import numpy as np\n",
    "from google.colab.drive import mount\n",
    "from sklearn.preprocessing import StandardScaler\n",
    "from tensorflow.keras.models import load_model\n"
   ]
  },
  {
   "cell_type": "code",
   "execution_count": 2,
   "metadata": {
    "colab": {
     "base_uri": "https://localhost:8080/"
    },
    "executionInfo": {
     "elapsed": 22338,
     "status": "ok",
     "timestamp": 1731160582904,
     "user": {
      "displayName": "HocSau Thich",
      "userId": "08555065894262566577"
     },
     "user_tz": -420
    },
    "id": "51qzOII8g3cs",
    "outputId": "662967dd-2143-42ea-c308-0d20be675bd0"
   },
   "outputs": [
    {
     "name": "stdout",
     "output_type": "stream",
     "text": [
      "Mounted at /content/drive\n"
     ]
    }
   ],
   "source": [
    "mount('/content/drive')"
   ]
  },
  {
   "cell_type": "code",
   "execution_count": 3,
   "metadata": {
    "colab": {
     "base_uri": "https://localhost:8080/"
    },
    "executionInfo": {
     "elapsed": 3,
     "status": "ok",
     "timestamp": 1731160583987,
     "user": {
      "displayName": "HocSau Thich",
      "userId": "08555065894262566577"
     },
     "user_tz": -420
    },
    "id": "M8WYiqcUhDhn",
    "outputId": "d729001d-b071-4cfc-d30e-79985b334d5d"
   },
   "outputs": [
    {
     "name": "stdout",
     "output_type": "stream",
     "text": [
      "/content/drive/MyDrive/BigData\n"
     ]
    }
   ],
   "source": [
    "%cd  '/content/drive/MyDrive/BigData'"
   ]
  },
  {
   "cell_type": "code",
   "execution_count": 4,
   "metadata": {
    "colab": {
     "base_uri": "https://localhost:8080/",
     "height": 256
    },
    "executionInfo": {
     "elapsed": 1685,
     "status": "ok",
     "timestamp": 1731160586884,
     "user": {
      "displayName": "HocSau Thich",
      "userId": "08555065894262566577"
     },
     "user_tz": -420
    },
    "id": "K4KmLl1agiJT",
    "outputId": "b35a3c6b-af44-4ec2-b872-e064f7b8e5ee"
   },
   "outputs": [
    {
     "data": {
      "application/vnd.google.colaboratory.intrinsic+json": {
       "type": "dataframe",
       "variable_name": "df"
      },
      "text/html": [
       "\n",
       "  <div id=\"df-b58005ef-324a-4508-98ad-cda37041b0ce\" class=\"colab-df-container\">\n",
       "    <div>\n",
       "<style scoped>\n",
       "    .dataframe tbody tr th:only-of-type {\n",
       "        vertical-align: middle;\n",
       "    }\n",
       "\n",
       "    .dataframe tbody tr th {\n",
       "        vertical-align: top;\n",
       "    }\n",
       "\n",
       "    .dataframe thead th {\n",
       "        text-align: right;\n",
       "    }\n",
       "</style>\n",
       "<table border=\"1\" class=\"dataframe\">\n",
       "  <thead>\n",
       "    <tr style=\"text-align: right;\">\n",
       "      <th></th>\n",
       "      <th>ID</th>\n",
       "      <th>Label</th>\n",
       "      <th>Sequence</th>\n",
       "      <th>hydrophobicity_polar_first</th>\n",
       "      <th>hydrophobicity_polar_20%</th>\n",
       "      <th>hydrophobicity_polar_40%</th>\n",
       "      <th>hydrophobicity_polar_60%</th>\n",
       "      <th>hydrophobicity_polar_80%</th>\n",
       "      <th>hydrophobicity_polar_100%</th>\n",
       "      <th>hydrophobicity_neutral_first</th>\n",
       "      <th>...</th>\n",
       "      <th>solvent_accessibility_intermediate_40%</th>\n",
       "      <th>solvent_accessibility_intermediate_60%</th>\n",
       "      <th>solvent_accessibility_intermediate_80%</th>\n",
       "      <th>solvent_accessibility_intermediate_100%</th>\n",
       "      <th>solvent_accessibility_exposed_first</th>\n",
       "      <th>solvent_accessibility_exposed_20%</th>\n",
       "      <th>solvent_accessibility_exposed_40%</th>\n",
       "      <th>solvent_accessibility_exposed_60%</th>\n",
       "      <th>solvent_accessibility_exposed_80%</th>\n",
       "      <th>solvent_accessibility_exposed_100%</th>\n",
       "    </tr>\n",
       "  </thead>\n",
       "  <tbody>\n",
       "    <tr>\n",
       "      <th>0</th>\n",
       "      <td>WP_395757889.1</td>\n",
       "      <td>AMP</td>\n",
       "      <td>MPYDSVYLEKRPPGALRTVWRKFYGDTTAMIGLYGCAGLLLLCVFG...</td>\n",
       "      <td>0.013514</td>\n",
       "      <td>0.189189</td>\n",
       "      <td>0.304054</td>\n",
       "      <td>0.631757</td>\n",
       "      <td>0.804054</td>\n",
       "      <td>1.000000</td>\n",
       "      <td>0.006757</td>\n",
       "      <td>...</td>\n",
       "      <td>0.371622</td>\n",
       "      <td>0.540541</td>\n",
       "      <td>0.736486</td>\n",
       "      <td>0.932432</td>\n",
       "      <td>0.013514</td>\n",
       "      <td>0.189189</td>\n",
       "      <td>0.304054</td>\n",
       "      <td>0.631757</td>\n",
       "      <td>0.804054</td>\n",
       "      <td>1.000000</td>\n",
       "    </tr>\n",
       "    <tr>\n",
       "      <th>1</th>\n",
       "      <td>WP_395755974.1</td>\n",
       "      <td>AMP</td>\n",
       "      <td>MKILIVEDDTLIQQGLAQAMARENYAYDCADSAVGASALLQSSHYS...</td>\n",
       "      <td>0.009091</td>\n",
       "      <td>0.254545</td>\n",
       "      <td>0.440909</td>\n",
       "      <td>0.636364</td>\n",
       "      <td>0.831818</td>\n",
       "      <td>0.990909</td>\n",
       "      <td>0.045455</td>\n",
       "      <td>...</td>\n",
       "      <td>0.377273</td>\n",
       "      <td>0.645455</td>\n",
       "      <td>0.845455</td>\n",
       "      <td>1.000000</td>\n",
       "      <td>0.009091</td>\n",
       "      <td>0.254545</td>\n",
       "      <td>0.440909</td>\n",
       "      <td>0.636364</td>\n",
       "      <td>0.831818</td>\n",
       "      <td>0.990909</td>\n",
       "    </tr>\n",
       "    <tr>\n",
       "      <th>2</th>\n",
       "      <td>WP_395732316.1</td>\n",
       "      <td>AMP</td>\n",
       "      <td>MDFSRKPTQDPEAWLDFAPEFSQSMARQVRGWIQRWEPDLAESIKW...</td>\n",
       "      <td>0.009852</td>\n",
       "      <td>0.182266</td>\n",
       "      <td>0.418719</td>\n",
       "      <td>0.605911</td>\n",
       "      <td>0.862069</td>\n",
       "      <td>0.995074</td>\n",
       "      <td>0.019704</td>\n",
       "      <td>...</td>\n",
       "      <td>0.399015</td>\n",
       "      <td>0.630542</td>\n",
       "      <td>0.783251</td>\n",
       "      <td>0.950739</td>\n",
       "      <td>0.009852</td>\n",
       "      <td>0.182266</td>\n",
       "      <td>0.418719</td>\n",
       "      <td>0.605911</td>\n",
       "      <td>0.862069</td>\n",
       "      <td>0.995074</td>\n",
       "    </tr>\n",
       "    <tr>\n",
       "      <th>3</th>\n",
       "      <td>WP_395723680.1</td>\n",
       "      <td>AMP</td>\n",
       "      <td>MDCSRTPTRDPETWLDLAPEFSQAMARQVRAWIQRWEPDLTESIKW...</td>\n",
       "      <td>0.009852</td>\n",
       "      <td>0.192118</td>\n",
       "      <td>0.477833</td>\n",
       "      <td>0.655172</td>\n",
       "      <td>0.866995</td>\n",
       "      <td>0.995074</td>\n",
       "      <td>0.019704</td>\n",
       "      <td>...</td>\n",
       "      <td>0.325123</td>\n",
       "      <td>0.497537</td>\n",
       "      <td>0.689655</td>\n",
       "      <td>0.921182</td>\n",
       "      <td>0.009852</td>\n",
       "      <td>0.192118</td>\n",
       "      <td>0.477833</td>\n",
       "      <td>0.655172</td>\n",
       "      <td>0.866995</td>\n",
       "      <td>0.995074</td>\n",
       "    </tr>\n",
       "    <tr>\n",
       "      <th>4</th>\n",
       "      <td>WP_395695240.1</td>\n",
       "      <td>AMP</td>\n",
       "      <td>MADRDTAGVTFETTVSSFGNNTGIEVPEEVIERLGRGKRPPVLVTV...</td>\n",
       "      <td>0.019231</td>\n",
       "      <td>0.205128</td>\n",
       "      <td>0.455128</td>\n",
       "      <td>0.717949</td>\n",
       "      <td>0.891026</td>\n",
       "      <td>1.000000</td>\n",
       "      <td>0.012821</td>\n",
       "      <td>...</td>\n",
       "      <td>0.346154</td>\n",
       "      <td>0.532051</td>\n",
       "      <td>0.762821</td>\n",
       "      <td>0.884615</td>\n",
       "      <td>0.019231</td>\n",
       "      <td>0.205128</td>\n",
       "      <td>0.455128</td>\n",
       "      <td>0.717949</td>\n",
       "      <td>0.891026</td>\n",
       "      <td>1.000000</td>\n",
       "    </tr>\n",
       "  </tbody>\n",
       "</table>\n",
       "<p>5 rows × 129 columns</p>\n",
       "</div>\n",
       "    <div class=\"colab-df-buttons\">\n",
       "\n",
       "  <div class=\"colab-df-container\">\n",
       "    <button class=\"colab-df-convert\" onclick=\"convertToInteractive('df-b58005ef-324a-4508-98ad-cda37041b0ce')\"\n",
       "            title=\"Convert this dataframe to an interactive table.\"\n",
       "            style=\"display:none;\">\n",
       "\n",
       "  <svg xmlns=\"http://www.w3.org/2000/svg\" height=\"24px\" viewBox=\"0 -960 960 960\">\n",
       "    <path d=\"M120-120v-720h720v720H120Zm60-500h600v-160H180v160Zm220 220h160v-160H400v160Zm0 220h160v-160H400v160ZM180-400h160v-160H180v160Zm440 0h160v-160H620v160ZM180-180h160v-160H180v160Zm440 0h160v-160H620v160Z\"/>\n",
       "  </svg>\n",
       "    </button>\n",
       "\n",
       "  <style>\n",
       "    .colab-df-container {\n",
       "      display:flex;\n",
       "      gap: 12px;\n",
       "    }\n",
       "\n",
       "    .colab-df-convert {\n",
       "      background-color: #E8F0FE;\n",
       "      border: none;\n",
       "      border-radius: 50%;\n",
       "      cursor: pointer;\n",
       "      display: none;\n",
       "      fill: #1967D2;\n",
       "      height: 32px;\n",
       "      padding: 0 0 0 0;\n",
       "      width: 32px;\n",
       "    }\n",
       "\n",
       "    .colab-df-convert:hover {\n",
       "      background-color: #E2EBFA;\n",
       "      box-shadow: 0px 1px 2px rgba(60, 64, 67, 0.3), 0px 1px 3px 1px rgba(60, 64, 67, 0.15);\n",
       "      fill: #174EA6;\n",
       "    }\n",
       "\n",
       "    .colab-df-buttons div {\n",
       "      margin-bottom: 4px;\n",
       "    }\n",
       "\n",
       "    [theme=dark] .colab-df-convert {\n",
       "      background-color: #3B4455;\n",
       "      fill: #D2E3FC;\n",
       "    }\n",
       "\n",
       "    [theme=dark] .colab-df-convert:hover {\n",
       "      background-color: #434B5C;\n",
       "      box-shadow: 0px 1px 3px 1px rgba(0, 0, 0, 0.15);\n",
       "      filter: drop-shadow(0px 1px 2px rgba(0, 0, 0, 0.3));\n",
       "      fill: #FFFFFF;\n",
       "    }\n",
       "  </style>\n",
       "\n",
       "    <script>\n",
       "      const buttonEl =\n",
       "        document.querySelector('#df-b58005ef-324a-4508-98ad-cda37041b0ce button.colab-df-convert');\n",
       "      buttonEl.style.display =\n",
       "        google.colab.kernel.accessAllowed ? 'block' : 'none';\n",
       "\n",
       "      async function convertToInteractive(key) {\n",
       "        const element = document.querySelector('#df-b58005ef-324a-4508-98ad-cda37041b0ce');\n",
       "        const dataTable =\n",
       "          await google.colab.kernel.invokeFunction('convertToInteractive',\n",
       "                                                    [key], {});\n",
       "        if (!dataTable) return;\n",
       "\n",
       "        const docLinkHtml = 'Like what you see? Visit the ' +\n",
       "          '<a target=\"_blank\" href=https://colab.research.google.com/notebooks/data_table.ipynb>data table notebook</a>'\n",
       "          + ' to learn more about interactive tables.';\n",
       "        element.innerHTML = '';\n",
       "        dataTable['output_type'] = 'display_data';\n",
       "        await google.colab.output.renderOutput(dataTable, element);\n",
       "        const docLink = document.createElement('div');\n",
       "        docLink.innerHTML = docLinkHtml;\n",
       "        element.appendChild(docLink);\n",
       "      }\n",
       "    </script>\n",
       "  </div>\n",
       "\n",
       "\n",
       "<div id=\"df-ca23e311-898e-4953-9166-387785bb74e5\">\n",
       "  <button class=\"colab-df-quickchart\" onclick=\"quickchart('df-ca23e311-898e-4953-9166-387785bb74e5')\"\n",
       "            title=\"Suggest charts\"\n",
       "            style=\"display:none;\">\n",
       "\n",
       "<svg xmlns=\"http://www.w3.org/2000/svg\" height=\"24px\"viewBox=\"0 0 24 24\"\n",
       "     width=\"24px\">\n",
       "    <g>\n",
       "        <path d=\"M19 3H5c-1.1 0-2 .9-2 2v14c0 1.1.9 2 2 2h14c1.1 0 2-.9 2-2V5c0-1.1-.9-2-2-2zM9 17H7v-7h2v7zm4 0h-2V7h2v10zm4 0h-2v-4h2v4z\"/>\n",
       "    </g>\n",
       "</svg>\n",
       "  </button>\n",
       "\n",
       "<style>\n",
       "  .colab-df-quickchart {\n",
       "      --bg-color: #E8F0FE;\n",
       "      --fill-color: #1967D2;\n",
       "      --hover-bg-color: #E2EBFA;\n",
       "      --hover-fill-color: #174EA6;\n",
       "      --disabled-fill-color: #AAA;\n",
       "      --disabled-bg-color: #DDD;\n",
       "  }\n",
       "\n",
       "  [theme=dark] .colab-df-quickchart {\n",
       "      --bg-color: #3B4455;\n",
       "      --fill-color: #D2E3FC;\n",
       "      --hover-bg-color: #434B5C;\n",
       "      --hover-fill-color: #FFFFFF;\n",
       "      --disabled-bg-color: #3B4455;\n",
       "      --disabled-fill-color: #666;\n",
       "  }\n",
       "\n",
       "  .colab-df-quickchart {\n",
       "    background-color: var(--bg-color);\n",
       "    border: none;\n",
       "    border-radius: 50%;\n",
       "    cursor: pointer;\n",
       "    display: none;\n",
       "    fill: var(--fill-color);\n",
       "    height: 32px;\n",
       "    padding: 0;\n",
       "    width: 32px;\n",
       "  }\n",
       "\n",
       "  .colab-df-quickchart:hover {\n",
       "    background-color: var(--hover-bg-color);\n",
       "    box-shadow: 0 1px 2px rgba(60, 64, 67, 0.3), 0 1px 3px 1px rgba(60, 64, 67, 0.15);\n",
       "    fill: var(--button-hover-fill-color);\n",
       "  }\n",
       "\n",
       "  .colab-df-quickchart-complete:disabled,\n",
       "  .colab-df-quickchart-complete:disabled:hover {\n",
       "    background-color: var(--disabled-bg-color);\n",
       "    fill: var(--disabled-fill-color);\n",
       "    box-shadow: none;\n",
       "  }\n",
       "\n",
       "  .colab-df-spinner {\n",
       "    border: 2px solid var(--fill-color);\n",
       "    border-color: transparent;\n",
       "    border-bottom-color: var(--fill-color);\n",
       "    animation:\n",
       "      spin 1s steps(1) infinite;\n",
       "  }\n",
       "\n",
       "  @keyframes spin {\n",
       "    0% {\n",
       "      border-color: transparent;\n",
       "      border-bottom-color: var(--fill-color);\n",
       "      border-left-color: var(--fill-color);\n",
       "    }\n",
       "    20% {\n",
       "      border-color: transparent;\n",
       "      border-left-color: var(--fill-color);\n",
       "      border-top-color: var(--fill-color);\n",
       "    }\n",
       "    30% {\n",
       "      border-color: transparent;\n",
       "      border-left-color: var(--fill-color);\n",
       "      border-top-color: var(--fill-color);\n",
       "      border-right-color: var(--fill-color);\n",
       "    }\n",
       "    40% {\n",
       "      border-color: transparent;\n",
       "      border-right-color: var(--fill-color);\n",
       "      border-top-color: var(--fill-color);\n",
       "    }\n",
       "    60% {\n",
       "      border-color: transparent;\n",
       "      border-right-color: var(--fill-color);\n",
       "    }\n",
       "    80% {\n",
       "      border-color: transparent;\n",
       "      border-right-color: var(--fill-color);\n",
       "      border-bottom-color: var(--fill-color);\n",
       "    }\n",
       "    90% {\n",
       "      border-color: transparent;\n",
       "      border-bottom-color: var(--fill-color);\n",
       "    }\n",
       "  }\n",
       "</style>\n",
       "\n",
       "  <script>\n",
       "    async function quickchart(key) {\n",
       "      const quickchartButtonEl =\n",
       "        document.querySelector('#' + key + ' button');\n",
       "      quickchartButtonEl.disabled = true;  // To prevent multiple clicks.\n",
       "      quickchartButtonEl.classList.add('colab-df-spinner');\n",
       "      try {\n",
       "        const charts = await google.colab.kernel.invokeFunction(\n",
       "            'suggestCharts', [key], {});\n",
       "      } catch (error) {\n",
       "        console.error('Error during call to suggestCharts:', error);\n",
       "      }\n",
       "      quickchartButtonEl.classList.remove('colab-df-spinner');\n",
       "      quickchartButtonEl.classList.add('colab-df-quickchart-complete');\n",
       "    }\n",
       "    (() => {\n",
       "      let quickchartButtonEl =\n",
       "        document.querySelector('#df-ca23e311-898e-4953-9166-387785bb74e5 button');\n",
       "      quickchartButtonEl.style.display =\n",
       "        google.colab.kernel.accessAllowed ? 'block' : 'none';\n",
       "    })();\n",
       "  </script>\n",
       "</div>\n",
       "\n",
       "    </div>\n",
       "  </div>\n"
      ],
      "text/plain": [
       "               ID Label                                           Sequence  \\\n",
       "0  WP_395757889.1   AMP  MPYDSVYLEKRPPGALRTVWRKFYGDTTAMIGLYGCAGLLLLCVFG...   \n",
       "1  WP_395755974.1   AMP  MKILIVEDDTLIQQGLAQAMARENYAYDCADSAVGASALLQSSHYS...   \n",
       "2  WP_395732316.1   AMP  MDFSRKPTQDPEAWLDFAPEFSQSMARQVRGWIQRWEPDLAESIKW...   \n",
       "3  WP_395723680.1   AMP  MDCSRTPTRDPETWLDLAPEFSQAMARQVRAWIQRWEPDLTESIKW...   \n",
       "4  WP_395695240.1   AMP  MADRDTAGVTFETTVSSFGNNTGIEVPEEVIERLGRGKRPPVLVTV...   \n",
       "\n",
       "   hydrophobicity_polar_first  hydrophobicity_polar_20%  \\\n",
       "0                    0.013514                  0.189189   \n",
       "1                    0.009091                  0.254545   \n",
       "2                    0.009852                  0.182266   \n",
       "3                    0.009852                  0.192118   \n",
       "4                    0.019231                  0.205128   \n",
       "\n",
       "   hydrophobicity_polar_40%  hydrophobicity_polar_60%  \\\n",
       "0                  0.304054                  0.631757   \n",
       "1                  0.440909                  0.636364   \n",
       "2                  0.418719                  0.605911   \n",
       "3                  0.477833                  0.655172   \n",
       "4                  0.455128                  0.717949   \n",
       "\n",
       "   hydrophobicity_polar_80%  hydrophobicity_polar_100%  \\\n",
       "0                  0.804054                   1.000000   \n",
       "1                  0.831818                   0.990909   \n",
       "2                  0.862069                   0.995074   \n",
       "3                  0.866995                   0.995074   \n",
       "4                  0.891026                   1.000000   \n",
       "\n",
       "   hydrophobicity_neutral_first  ...  solvent_accessibility_intermediate_40%  \\\n",
       "0                      0.006757  ...                                0.371622   \n",
       "1                      0.045455  ...                                0.377273   \n",
       "2                      0.019704  ...                                0.399015   \n",
       "3                      0.019704  ...                                0.325123   \n",
       "4                      0.012821  ...                                0.346154   \n",
       "\n",
       "   solvent_accessibility_intermediate_60%  \\\n",
       "0                                0.540541   \n",
       "1                                0.645455   \n",
       "2                                0.630542   \n",
       "3                                0.497537   \n",
       "4                                0.532051   \n",
       "\n",
       "   solvent_accessibility_intermediate_80%  \\\n",
       "0                                0.736486   \n",
       "1                                0.845455   \n",
       "2                                0.783251   \n",
       "3                                0.689655   \n",
       "4                                0.762821   \n",
       "\n",
       "   solvent_accessibility_intermediate_100%  \\\n",
       "0                                 0.932432   \n",
       "1                                 1.000000   \n",
       "2                                 0.950739   \n",
       "3                                 0.921182   \n",
       "4                                 0.884615   \n",
       "\n",
       "   solvent_accessibility_exposed_first  solvent_accessibility_exposed_20%  \\\n",
       "0                             0.013514                           0.189189   \n",
       "1                             0.009091                           0.254545   \n",
       "2                             0.009852                           0.182266   \n",
       "3                             0.009852                           0.192118   \n",
       "4                             0.019231                           0.205128   \n",
       "\n",
       "   solvent_accessibility_exposed_40%  solvent_accessibility_exposed_60%  \\\n",
       "0                           0.304054                           0.631757   \n",
       "1                           0.440909                           0.636364   \n",
       "2                           0.418719                           0.605911   \n",
       "3                           0.477833                           0.655172   \n",
       "4                           0.455128                           0.717949   \n",
       "\n",
       "   solvent_accessibility_exposed_80%  solvent_accessibility_exposed_100%  \n",
       "0                           0.804054                            1.000000  \n",
       "1                           0.831818                            0.990909  \n",
       "2                           0.862069                            0.995074  \n",
       "3                           0.866995                            0.995074  \n",
       "4                           0.891026                            1.000000  \n",
       "\n",
       "[5 rows x 129 columns]"
      ]
     },
     "execution_count": 4,
     "metadata": {},
     "output_type": "execute_result"
    }
   ],
   "source": [
    "df = read_csv('./features.csv')\n",
    "df.head()"
   ]
  },
  {
   "cell_type": "code",
   "execution_count": 5,
   "metadata": {
    "executionInfo": {
     "elapsed": 314,
     "status": "ok",
     "timestamp": 1731160589404,
     "user": {
      "displayName": "HocSau Thich",
      "userId": "08555065894262566577"
     },
     "user_tz": -420
    },
    "id": "wlXdM5SxgiJT"
   },
   "outputs": [],
   "source": [
    "df['Label'] = df['Label'].map({'nAMP': 0, 'AMP': 1})"
   ]
  },
  {
   "cell_type": "code",
   "execution_count": 7,
   "metadata": {
    "colab": {
     "base_uri": "https://localhost:8080/"
    },
    "executionInfo": {
     "elapsed": 448,
     "status": "ok",
     "timestamp": 1731160609830,
     "user": {
      "displayName": "HocSau Thich",
      "userId": "08555065894262566577"
     },
     "user_tz": -420
    },
    "id": "grJD286QgiJU",
    "outputId": "ea3317bf-96f3-4ce5-ee33-2f88971cca30"
   },
   "outputs": [
    {
     "data": {
      "text/plain": [
       "array([1, 1, 1, ..., 0, 0, 0])"
      ]
     },
     "execution_count": 7,
     "metadata": {},
     "output_type": "execute_result"
    }
   ],
   "source": [
    "y = df['Label'].values\n",
    "y"
   ]
  },
  {
   "cell_type": "code",
   "execution_count": 8,
   "metadata": {
    "executionInfo": {
     "elapsed": 301,
     "status": "ok",
     "timestamp": 1731160614153,
     "user": {
      "displayName": "HocSau Thich",
      "userId": "08555065894262566577"
     },
     "user_tz": -420
    },
    "id": "7oVzQe6lgiJV"
   },
   "outputs": [],
   "source": [
    "# Các tham số\n",
    "\n",
    "#max_length = 200\n",
    "amino_acids = \"ACDEFGHIKLMNPQRSTVWXY\"\n",
    "num_amino_acids = len(amino_acids)\n",
    "dic_to_index = {val: i + 1 for i, val in enumerate(amino_acids)}\n",
    "index_to_dic = {i + 1: val for i, val in enumerate(amino_acids)}"
   ]
  },
  {
   "cell_type": "code",
   "execution_count": 9,
   "metadata": {
    "executionInfo": {
     "elapsed": 4149,
     "status": "ok",
     "timestamp": 1731160619573,
     "user": {
      "displayName": "HocSau Thich",
      "userId": "08555065894262566577"
     },
     "user_tz": -420
    },
    "id": "s97trkwIgiJV"
   },
   "outputs": [],
   "source": [
    "sequences = df['Sequence'].values\n",
    "def encode_sequence(sequence):\n",
    "    return [dic_to_index[nuc] for nuc in sequence]\n",
    "\n",
    "encoded_sequences = [encode_sequence(seq) for seq in sequences]\n",
    "\n",
    "max_length = max([len(seq) for seq in encoded_sequences])\n",
    "\n",
    "for i in range(len(encoded_sequences)):\n",
    "    if len(encoded_sequences[i]) < max_length:\n",
    "        encoded_sequences[i].extend([0] * (max_length - len(encoded_sequences[i])))\n",
    "X = np.array(encoded_sequences)\n"
   ]
  },
  {
   "cell_type": "code",
   "execution_count": 9,
   "metadata": {
    "colab": {
     "base_uri": "https://localhost:8080/"
    },
    "executionInfo": {
     "elapsed": 354,
     "status": "ok",
     "timestamp": 1731155094194,
     "user": {
      "displayName": "HocSau Thich",
      "userId": "08555065894262566577"
     },
     "user_tz": -420
    },
    "id": "twLDf6FSgiJW",
    "outputId": "59789570-4bca-4350-c07b-9173376c4faf"
   },
   "outputs": [
    {
     "data": {
      "text/plain": [
       "(6000, 9624)"
      ]
     },
     "execution_count": 9,
     "metadata": {},
     "output_type": "execute_result"
    }
   ],
   "source": [
    "X.shape"
   ]
  },
  {
   "cell_type": "code",
   "execution_count": 10,
   "metadata": {
    "colab": {
     "base_uri": "https://localhost:8080/",
     "height": 307
    },
    "executionInfo": {
     "elapsed": 398,
     "status": "ok",
     "timestamp": 1731160623948,
     "user": {
      "displayName": "HocSau Thich",
      "userId": "08555065894262566577"
     },
     "user_tz": -420
    },
    "id": "t1qiil6CgiJW",
    "outputId": "e1ac52ac-2870-4348-cc3d-485ef084bb30"
   },
   "outputs": [
    {
     "name": "stderr",
     "output_type": "stream",
     "text": [
      "/usr/local/lib/python3.10/dist-packages/keras/src/layers/core/embedding.py:90: UserWarning: Argument `input_length` is deprecated. Just remove it.\n",
      "  warnings.warn(\n"
     ]
    },
    {
     "data": {
      "text/html": [
       "<pre style=\"white-space:pre;overflow-x:auto;line-height:normal;font-family:Menlo,'DejaVu Sans Mono',consolas,'Courier New',monospace\"><span style=\"font-weight: bold\">Model: \"sequential\"</span>\n",
       "</pre>\n"
      ],
      "text/plain": [
       "\u001b[1mModel: \"sequential\"\u001b[0m\n"
      ]
     },
     "metadata": {},
     "output_type": "display_data"
    },
    {
     "data": {
      "text/html": [
       "<pre style=\"white-space:pre;overflow-x:auto;line-height:normal;font-family:Menlo,'DejaVu Sans Mono',consolas,'Courier New',monospace\">┏━━━━━━━━━━━━━━━━━━━━━━━━━━━━━━━━━━━━━━┳━━━━━━━━━━━━━━━━━━━━━━━━━━━━━┳━━━━━━━━━━━━━━━━━┓\n",
       "┃<span style=\"font-weight: bold\"> Layer (type)                         </span>┃<span style=\"font-weight: bold\"> Output Shape                </span>┃<span style=\"font-weight: bold\">         Param # </span>┃\n",
       "┡━━━━━━━━━━━━━━━━━━━━━━━━━━━━━━━━━━━━━━╇━━━━━━━━━━━━━━━━━━━━━━━━━━━━━╇━━━━━━━━━━━━━━━━━┩\n",
       "│ embedding (<span style=\"color: #0087ff; text-decoration-color: #0087ff\">Embedding</span>)                │ ?                           │     <span style=\"color: #00af00; text-decoration-color: #00af00\">0</span> (unbuilt) │\n",
       "├──────────────────────────────────────┼─────────────────────────────┼─────────────────┤\n",
       "│ bidirectional (<span style=\"color: #0087ff; text-decoration-color: #0087ff\">Bidirectional</span>)        │ ?                           │     <span style=\"color: #00af00; text-decoration-color: #00af00\">0</span> (unbuilt) │\n",
       "├──────────────────────────────────────┼─────────────────────────────┼─────────────────┤\n",
       "│ dense (<span style=\"color: #0087ff; text-decoration-color: #0087ff\">Dense</span>)                        │ ?                           │     <span style=\"color: #00af00; text-decoration-color: #00af00\">0</span> (unbuilt) │\n",
       "├──────────────────────────────────────┼─────────────────────────────┼─────────────────┤\n",
       "│ dense_1 (<span style=\"color: #0087ff; text-decoration-color: #0087ff\">Dense</span>)                      │ ?                           │     <span style=\"color: #00af00; text-decoration-color: #00af00\">0</span> (unbuilt) │\n",
       "└──────────────────────────────────────┴─────────────────────────────┴─────────────────┘\n",
       "</pre>\n"
      ],
      "text/plain": [
       "┏━━━━━━━━━━━━━━━━━━━━━━━━━━━━━━━━━━━━━━┳━━━━━━━━━━━━━━━━━━━━━━━━━━━━━┳━━━━━━━━━━━━━━━━━┓\n",
       "┃\u001b[1m \u001b[0m\u001b[1mLayer (type)                        \u001b[0m\u001b[1m \u001b[0m┃\u001b[1m \u001b[0m\u001b[1mOutput Shape               \u001b[0m\u001b[1m \u001b[0m┃\u001b[1m \u001b[0m\u001b[1m        Param #\u001b[0m\u001b[1m \u001b[0m┃\n",
       "┡━━━━━━━━━━━━━━━━━━━━━━━━━━━━━━━━━━━━━━╇━━━━━━━━━━━━━━━━━━━━━━━━━━━━━╇━━━━━━━━━━━━━━━━━┩\n",
       "│ embedding (\u001b[38;5;33mEmbedding\u001b[0m)                │ ?                           │     \u001b[38;5;34m0\u001b[0m (unbuilt) │\n",
       "├──────────────────────────────────────┼─────────────────────────────┼─────────────────┤\n",
       "│ bidirectional (\u001b[38;5;33mBidirectional\u001b[0m)        │ ?                           │     \u001b[38;5;34m0\u001b[0m (unbuilt) │\n",
       "├──────────────────────────────────────┼─────────────────────────────┼─────────────────┤\n",
       "│ dense (\u001b[38;5;33mDense\u001b[0m)                        │ ?                           │     \u001b[38;5;34m0\u001b[0m (unbuilt) │\n",
       "├──────────────────────────────────────┼─────────────────────────────┼─────────────────┤\n",
       "│ dense_1 (\u001b[38;5;33mDense\u001b[0m)                      │ ?                           │     \u001b[38;5;34m0\u001b[0m (unbuilt) │\n",
       "└──────────────────────────────────────┴─────────────────────────────┴─────────────────┘\n"
      ]
     },
     "metadata": {},
     "output_type": "display_data"
    },
    {
     "data": {
      "text/html": [
       "<pre style=\"white-space:pre;overflow-x:auto;line-height:normal;font-family:Menlo,'DejaVu Sans Mono',consolas,'Courier New',monospace\"><span style=\"font-weight: bold\"> Total params: </span><span style=\"color: #00af00; text-decoration-color: #00af00\">0</span> (0.00 B)\n",
       "</pre>\n"
      ],
      "text/plain": [
       "\u001b[1m Total params: \u001b[0m\u001b[38;5;34m0\u001b[0m (0.00 B)\n"
      ]
     },
     "metadata": {},
     "output_type": "display_data"
    },
    {
     "data": {
      "text/html": [
       "<pre style=\"white-space:pre;overflow-x:auto;line-height:normal;font-family:Menlo,'DejaVu Sans Mono',consolas,'Courier New',monospace\"><span style=\"font-weight: bold\"> Trainable params: </span><span style=\"color: #00af00; text-decoration-color: #00af00\">0</span> (0.00 B)\n",
       "</pre>\n"
      ],
      "text/plain": [
       "\u001b[1m Trainable params: \u001b[0m\u001b[38;5;34m0\u001b[0m (0.00 B)\n"
      ]
     },
     "metadata": {},
     "output_type": "display_data"
    },
    {
     "data": {
      "text/html": [
       "<pre style=\"white-space:pre;overflow-x:auto;line-height:normal;font-family:Menlo,'DejaVu Sans Mono',consolas,'Courier New',monospace\"><span style=\"font-weight: bold\"> Non-trainable params: </span><span style=\"color: #00af00; text-decoration-color: #00af00\">0</span> (0.00 B)\n",
       "</pre>\n"
      ],
      "text/plain": [
       "\u001b[1m Non-trainable params: \u001b[0m\u001b[38;5;34m0\u001b[0m (0.00 B)\n"
      ]
     },
     "metadata": {},
     "output_type": "display_data"
    }
   ],
   "source": [
    "# Step 2: Define the model in TensorFlow\n",
    "# We will use an Embedding layer followed by an LSTM layer to learn sequence-level embeddings\n",
    "\n",
    "# Parameters\n",
    "embedding_dim = 32  # Dimensionality of the embedding vector\n",
    "\n",
    "lstm_units = 16    # Number of LSTM units (so nay sua khi nao vay?)\n",
    "\n",
    "# Define the model\n",
    "model = tf.keras.Sequential([\n",
    "    # Embedding Layer\n",
    "    tf.keras.layers.Embedding(input_dim = num_amino_acids + 1, output_dim = embedding_dim, input_length = max_length),\n",
    "\n",
    "    # LSTM Layer\n",
    "    #tf.keras.layers.LSTM(lstm_units, return_sequences=False),  # return_sequences=False to output a single vector\n",
    "    tf.keras.layers.Bidirectional(tf.keras.layers.LSTM(units = lstm_units)),\n",
    "\n",
    "    # Dense Layers for classification (optional, depends on your task)\n",
    "    tf.keras.layers.Dense(units = 16, activation='relu'),\n",
    "    tf.keras.layers.Dense(units = 1, activation='sigmoid')  # Example output layer (for classification)\n",
    "])\n",
    "\n",
    "# Step 3: Compile the model\n",
    "model.compile(optimizer='adam', loss='binary_crossentropy', metrics=['accuracy'])\n",
    "model.summary()\n",
    "\n",
    "# Step 4: Train the model (dummy labels for illustration purposes)\n",
    "# For this example, let's assume the sequences are labeled for a classification task (e.g., 0, 1, 2, 3)\n",
    "#labels = np.array([0, 1, 2])\n",
    "\n",
    "# Train the model\n",
    "\n",
    "\n",
    "# Step 5: Get the embeddings for a sequence\n",
    "# sequence = \"ATGCAAA\"  # Example sequence\n",
    "# encoded_sequence = encode_sequence(sequence)  # Encode the sequence\n",
    "# encoded_sequence = np.expand_dims(encoded_sequence, axis=0)  # Add batch dimension\n",
    "\n",
    "# # Get the embedding output\n",
    "# embedding_output = model.predict(encoded_sequence)\n",
    "\n",
    "# print(f\"Embedding for sequence {sequence}: {embedding_output}\")\n",
    "#model.load_weights('./model.keras')\n"
   ]
  },
  {
   "cell_type": "code",
   "execution_count": 11,
   "metadata": {
    "colab": {
     "base_uri": "https://localhost:8080/"
    },
    "executionInfo": {
     "elapsed": 1346339,
     "status": "ok",
     "timestamp": 1731156461151,
     "user": {
      "displayName": "HocSau Thich",
      "userId": "08555065894262566577"
     },
     "user_tz": -420
    },
    "id": "wtZTR97Di6lq",
    "outputId": "261ff57c-5c73-4bb7-aeff-3921c182b5d8"
   },
   "outputs": [
    {
     "name": "stdout",
     "output_type": "stream",
     "text": [
      "\u001b[1m3000/3000\u001b[0m \u001b[32m━━━━━━━━━━━━━━━━━━━━\u001b[0m\u001b[37m\u001b[0m \u001b[1m1343s\u001b[0m 445ms/step - accuracy: 0.6640 - loss: 0.5986\n"
     ]
    },
    {
     "data": {
      "text/plain": [
       "<keras.src.callbacks.history.History at 0x7aad2c876680>"
      ]
     },
     "execution_count": 11,
     "metadata": {},
     "output_type": "execute_result"
    }
   ],
   "source": [
    "model.fit(X, y, epochs=1, batch_size=2)\n"
   ]
  },
  {
   "cell_type": "code",
   "execution_count": 13,
   "metadata": {
    "executionInfo": {
     "elapsed": 336,
     "status": "ok",
     "timestamp": 1731156477641,
     "user": {
      "displayName": "HocSau Thich",
      "userId": "08555065894262566577"
     },
     "user_tz": -420
    },
    "id": "jm77D3ami1-l"
   },
   "outputs": [],
   "source": [
    "model.save('./model.keras')"
   ]
  },
  {
   "cell_type": "code",
   "execution_count": 16,
   "metadata": {
    "executionInfo": {
     "elapsed": 809,
     "status": "ok",
     "timestamp": 1731156565150,
     "user": {
      "displayName": "HocSau Thich",
      "userId": "08555065894262566577"
     },
     "user_tz": -420
    },
    "id": "Zm5Lzney-JV2"
   },
   "outputs": [],
   "source": [
    "model2= load_model('./model.keras')"
   ]
  },
  {
   "cell_type": "code",
   "execution_count": 12,
   "metadata": {
    "colab": {
     "base_uri": "https://localhost:8080/",
     "height": 428
    },
    "executionInfo": {
     "elapsed": 855,
     "status": "error",
     "timestamp": 1731156462005,
     "user": {
      "displayName": "HocSau Thich",
      "userId": "08555065894262566577"
     },
     "user_tz": -420
    },
    "id": "VcfEm-GCHzsy",
    "outputId": "3df0b8ac-1e82-4476-dde3-87d2f4f7f85d"
   },
   "outputs": [
    {
     "name": "stderr",
     "output_type": "stream",
     "text": [
      "/usr/local/lib/python3.10/dist-packages/keras/src/saving/saving_lib.py:576: UserWarning: Skipping variable loading for optimizer 'adam', because it has 24 variables whereas the saved optimizer has 2 variables. \n",
      "  saveable.load_own_variables(weights_store.get(inner_path))\n"
     ]
    },
    {
     "ename": "ValueError",
     "evalue": "A total of 5 objects could not be loaded. Example error message for object <Embedding name=embedding, built=True>:\n\nLayer 'embedding' expected 1 variables, but received 0 variables during loading. Expected: ['embeddings']\n\nList of objects that could not be loaded:\n[<Embedding name=embedding, built=True>, <LSTMCell name=lstm_cell, built=True>, <LSTMCell name=lstm_cell, built=True>, <Dense name=dense, built=True>, <Dense name=dense_1, built=True>]",
     "output_type": "error",
     "traceback": [
      "\u001b[0;31m---------------------------------------------------------------------------\u001b[0m",
      "\u001b[0;31mValueError\u001b[0m                                Traceback (most recent call last)",
      "\u001b[0;32m<ipython-input-12-7fcb449b0f08>\u001b[0m in \u001b[0;36m<cell line: 1>\u001b[0;34m()\u001b[0m\n\u001b[0;32m----> 1\u001b[0;31m \u001b[0mmodel\u001b[0m\u001b[0;34m.\u001b[0m\u001b[0mload_weights\u001b[0m\u001b[0;34m(\u001b[0m\u001b[0;34m'./model.keras'\u001b[0m\u001b[0;34m)\u001b[0m\u001b[0;34m\u001b[0m\u001b[0;34m\u001b[0m\u001b[0m\n\u001b[0m",
      "\u001b[0;32m/usr/local/lib/python3.10/dist-packages/keras/src/utils/traceback_utils.py\u001b[0m in \u001b[0;36merror_handler\u001b[0;34m(*args, **kwargs)\u001b[0m\n\u001b[1;32m    120\u001b[0m             \u001b[0;31m# To get the full stack trace, call:\u001b[0m\u001b[0;34m\u001b[0m\u001b[0;34m\u001b[0m\u001b[0m\n\u001b[1;32m    121\u001b[0m             \u001b[0;31m# `keras.config.disable_traceback_filtering()`\u001b[0m\u001b[0;34m\u001b[0m\u001b[0;34m\u001b[0m\u001b[0m\n\u001b[0;32m--> 122\u001b[0;31m             \u001b[0;32mraise\u001b[0m \u001b[0me\u001b[0m\u001b[0;34m.\u001b[0m\u001b[0mwith_traceback\u001b[0m\u001b[0;34m(\u001b[0m\u001b[0mfiltered_tb\u001b[0m\u001b[0;34m)\u001b[0m \u001b[0;32mfrom\u001b[0m \u001b[0;32mNone\u001b[0m\u001b[0;34m\u001b[0m\u001b[0;34m\u001b[0m\u001b[0m\n\u001b[0m\u001b[1;32m    123\u001b[0m         \u001b[0;32mfinally\u001b[0m\u001b[0;34m:\u001b[0m\u001b[0;34m\u001b[0m\u001b[0;34m\u001b[0m\u001b[0m\n\u001b[1;32m    124\u001b[0m             \u001b[0;32mdel\u001b[0m \u001b[0mfiltered_tb\u001b[0m\u001b[0;34m\u001b[0m\u001b[0;34m\u001b[0m\u001b[0m\n",
      "\u001b[0;32m/usr/local/lib/python3.10/dist-packages/keras/src/saving/saving_lib.py\u001b[0m in \u001b[0;36m_raise_loading_failure\u001b[0;34m(error_msgs, warn_only)\u001b[0m\n\u001b[1;32m    454\u001b[0m         \u001b[0mwarnings\u001b[0m\u001b[0;34m.\u001b[0m\u001b[0mwarn\u001b[0m\u001b[0;34m(\u001b[0m\u001b[0mmsg\u001b[0m\u001b[0;34m)\u001b[0m\u001b[0;34m\u001b[0m\u001b[0;34m\u001b[0m\u001b[0m\n\u001b[1;32m    455\u001b[0m     \u001b[0;32melse\u001b[0m\u001b[0;34m:\u001b[0m\u001b[0;34m\u001b[0m\u001b[0;34m\u001b[0m\u001b[0m\n\u001b[0;32m--> 456\u001b[0;31m         \u001b[0;32mraise\u001b[0m \u001b[0mValueError\u001b[0m\u001b[0;34m(\u001b[0m\u001b[0mmsg\u001b[0m\u001b[0;34m)\u001b[0m\u001b[0;34m\u001b[0m\u001b[0;34m\u001b[0m\u001b[0m\n\u001b[0m\u001b[1;32m    457\u001b[0m \u001b[0;34m\u001b[0m\u001b[0m\n\u001b[1;32m    458\u001b[0m \u001b[0;34m\u001b[0m\u001b[0m\n",
      "\u001b[0;31mValueError\u001b[0m: A total of 5 objects could not be loaded. Example error message for object <Embedding name=embedding, built=True>:\n\nLayer 'embedding' expected 1 variables, but received 0 variables during loading. Expected: ['embeddings']\n\nList of objects that could not be loaded:\n[<Embedding name=embedding, built=True>, <LSTMCell name=lstm_cell, built=True>, <LSTMCell name=lstm_cell, built=True>, <Dense name=dense, built=True>, <Dense name=dense_1, built=True>]"
     ]
    }
   ],
   "source": [
    "model.load_weights('./model.keras')"
   ]
  },
  {
   "cell_type": "code",
   "execution_count": 17,
   "metadata": {
    "colab": {
     "base_uri": "https://localhost:8080/",
     "height": 289
    },
    "executionInfo": {
     "elapsed": 343,
     "status": "ok",
     "timestamp": 1731156572574,
     "user": {
      "displayName": "HocSau Thich",
      "userId": "08555065894262566577"
     },
     "user_tz": -420
    },
    "id": "2vncEXA_7TJT",
    "outputId": "d462fda8-181c-424b-d170-a8d4c2a35f12"
   },
   "outputs": [
    {
     "data": {
      "text/html": [
       "<pre style=\"white-space:pre;overflow-x:auto;line-height:normal;font-family:Menlo,'DejaVu Sans Mono',consolas,'Courier New',monospace\"><span style=\"font-weight: bold\">Model: \"sequential\"</span>\n",
       "</pre>\n"
      ],
      "text/plain": [
       "\u001b[1mModel: \"sequential\"\u001b[0m\n"
      ]
     },
     "metadata": {},
     "output_type": "display_data"
    },
    {
     "data": {
      "text/html": [
       "<pre style=\"white-space:pre;overflow-x:auto;line-height:normal;font-family:Menlo,'DejaVu Sans Mono',consolas,'Courier New',monospace\">┏━━━━━━━━━━━━━━━━━━━━━━━━━━━━━━━━━━━━━━┳━━━━━━━━━━━━━━━━━━━━━━━━━━━━━┳━━━━━━━━━━━━━━━━━┓\n",
       "┃<span style=\"font-weight: bold\"> Layer (type)                         </span>┃<span style=\"font-weight: bold\"> Output Shape                </span>┃<span style=\"font-weight: bold\">         Param # </span>┃\n",
       "┡━━━━━━━━━━━━━━━━━━━━━━━━━━━━━━━━━━━━━━╇━━━━━━━━━━━━━━━━━━━━━━━━━━━━━╇━━━━━━━━━━━━━━━━━┩\n",
       "│ embedding (<span style=\"color: #0087ff; text-decoration-color: #0087ff\">Embedding</span>)                │ (<span style=\"color: #00af00; text-decoration-color: #00af00\">2</span>, <span style=\"color: #00af00; text-decoration-color: #00af00\">9624</span>, <span style=\"color: #00af00; text-decoration-color: #00af00\">32</span>)               │             <span style=\"color: #00af00; text-decoration-color: #00af00\">704</span> │\n",
       "├──────────────────────────────────────┼─────────────────────────────┼─────────────────┤\n",
       "│ bidirectional (<span style=\"color: #0087ff; text-decoration-color: #0087ff\">Bidirectional</span>)        │ (<span style=\"color: #00af00; text-decoration-color: #00af00\">2</span>, <span style=\"color: #00af00; text-decoration-color: #00af00\">32</span>)                     │           <span style=\"color: #00af00; text-decoration-color: #00af00\">6,272</span> │\n",
       "├──────────────────────────────────────┼─────────────────────────────┼─────────────────┤\n",
       "│ dense (<span style=\"color: #0087ff; text-decoration-color: #0087ff\">Dense</span>)                        │ (<span style=\"color: #00af00; text-decoration-color: #00af00\">2</span>, <span style=\"color: #00af00; text-decoration-color: #00af00\">16</span>)                     │             <span style=\"color: #00af00; text-decoration-color: #00af00\">528</span> │\n",
       "├──────────────────────────────────────┼─────────────────────────────┼─────────────────┤\n",
       "│ dense_1 (<span style=\"color: #0087ff; text-decoration-color: #0087ff\">Dense</span>)                      │ (<span style=\"color: #00af00; text-decoration-color: #00af00\">2</span>, <span style=\"color: #00af00; text-decoration-color: #00af00\">1</span>)                      │              <span style=\"color: #00af00; text-decoration-color: #00af00\">17</span> │\n",
       "└──────────────────────────────────────┴─────────────────────────────┴─────────────────┘\n",
       "</pre>\n"
      ],
      "text/plain": [
       "┏━━━━━━━━━━━━━━━━━━━━━━━━━━━━━━━━━━━━━━┳━━━━━━━━━━━━━━━━━━━━━━━━━━━━━┳━━━━━━━━━━━━━━━━━┓\n",
       "┃\u001b[1m \u001b[0m\u001b[1mLayer (type)                        \u001b[0m\u001b[1m \u001b[0m┃\u001b[1m \u001b[0m\u001b[1mOutput Shape               \u001b[0m\u001b[1m \u001b[0m┃\u001b[1m \u001b[0m\u001b[1m        Param #\u001b[0m\u001b[1m \u001b[0m┃\n",
       "┡━━━━━━━━━━━━━━━━━━━━━━━━━━━━━━━━━━━━━━╇━━━━━━━━━━━━━━━━━━━━━━━━━━━━━╇━━━━━━━━━━━━━━━━━┩\n",
       "│ embedding (\u001b[38;5;33mEmbedding\u001b[0m)                │ (\u001b[38;5;34m2\u001b[0m, \u001b[38;5;34m9624\u001b[0m, \u001b[38;5;34m32\u001b[0m)               │             \u001b[38;5;34m704\u001b[0m │\n",
       "├──────────────────────────────────────┼─────────────────────────────┼─────────────────┤\n",
       "│ bidirectional (\u001b[38;5;33mBidirectional\u001b[0m)        │ (\u001b[38;5;34m2\u001b[0m, \u001b[38;5;34m32\u001b[0m)                     │           \u001b[38;5;34m6,272\u001b[0m │\n",
       "├──────────────────────────────────────┼─────────────────────────────┼─────────────────┤\n",
       "│ dense (\u001b[38;5;33mDense\u001b[0m)                        │ (\u001b[38;5;34m2\u001b[0m, \u001b[38;5;34m16\u001b[0m)                     │             \u001b[38;5;34m528\u001b[0m │\n",
       "├──────────────────────────────────────┼─────────────────────────────┼─────────────────┤\n",
       "│ dense_1 (\u001b[38;5;33mDense\u001b[0m)                      │ (\u001b[38;5;34m2\u001b[0m, \u001b[38;5;34m1\u001b[0m)                      │              \u001b[38;5;34m17\u001b[0m │\n",
       "└──────────────────────────────────────┴─────────────────────────────┴─────────────────┘\n"
      ]
     },
     "metadata": {},
     "output_type": "display_data"
    },
    {
     "data": {
      "text/html": [
       "<pre style=\"white-space:pre;overflow-x:auto;line-height:normal;font-family:Menlo,'DejaVu Sans Mono',consolas,'Courier New',monospace\"><span style=\"font-weight: bold\"> Total params: </span><span style=\"color: #00af00; text-decoration-color: #00af00\">22,565</span> (88.15 KB)\n",
       "</pre>\n"
      ],
      "text/plain": [
       "\u001b[1m Total params: \u001b[0m\u001b[38;5;34m22,565\u001b[0m (88.15 KB)\n"
      ]
     },
     "metadata": {},
     "output_type": "display_data"
    },
    {
     "data": {
      "text/html": [
       "<pre style=\"white-space:pre;overflow-x:auto;line-height:normal;font-family:Menlo,'DejaVu Sans Mono',consolas,'Courier New',monospace\"><span style=\"font-weight: bold\"> Trainable params: </span><span style=\"color: #00af00; text-decoration-color: #00af00\">7,521</span> (29.38 KB)\n",
       "</pre>\n"
      ],
      "text/plain": [
       "\u001b[1m Trainable params: \u001b[0m\u001b[38;5;34m7,521\u001b[0m (29.38 KB)\n"
      ]
     },
     "metadata": {},
     "output_type": "display_data"
    },
    {
     "data": {
      "text/html": [
       "<pre style=\"white-space:pre;overflow-x:auto;line-height:normal;font-family:Menlo,'DejaVu Sans Mono',consolas,'Courier New',monospace\"><span style=\"font-weight: bold\"> Non-trainable params: </span><span style=\"color: #00af00; text-decoration-color: #00af00\">0</span> (0.00 B)\n",
       "</pre>\n"
      ],
      "text/plain": [
       "\u001b[1m Non-trainable params: \u001b[0m\u001b[38;5;34m0\u001b[0m (0.00 B)\n"
      ]
     },
     "metadata": {},
     "output_type": "display_data"
    },
    {
     "data": {
      "text/html": [
       "<pre style=\"white-space:pre;overflow-x:auto;line-height:normal;font-family:Menlo,'DejaVu Sans Mono',consolas,'Courier New',monospace\"><span style=\"font-weight: bold\"> Optimizer params: </span><span style=\"color: #00af00; text-decoration-color: #00af00\">15,044</span> (58.77 KB)\n",
       "</pre>\n"
      ],
      "text/plain": [
       "\u001b[1m Optimizer params: \u001b[0m\u001b[38;5;34m15,044\u001b[0m (58.77 KB)\n"
      ]
     },
     "metadata": {},
     "output_type": "display_data"
    }
   ],
   "source": [
    "model2.summary()"
   ]
  },
  {
   "cell_type": "code",
   "execution_count": 18,
   "metadata": {
    "colab": {
     "base_uri": "https://localhost:8080/"
    },
    "executionInfo": {
     "elapsed": 2698874,
     "status": "ok",
     "timestamp": 1731159280090,
     "user": {
      "displayName": "HocSau Thich",
      "userId": "08555065894262566577"
     },
     "user_tz": -420
    },
    "id": "RQz2ZbUfH5KH",
    "outputId": "69a42c93-65fa-482a-ac7f-4cc2df85a1a5"
   },
   "outputs": [
    {
     "name": "stdout",
     "output_type": "stream",
     "text": [
      "Epoch 1/2\n",
      "\u001b[1m3000/3000\u001b[0m \u001b[32m━━━━━━━━━━━━━━━━━━━━\u001b[0m\u001b[37m\u001b[0m \u001b[1m1323s\u001b[0m 441ms/step - accuracy: 0.7571 - loss: 0.4819\n",
      "Epoch 2/2\n",
      "\u001b[1m3000/3000\u001b[0m \u001b[32m━━━━━━━━━━━━━━━━━━━━\u001b[0m\u001b[37m\u001b[0m \u001b[1m1374s\u001b[0m 451ms/step - accuracy: 0.7777 - loss: 0.4412\n"
     ]
    },
    {
     "data": {
      "text/plain": [
       "<keras.src.callbacks.history.History at 0x7aad2eae1810>"
      ]
     },
     "execution_count": 18,
     "metadata": {},
     "output_type": "execute_result"
    }
   ],
   "source": [
    "model2.fit(X, y, epochs=2, batch_size=2)"
   ]
  },
  {
   "cell_type": "code",
   "execution_count": 19,
   "metadata": {
    "executionInfo": {
     "elapsed": 2,
     "status": "ok",
     "timestamp": 1731159280980,
     "user": {
      "displayName": "HocSau Thich",
      "userId": "08555065894262566577"
     },
     "user_tz": -420
    },
    "id": "Uovru5pB-dJm"
   },
   "outputs": [],
   "source": [
    "model2.save('./model2.keras')"
   ]
  },
  {
   "cell_type": "code",
   "execution_count": 11,
   "metadata": {
    "executionInfo": {
     "elapsed": 1466,
     "status": "ok",
     "timestamp": 1731160652434,
     "user": {
      "displayName": "HocSau Thich",
      "userId": "08555065894262566577"
     },
     "user_tz": -420
    },
    "id": "xipD4jJv-kGu"
   },
   "outputs": [],
   "source": [
    "model3= load_model('./model2.keras')"
   ]
  },
  {
   "cell_type": "code",
   "execution_count": 12,
   "metadata": {
    "colab": {
     "base_uri": "https://localhost:8080/",
     "height": 321
    },
    "executionInfo": {
     "elapsed": 157748,
     "status": "error",
     "timestamp": 1731160818147,
     "user": {
      "displayName": "HocSau Thich",
      "userId": "08555065894262566577"
     },
     "user_tz": -420
    },
    "id": "DD2xCO6B-qYh",
    "outputId": "0362c5d7-a158-4883-8d22-5e88a5357fa5"
   },
   "outputs": [
    {
     "name": "stdout",
     "output_type": "stream",
     "text": [
      "Epoch 1/2\n",
      "\u001b[1m   8/3000\u001b[0m \u001b[37m━━━━━━━━━━━━━━━━━━━━\u001b[0m \u001b[1m14:05:05\u001b[0m 17s/step - accuracy: 0.8301 - loss: 0.3430"
     ]
    },
    {
     "ename": "KeyboardInterrupt",
     "evalue": "",
     "output_type": "error",
     "traceback": [
      "\u001b[0;31m---------------------------------------------------------------------------\u001b[0m",
      "\u001b[0;31mKeyboardInterrupt\u001b[0m                         Traceback (most recent call last)",
      "\u001b[0;32m<ipython-input-12-e157ab5b6dfb>\u001b[0m in \u001b[0;36m<cell line: 1>\u001b[0;34m()\u001b[0m\n\u001b[0;32m----> 1\u001b[0;31m \u001b[0mmodel3\u001b[0m\u001b[0;34m.\u001b[0m\u001b[0mfit\u001b[0m\u001b[0;34m(\u001b[0m\u001b[0mX\u001b[0m\u001b[0;34m,\u001b[0m \u001b[0my\u001b[0m\u001b[0;34m,\u001b[0m \u001b[0mepochs\u001b[0m\u001b[0;34m=\u001b[0m\u001b[0;36m2\u001b[0m\u001b[0;34m,\u001b[0m \u001b[0mbatch_size\u001b[0m\u001b[0;34m=\u001b[0m\u001b[0;36m2\u001b[0m\u001b[0;34m)\u001b[0m\u001b[0;34m\u001b[0m\u001b[0;34m\u001b[0m\u001b[0m\n\u001b[0m",
      "\u001b[0;32m/usr/local/lib/python3.10/dist-packages/keras/src/utils/traceback_utils.py\u001b[0m in \u001b[0;36merror_handler\u001b[0;34m(*args, **kwargs)\u001b[0m\n\u001b[1;32m    115\u001b[0m         \u001b[0mfiltered_tb\u001b[0m \u001b[0;34m=\u001b[0m \u001b[0;32mNone\u001b[0m\u001b[0;34m\u001b[0m\u001b[0;34m\u001b[0m\u001b[0m\n\u001b[1;32m    116\u001b[0m         \u001b[0;32mtry\u001b[0m\u001b[0;34m:\u001b[0m\u001b[0;34m\u001b[0m\u001b[0;34m\u001b[0m\u001b[0m\n\u001b[0;32m--> 117\u001b[0;31m             \u001b[0;32mreturn\u001b[0m \u001b[0mfn\u001b[0m\u001b[0;34m(\u001b[0m\u001b[0;34m*\u001b[0m\u001b[0margs\u001b[0m\u001b[0;34m,\u001b[0m \u001b[0;34m**\u001b[0m\u001b[0mkwargs\u001b[0m\u001b[0;34m)\u001b[0m\u001b[0;34m\u001b[0m\u001b[0;34m\u001b[0m\u001b[0m\n\u001b[0m\u001b[1;32m    118\u001b[0m         \u001b[0;32mexcept\u001b[0m \u001b[0mException\u001b[0m \u001b[0;32mas\u001b[0m \u001b[0me\u001b[0m\u001b[0;34m:\u001b[0m\u001b[0;34m\u001b[0m\u001b[0;34m\u001b[0m\u001b[0m\n\u001b[1;32m    119\u001b[0m             \u001b[0mfiltered_tb\u001b[0m \u001b[0;34m=\u001b[0m \u001b[0m_process_traceback_frames\u001b[0m\u001b[0;34m(\u001b[0m\u001b[0me\u001b[0m\u001b[0;34m.\u001b[0m\u001b[0m__traceback__\u001b[0m\u001b[0;34m)\u001b[0m\u001b[0;34m\u001b[0m\u001b[0;34m\u001b[0m\u001b[0m\n",
      "\u001b[0;32m/usr/local/lib/python3.10/dist-packages/keras/src/backend/tensorflow/trainer.py\u001b[0m in \u001b[0;36mfit\u001b[0;34m(self, x, y, batch_size, epochs, verbose, callbacks, validation_split, validation_data, shuffle, class_weight, sample_weight, initial_epoch, steps_per_epoch, validation_steps, validation_batch_size, validation_freq)\u001b[0m\n\u001b[1;32m    316\u001b[0m                 \u001b[0;32mfor\u001b[0m \u001b[0mstep\u001b[0m\u001b[0;34m,\u001b[0m \u001b[0miterator\u001b[0m \u001b[0;32min\u001b[0m \u001b[0mepoch_iterator\u001b[0m\u001b[0;34m.\u001b[0m\u001b[0menumerate_epoch\u001b[0m\u001b[0;34m(\u001b[0m\u001b[0;34m)\u001b[0m\u001b[0;34m:\u001b[0m\u001b[0;34m\u001b[0m\u001b[0;34m\u001b[0m\u001b[0m\n\u001b[1;32m    317\u001b[0m                     \u001b[0mcallbacks\u001b[0m\u001b[0;34m.\u001b[0m\u001b[0mon_train_batch_begin\u001b[0m\u001b[0;34m(\u001b[0m\u001b[0mstep\u001b[0m\u001b[0;34m)\u001b[0m\u001b[0;34m\u001b[0m\u001b[0;34m\u001b[0m\u001b[0m\n\u001b[0;32m--> 318\u001b[0;31m                     \u001b[0mlogs\u001b[0m \u001b[0;34m=\u001b[0m \u001b[0mself\u001b[0m\u001b[0;34m.\u001b[0m\u001b[0mtrain_function\u001b[0m\u001b[0;34m(\u001b[0m\u001b[0miterator\u001b[0m\u001b[0;34m)\u001b[0m\u001b[0;34m\u001b[0m\u001b[0;34m\u001b[0m\u001b[0m\n\u001b[0m\u001b[1;32m    319\u001b[0m                     \u001b[0mlogs\u001b[0m \u001b[0;34m=\u001b[0m \u001b[0mself\u001b[0m\u001b[0;34m.\u001b[0m\u001b[0m_pythonify_logs\u001b[0m\u001b[0;34m(\u001b[0m\u001b[0mlogs\u001b[0m\u001b[0;34m)\u001b[0m\u001b[0;34m\u001b[0m\u001b[0;34m\u001b[0m\u001b[0m\n\u001b[1;32m    320\u001b[0m                     \u001b[0mcallbacks\u001b[0m\u001b[0;34m.\u001b[0m\u001b[0mon_train_batch_end\u001b[0m\u001b[0;34m(\u001b[0m\u001b[0mstep\u001b[0m\u001b[0;34m,\u001b[0m \u001b[0mlogs\u001b[0m\u001b[0;34m)\u001b[0m\u001b[0;34m\u001b[0m\u001b[0;34m\u001b[0m\u001b[0m\n",
      "\u001b[0;32m/usr/local/lib/python3.10/dist-packages/tensorflow/python/util/traceback_utils.py\u001b[0m in \u001b[0;36merror_handler\u001b[0;34m(*args, **kwargs)\u001b[0m\n\u001b[1;32m    148\u001b[0m     \u001b[0mfiltered_tb\u001b[0m \u001b[0;34m=\u001b[0m \u001b[0;32mNone\u001b[0m\u001b[0;34m\u001b[0m\u001b[0;34m\u001b[0m\u001b[0m\n\u001b[1;32m    149\u001b[0m     \u001b[0;32mtry\u001b[0m\u001b[0;34m:\u001b[0m\u001b[0;34m\u001b[0m\u001b[0;34m\u001b[0m\u001b[0m\n\u001b[0;32m--> 150\u001b[0;31m       \u001b[0;32mreturn\u001b[0m \u001b[0mfn\u001b[0m\u001b[0;34m(\u001b[0m\u001b[0;34m*\u001b[0m\u001b[0margs\u001b[0m\u001b[0;34m,\u001b[0m \u001b[0;34m**\u001b[0m\u001b[0mkwargs\u001b[0m\u001b[0;34m)\u001b[0m\u001b[0;34m\u001b[0m\u001b[0;34m\u001b[0m\u001b[0m\n\u001b[0m\u001b[1;32m    151\u001b[0m     \u001b[0;32mexcept\u001b[0m \u001b[0mException\u001b[0m \u001b[0;32mas\u001b[0m \u001b[0me\u001b[0m\u001b[0;34m:\u001b[0m\u001b[0;34m\u001b[0m\u001b[0;34m\u001b[0m\u001b[0m\n\u001b[1;32m    152\u001b[0m       \u001b[0mfiltered_tb\u001b[0m \u001b[0;34m=\u001b[0m \u001b[0m_process_traceback_frames\u001b[0m\u001b[0;34m(\u001b[0m\u001b[0me\u001b[0m\u001b[0;34m.\u001b[0m\u001b[0m__traceback__\u001b[0m\u001b[0;34m)\u001b[0m\u001b[0;34m\u001b[0m\u001b[0;34m\u001b[0m\u001b[0m\n",
      "\u001b[0;32m/usr/local/lib/python3.10/dist-packages/tensorflow/python/eager/polymorphic_function/polymorphic_function.py\u001b[0m in \u001b[0;36m__call__\u001b[0;34m(self, *args, **kwds)\u001b[0m\n\u001b[1;32m    831\u001b[0m \u001b[0;34m\u001b[0m\u001b[0m\n\u001b[1;32m    832\u001b[0m       \u001b[0;32mwith\u001b[0m \u001b[0mOptionalXlaContext\u001b[0m\u001b[0;34m(\u001b[0m\u001b[0mself\u001b[0m\u001b[0;34m.\u001b[0m\u001b[0m_jit_compile\u001b[0m\u001b[0;34m)\u001b[0m\u001b[0;34m:\u001b[0m\u001b[0;34m\u001b[0m\u001b[0;34m\u001b[0m\u001b[0m\n\u001b[0;32m--> 833\u001b[0;31m         \u001b[0mresult\u001b[0m \u001b[0;34m=\u001b[0m \u001b[0mself\u001b[0m\u001b[0;34m.\u001b[0m\u001b[0m_call\u001b[0m\u001b[0;34m(\u001b[0m\u001b[0;34m*\u001b[0m\u001b[0margs\u001b[0m\u001b[0;34m,\u001b[0m \u001b[0;34m**\u001b[0m\u001b[0mkwds\u001b[0m\u001b[0;34m)\u001b[0m\u001b[0;34m\u001b[0m\u001b[0;34m\u001b[0m\u001b[0m\n\u001b[0m\u001b[1;32m    834\u001b[0m \u001b[0;34m\u001b[0m\u001b[0m\n\u001b[1;32m    835\u001b[0m       \u001b[0mnew_tracing_count\u001b[0m \u001b[0;34m=\u001b[0m \u001b[0mself\u001b[0m\u001b[0;34m.\u001b[0m\u001b[0mexperimental_get_tracing_count\u001b[0m\u001b[0;34m(\u001b[0m\u001b[0;34m)\u001b[0m\u001b[0;34m\u001b[0m\u001b[0;34m\u001b[0m\u001b[0m\n",
      "\u001b[0;32m/usr/local/lib/python3.10/dist-packages/tensorflow/python/eager/polymorphic_function/polymorphic_function.py\u001b[0m in \u001b[0;36m_call\u001b[0;34m(self, *args, **kwds)\u001b[0m\n\u001b[1;32m    876\u001b[0m       \u001b[0;31m# In this case we have not created variables on the first call. So we can\u001b[0m\u001b[0;34m\u001b[0m\u001b[0;34m\u001b[0m\u001b[0m\n\u001b[1;32m    877\u001b[0m       \u001b[0;31m# run the first trace but we should fail if variables are created.\u001b[0m\u001b[0;34m\u001b[0m\u001b[0;34m\u001b[0m\u001b[0m\n\u001b[0;32m--> 878\u001b[0;31m       results = tracing_compilation.call_function(\n\u001b[0m\u001b[1;32m    879\u001b[0m           \u001b[0margs\u001b[0m\u001b[0;34m,\u001b[0m \u001b[0mkwds\u001b[0m\u001b[0;34m,\u001b[0m \u001b[0mself\u001b[0m\u001b[0;34m.\u001b[0m\u001b[0m_variable_creation_config\u001b[0m\u001b[0;34m\u001b[0m\u001b[0;34m\u001b[0m\u001b[0m\n\u001b[1;32m    880\u001b[0m       )\n",
      "\u001b[0;32m/usr/local/lib/python3.10/dist-packages/tensorflow/python/eager/polymorphic_function/tracing_compilation.py\u001b[0m in \u001b[0;36mcall_function\u001b[0;34m(args, kwargs, tracing_options)\u001b[0m\n\u001b[1;32m    137\u001b[0m   \u001b[0mbound_args\u001b[0m \u001b[0;34m=\u001b[0m \u001b[0mfunction\u001b[0m\u001b[0;34m.\u001b[0m\u001b[0mfunction_type\u001b[0m\u001b[0;34m.\u001b[0m\u001b[0mbind\u001b[0m\u001b[0;34m(\u001b[0m\u001b[0;34m*\u001b[0m\u001b[0margs\u001b[0m\u001b[0;34m,\u001b[0m \u001b[0;34m**\u001b[0m\u001b[0mkwargs\u001b[0m\u001b[0;34m)\u001b[0m\u001b[0;34m\u001b[0m\u001b[0;34m\u001b[0m\u001b[0m\n\u001b[1;32m    138\u001b[0m   \u001b[0mflat_inputs\u001b[0m \u001b[0;34m=\u001b[0m \u001b[0mfunction\u001b[0m\u001b[0;34m.\u001b[0m\u001b[0mfunction_type\u001b[0m\u001b[0;34m.\u001b[0m\u001b[0munpack_inputs\u001b[0m\u001b[0;34m(\u001b[0m\u001b[0mbound_args\u001b[0m\u001b[0;34m)\u001b[0m\u001b[0;34m\u001b[0m\u001b[0;34m\u001b[0m\u001b[0m\n\u001b[0;32m--> 139\u001b[0;31m   return function._call_flat(  # pylint: disable=protected-access\n\u001b[0m\u001b[1;32m    140\u001b[0m       \u001b[0mflat_inputs\u001b[0m\u001b[0;34m,\u001b[0m \u001b[0mcaptured_inputs\u001b[0m\u001b[0;34m=\u001b[0m\u001b[0mfunction\u001b[0m\u001b[0;34m.\u001b[0m\u001b[0mcaptured_inputs\u001b[0m\u001b[0;34m\u001b[0m\u001b[0;34m\u001b[0m\u001b[0m\n\u001b[1;32m    141\u001b[0m   )\n",
      "\u001b[0;32m/usr/local/lib/python3.10/dist-packages/tensorflow/python/eager/polymorphic_function/concrete_function.py\u001b[0m in \u001b[0;36m_call_flat\u001b[0;34m(self, tensor_inputs, captured_inputs)\u001b[0m\n\u001b[1;32m   1320\u001b[0m         and executing_eagerly):\n\u001b[1;32m   1321\u001b[0m       \u001b[0;31m# No tape is watching; skip to running the function.\u001b[0m\u001b[0;34m\u001b[0m\u001b[0;34m\u001b[0m\u001b[0m\n\u001b[0;32m-> 1322\u001b[0;31m       \u001b[0;32mreturn\u001b[0m \u001b[0mself\u001b[0m\u001b[0;34m.\u001b[0m\u001b[0m_inference_function\u001b[0m\u001b[0;34m.\u001b[0m\u001b[0mcall_preflattened\u001b[0m\u001b[0;34m(\u001b[0m\u001b[0margs\u001b[0m\u001b[0;34m)\u001b[0m\u001b[0;34m\u001b[0m\u001b[0;34m\u001b[0m\u001b[0m\n\u001b[0m\u001b[1;32m   1323\u001b[0m     forward_backward = self._select_forward_and_backward_functions(\n\u001b[1;32m   1324\u001b[0m         \u001b[0margs\u001b[0m\u001b[0;34m,\u001b[0m\u001b[0;34m\u001b[0m\u001b[0;34m\u001b[0m\u001b[0m\n",
      "\u001b[0;32m/usr/local/lib/python3.10/dist-packages/tensorflow/python/eager/polymorphic_function/atomic_function.py\u001b[0m in \u001b[0;36mcall_preflattened\u001b[0;34m(self, args)\u001b[0m\n\u001b[1;32m    214\u001b[0m   \u001b[0;32mdef\u001b[0m \u001b[0mcall_preflattened\u001b[0m\u001b[0;34m(\u001b[0m\u001b[0mself\u001b[0m\u001b[0;34m,\u001b[0m \u001b[0margs\u001b[0m\u001b[0;34m:\u001b[0m \u001b[0mSequence\u001b[0m\u001b[0;34m[\u001b[0m\u001b[0mcore\u001b[0m\u001b[0;34m.\u001b[0m\u001b[0mTensor\u001b[0m\u001b[0;34m]\u001b[0m\u001b[0;34m)\u001b[0m \u001b[0;34m->\u001b[0m \u001b[0mAny\u001b[0m\u001b[0;34m:\u001b[0m\u001b[0;34m\u001b[0m\u001b[0;34m\u001b[0m\u001b[0m\n\u001b[1;32m    215\u001b[0m     \u001b[0;34m\"\"\"Calls with flattened tensor inputs and returns the structured output.\"\"\"\u001b[0m\u001b[0;34m\u001b[0m\u001b[0;34m\u001b[0m\u001b[0m\n\u001b[0;32m--> 216\u001b[0;31m     \u001b[0mflat_outputs\u001b[0m \u001b[0;34m=\u001b[0m \u001b[0mself\u001b[0m\u001b[0;34m.\u001b[0m\u001b[0mcall_flat\u001b[0m\u001b[0;34m(\u001b[0m\u001b[0;34m*\u001b[0m\u001b[0margs\u001b[0m\u001b[0;34m)\u001b[0m\u001b[0;34m\u001b[0m\u001b[0;34m\u001b[0m\u001b[0m\n\u001b[0m\u001b[1;32m    217\u001b[0m     \u001b[0;32mreturn\u001b[0m \u001b[0mself\u001b[0m\u001b[0;34m.\u001b[0m\u001b[0mfunction_type\u001b[0m\u001b[0;34m.\u001b[0m\u001b[0mpack_output\u001b[0m\u001b[0;34m(\u001b[0m\u001b[0mflat_outputs\u001b[0m\u001b[0;34m)\u001b[0m\u001b[0;34m\u001b[0m\u001b[0;34m\u001b[0m\u001b[0m\n\u001b[1;32m    218\u001b[0m \u001b[0;34m\u001b[0m\u001b[0m\n",
      "\u001b[0;32m/usr/local/lib/python3.10/dist-packages/tensorflow/python/eager/polymorphic_function/atomic_function.py\u001b[0m in \u001b[0;36mcall_flat\u001b[0;34m(self, *args)\u001b[0m\n\u001b[1;32m    249\u001b[0m         \u001b[0;32mwith\u001b[0m \u001b[0mrecord\u001b[0m\u001b[0;34m.\u001b[0m\u001b[0mstop_recording\u001b[0m\u001b[0;34m(\u001b[0m\u001b[0;34m)\u001b[0m\u001b[0;34m:\u001b[0m\u001b[0;34m\u001b[0m\u001b[0;34m\u001b[0m\u001b[0m\n\u001b[1;32m    250\u001b[0m           \u001b[0;32mif\u001b[0m \u001b[0mself\u001b[0m\u001b[0;34m.\u001b[0m\u001b[0m_bound_context\u001b[0m\u001b[0;34m.\u001b[0m\u001b[0mexecuting_eagerly\u001b[0m\u001b[0;34m(\u001b[0m\u001b[0;34m)\u001b[0m\u001b[0;34m:\u001b[0m\u001b[0;34m\u001b[0m\u001b[0;34m\u001b[0m\u001b[0m\n\u001b[0;32m--> 251\u001b[0;31m             outputs = self._bound_context.call_function(\n\u001b[0m\u001b[1;32m    252\u001b[0m                 \u001b[0mself\u001b[0m\u001b[0;34m.\u001b[0m\u001b[0mname\u001b[0m\u001b[0;34m,\u001b[0m\u001b[0;34m\u001b[0m\u001b[0;34m\u001b[0m\u001b[0m\n\u001b[1;32m    253\u001b[0m                 \u001b[0mlist\u001b[0m\u001b[0;34m(\u001b[0m\u001b[0margs\u001b[0m\u001b[0;34m)\u001b[0m\u001b[0;34m,\u001b[0m\u001b[0;34m\u001b[0m\u001b[0;34m\u001b[0m\u001b[0m\n",
      "\u001b[0;32m/usr/local/lib/python3.10/dist-packages/tensorflow/python/eager/context.py\u001b[0m in \u001b[0;36mcall_function\u001b[0;34m(self, name, tensor_inputs, num_outputs)\u001b[0m\n\u001b[1;32m   1550\u001b[0m     \u001b[0mcancellation_context\u001b[0m \u001b[0;34m=\u001b[0m \u001b[0mcancellation\u001b[0m\u001b[0;34m.\u001b[0m\u001b[0mcontext\u001b[0m\u001b[0;34m(\u001b[0m\u001b[0;34m)\u001b[0m\u001b[0;34m\u001b[0m\u001b[0;34m\u001b[0m\u001b[0m\n\u001b[1;32m   1551\u001b[0m     \u001b[0;32mif\u001b[0m \u001b[0mcancellation_context\u001b[0m \u001b[0;32mis\u001b[0m \u001b[0;32mNone\u001b[0m\u001b[0;34m:\u001b[0m\u001b[0;34m\u001b[0m\u001b[0;34m\u001b[0m\u001b[0m\n\u001b[0;32m-> 1552\u001b[0;31m       outputs = execute.execute(\n\u001b[0m\u001b[1;32m   1553\u001b[0m           \u001b[0mname\u001b[0m\u001b[0;34m.\u001b[0m\u001b[0mdecode\u001b[0m\u001b[0;34m(\u001b[0m\u001b[0;34m\"utf-8\"\u001b[0m\u001b[0;34m)\u001b[0m\u001b[0;34m,\u001b[0m\u001b[0;34m\u001b[0m\u001b[0;34m\u001b[0m\u001b[0m\n\u001b[1;32m   1554\u001b[0m           \u001b[0mnum_outputs\u001b[0m\u001b[0;34m=\u001b[0m\u001b[0mnum_outputs\u001b[0m\u001b[0;34m,\u001b[0m\u001b[0;34m\u001b[0m\u001b[0;34m\u001b[0m\u001b[0m\n",
      "\u001b[0;32m/usr/local/lib/python3.10/dist-packages/tensorflow/python/eager/execute.py\u001b[0m in \u001b[0;36mquick_execute\u001b[0;34m(op_name, num_outputs, inputs, attrs, ctx, name)\u001b[0m\n\u001b[1;32m     51\u001b[0m   \u001b[0;32mtry\u001b[0m\u001b[0;34m:\u001b[0m\u001b[0;34m\u001b[0m\u001b[0;34m\u001b[0m\u001b[0m\n\u001b[1;32m     52\u001b[0m     \u001b[0mctx\u001b[0m\u001b[0;34m.\u001b[0m\u001b[0mensure_initialized\u001b[0m\u001b[0;34m(\u001b[0m\u001b[0;34m)\u001b[0m\u001b[0;34m\u001b[0m\u001b[0;34m\u001b[0m\u001b[0m\n\u001b[0;32m---> 53\u001b[0;31m     tensors = pywrap_tfe.TFE_Py_Execute(ctx._handle, device_name, op_name,\n\u001b[0m\u001b[1;32m     54\u001b[0m                                         inputs, attrs, num_outputs)\n\u001b[1;32m     55\u001b[0m   \u001b[0;32mexcept\u001b[0m \u001b[0mcore\u001b[0m\u001b[0;34m.\u001b[0m\u001b[0m_NotOkStatusException\u001b[0m \u001b[0;32mas\u001b[0m \u001b[0me\u001b[0m\u001b[0;34m:\u001b[0m\u001b[0;34m\u001b[0m\u001b[0;34m\u001b[0m\u001b[0m\n",
      "\u001b[0;31mKeyboardInterrupt\u001b[0m: "
     ]
    }
   ],
   "source": [
    "model3.fit(X, y, epochs=2, batch_size=2)"
   ]
  },
  {
   "cell_type": "code",
   "execution_count": null,
   "metadata": {
    "executionInfo": {
     "elapsed": 3,
     "status": "aborted",
     "timestamp": 1731160818148,
     "user": {
      "displayName": "HocSau Thich",
      "userId": "08555065894262566577"
     },
     "user_tz": -420
    },
    "id": "wft5OED5Iw8s"
   },
   "outputs": [],
   "source": [
    "model3.save('./model3.keras')"
   ]
  },
  {
   "cell_type": "code",
   "execution_count": null,
   "metadata": {
    "id": "wbHil86fI4rl"
   },
   "outputs": [],
   "source": [
    "model4= load_model('./model3.keras')"
   ]
  },
  {
   "cell_type": "code",
   "execution_count": null,
   "metadata": {
    "id": "gtrnBdZfI_bG"
   },
   "outputs": [],
   "source": [
    "model4.fit(X, y, epochs=2, batch_size=2)"
   ]
  },
  {
   "cell_type": "code",
   "execution_count": null,
   "metadata": {
    "colab": {
     "base_uri": "https://localhost:8080/"
    },
    "executionInfo": {
     "elapsed": 1020,
     "status": "ok",
     "timestamp": 1731069872188,
     "user": {
      "displayName": "HocSau Thich",
      "userId": "08555065894262566577"
     },
     "user_tz": -420
    },
    "id": "a2kpFPhHgiJX",
    "outputId": "dcb49325-82f5-45ee-964f-26f50ad35f9d"
   },
   "outputs": [
    {
     "data": {
      "text/plain": [
       "array([[-4.17071015e-01, -1.24115519e-01, -1.49331465e-01,\n",
       "         7.37697557e-02, -1.15560785e-01,  2.48767555e-01,\n",
       "        -8.63146782e-02, -4.44302619e-01, -2.00531378e-01,\n",
       "         2.63448834e-01,  3.04616749e-01, -4.74540710e-01,\n",
       "        -3.82408738e-01,  3.29024523e-01, -6.09661676e-02,\n",
       "        -1.14171252e-01, -2.49507781e-02, -3.12163323e-01,\n",
       "         1.18696123e-01,  9.31427069e-03, -9.97548625e-02,\n",
       "        -1.71857357e-01, -8.06789100e-03, -3.07558417e-01,\n",
       "         1.81628074e-02, -1.01732716e-01,  7.67685026e-02,\n",
       "         1.34791672e-01, -4.34260339e-01, -1.97423264e-01,\n",
       "         3.39236230e-01,  3.91510725e-02],\n",
       "       [ 7.48454332e-02,  9.08282027e-02,  9.71152857e-02,\n",
       "         1.32094637e-01,  1.11891776e-01, -1.14703812e-01,\n",
       "        -1.72838420e-02,  7.84312040e-02, -6.97102249e-02,\n",
       "        -2.40747705e-02,  4.49001901e-02, -4.14129570e-02,\n",
       "         8.86866450e-02, -2.80827936e-02,  1.51382834e-01,\n",
       "        -7.25354180e-02, -7.84625560e-02,  7.79066533e-02,\n",
       "         3.53726707e-02, -6.75149411e-02, -1.07681893e-01,\n",
       "         1.18961282e-01,  1.33256316e-02,  5.36067225e-02,\n",
       "         1.73814129e-02,  1.09808818e-01,  1.34281600e-02,\n",
       "        -8.89320672e-02,  3.76326218e-02, -1.35205938e-02,\n",
       "         4.39288802e-02, -4.41946015e-02],\n",
       "       [ 1.71763614e-01,  1.33233145e-01,  4.22081873e-02,\n",
       "         1.09760068e-01, -6.44026995e-02, -1.85847998e-01,\n",
       "         1.40800878e-01,  3.25428426e-01,  2.48324066e-01,\n",
       "         2.13342216e-02, -1.65618360e-01,  1.40619248e-01,\n",
       "         5.15254475e-02, -8.86239856e-02, -3.81000191e-02,\n",
       "         1.29179090e-01,  7.38068996e-03, -8.80449191e-02,\n",
       "         6.44099414e-02,  9.30250362e-02,  1.28465131e-01,\n",
       "         2.30642572e-01, -1.86080903e-01,  7.75751472e-02,\n",
       "        -1.57103106e-01,  1.60926878e-01, -3.07352152e-02,\n",
       "        -2.07502097e-01,  1.34258687e-01,  1.87129483e-01,\n",
       "        -1.90065265e-01,  5.59744425e-02],\n",
       "       [ 3.82924601e-02, -2.47868448e-01, -5.77784963e-02,\n",
       "        -7.46220201e-02, -7.32597783e-02,  2.90036015e-02,\n",
       "        -1.77043267e-02, -1.71348885e-01, -5.38903214e-02,\n",
       "        -3.86770889e-02,  1.61019579e-01, -1.40296727e-01,\n",
       "        -9.08045992e-02,  1.37845024e-01, -7.71118626e-02,\n",
       "        -5.94938099e-02, -5.79547137e-02, -5.75493462e-02,\n",
       "        -2.92309541e-02,  2.30655018e-02,  3.42854597e-02,\n",
       "        -1.10440522e-01,  6.65649772e-02, -2.80451536e-01,\n",
       "         3.64463241e-03, -1.76953837e-01,  1.34016305e-01,\n",
       "         8.19919258e-02, -1.70028076e-01, -5.25263362e-02,\n",
       "         1.06898949e-01, -1.23570263e-02],\n",
       "       [ 2.84653932e-01, -1.58471778e-01,  7.52208754e-02,\n",
       "        -6.49760738e-02,  5.36510907e-02,  7.70025849e-02,\n",
       "        -6.87961280e-02, -1.25465557e-01, -8.01084638e-02,\n",
       "        -1.37173235e-01,  2.10682675e-02, -1.42276529e-02,\n",
       "         4.02677804e-02,  7.57566765e-02,  2.83671487e-02,\n",
       "        -5.16652800e-02,  6.36729002e-02,  7.63704255e-02,\n",
       "        -1.33527786e-01, -1.04593158e-01, -5.58946244e-02,\n",
       "        -6.94945753e-02,  8.04754868e-02, -1.99438632e-02,\n",
       "         5.99477999e-02, -2.29229167e-01, -1.07188178e-02,\n",
       "         5.96734099e-02, -6.17166199e-02, -9.96138752e-02,\n",
       "         8.18036124e-02, -1.08703382e-01],\n",
       "       [-8.84484649e-02,  1.39835149e-01,  7.16576055e-02,\n",
       "        -1.32432897e-02, -2.39609368e-02,  9.23695788e-02,\n",
       "        -2.00333390e-02,  1.10713370e-01,  2.71911379e-02,\n",
       "         1.79507080e-02, -2.25388393e-01,  1.97955027e-01,\n",
       "         4.08923365e-02, -1.55487582e-01, -4.52166796e-02,\n",
       "         7.66999945e-02,  1.05868228e-01, -1.63695421e-02,\n",
       "        -5.59502002e-03,  2.43435297e-02,  3.98288816e-02,\n",
       "         1.01551246e-02, -7.70539343e-02,  6.76078200e-02,\n",
       "         3.91563140e-02,  2.19381340e-02, -1.05690017e-01,\n",
       "        -6.58771098e-02,  1.27986223e-01, -2.04002038e-02,\n",
       "        -1.45955816e-01,  1.15895063e-01],\n",
       "       [-6.03348911e-02,  1.96155339e-01,  1.10192142e-01,\n",
       "         1.62345782e-01,  8.08417052e-02, -2.26606414e-01,\n",
       "         7.31242746e-02,  1.98063314e-01,  4.14534584e-02,\n",
       "         6.56534284e-02, -7.79603496e-02,  6.32373318e-02,\n",
       "         9.04497504e-02, -9.91326571e-02,  4.31828797e-02,\n",
       "         5.35497442e-02, -1.16647154e-01, -2.80420855e-02,\n",
       "         1.20782644e-01,  3.28076035e-02, -1.96894072e-02,\n",
       "         1.99537203e-01, -1.27402455e-01,  1.34893164e-01,\n",
       "        -5.97562604e-02,  2.68620491e-01, -9.05556157e-02,\n",
       "        -1.67941615e-01,  1.63689688e-01,  9.06441435e-02,\n",
       "        -6.37578890e-02, -1.67309679e-02],\n",
       "       [-6.85015544e-02,  1.10421978e-01,  4.55747098e-02,\n",
       "         1.54190645e-01,  8.34828168e-02, -5.17017655e-02,\n",
       "        -5.08557111e-02,  2.49008909e-02, -7.30913132e-02,\n",
       "        -1.11319898e-02,  2.30176002e-02, -6.58057556e-02,\n",
       "         1.05808862e-01, -1.74302086e-02,  1.01673871e-01,\n",
       "        -1.13523908e-01, -4.18909565e-02,  3.49360816e-02,\n",
       "         9.46417358e-03, -8.66797715e-02, -1.25463098e-01,\n",
       "         7.31656402e-02,  1.57078747e-02,  1.39581531e-01,\n",
       "         5.19589372e-02,  1.09174758e-01, -5.88229075e-02,\n",
       "        -1.29970133e-01,  7.50936940e-02,  4.11222205e-02,\n",
       "         2.90766102e-03, -5.12173437e-02],\n",
       "       [-1.89366952e-01,  4.59806845e-02, -3.19093950e-02,\n",
       "         1.49802744e-01,  6.99088350e-02, -7.44642094e-02,\n",
       "         1.03781009e-02,  1.13572806e-01, -4.07360829e-02,\n",
       "         1.15760952e-01,  3.88429165e-02, -2.28651240e-02,\n",
       "        -6.45029172e-02,  5.97784594e-02,  3.03066033e-03,\n",
       "        -5.31034432e-02, -1.22050062e-01, -8.77595507e-03,\n",
       "         1.92029715e-01, -7.36644212e-03, -1.12901792e-01,\n",
       "        -1.50511473e-01,  1.65725383e-03,  4.82608080e-02,\n",
       "         4.64474112e-02, -8.52404069e-03, -6.32095784e-02,\n",
       "         7.51338247e-03, -1.87609047e-02,  1.96619108e-02,\n",
       "         8.98686796e-02, -2.63230838e-02],\n",
       "       [-8.54810625e-02,  4.86378036e-02,  2.57798340e-02,\n",
       "        -1.37749733e-02, -2.25393958e-02, -2.28294451e-03,\n",
       "         1.08424902e-01,  1.33171305e-01,  5.19081466e-02,\n",
       "         2.66393443e-04, -6.45157322e-02, -2.21565813e-02,\n",
       "        -3.78869735e-02, -7.38776103e-03,  1.40576507e-03,\n",
       "         1.89248137e-02,  1.28470389e-02, -7.75047690e-02,\n",
       "         1.98106859e-02,  4.01020162e-02,  8.44018385e-02,\n",
       "         1.35786459e-01,  1.41537264e-02,  2.18594354e-03,\n",
       "        -7.49038532e-02,  1.37676150e-01,  6.11173213e-02,\n",
       "        -7.02025890e-02, -7.60217570e-03,  4.21632454e-02,\n",
       "        -1.98514517e-02,  1.72586143e-02],\n",
       "       [-1.32197097e-01, -1.13112740e-01, -1.19439922e-01,\n",
       "        -2.29603916e-01, -1.08721808e-01,  2.07167536e-01,\n",
       "        -1.20224142e-02, -1.42857462e-01,  3.78619730e-02,\n",
       "        -5.93442842e-02, -1.50650918e-01,  6.74287602e-02,\n",
       "        -4.26693633e-02, -7.43486658e-02, -1.35239854e-01,\n",
       "         8.52297246e-02,  2.13514224e-01,  6.66809529e-02,\n",
       "        -1.03538781e-01,  7.12265670e-02,  6.56227842e-02,\n",
       "        -2.53393441e-01, -2.78217942e-02,  1.13196690e-02,\n",
       "        -1.70007851e-02, -2.54646391e-01, -6.53671771e-02,\n",
       "         8.71724933e-02,  5.98815382e-02,  1.04927346e-02,\n",
       "        -1.38340935e-01,  1.94572404e-01],\n",
       "       [ 2.08687596e-03,  5.12384176e-02,  1.07235193e-01,\n",
       "        -1.10416442e-01,  4.53916825e-02,  2.11300045e-01,\n",
       "        -8.41105208e-02, -1.27822103e-03, -3.49636897e-02,\n",
       "         4.14491668e-02, -1.63782775e-01,  2.25713015e-01,\n",
       "        -4.62196628e-03, -2.29017794e-01, -1.28332004e-02,\n",
       "         2.61321276e-01,  9.90665853e-02,  6.06112219e-02,\n",
       "        -8.64412859e-02,  6.21741288e-04,  1.37546600e-03,\n",
       "        -1.91481367e-01, -4.00470980e-02,  1.18365139e-01,\n",
       "        -2.56986059e-02, -1.04992010e-01, -1.91353589e-01,\n",
       "         1.02647543e-01,  7.28197917e-02, -3.77011336e-02,\n",
       "        -5.98989949e-02,  1.34478822e-01],\n",
       "       [ 2.64930353e-02,  4.38649580e-02,  1.90952882e-01,\n",
       "        -1.24063365e-01,  1.20185465e-01,  2.07300425e-01,\n",
       "        -7.40505978e-02, -1.18354246e-01, -9.48800296e-02,\n",
       "        -1.38341218e-01, -1.79100111e-01,  1.95135012e-01,\n",
       "         1.91015750e-01, -1.55613437e-01,  5.05808890e-02,\n",
       "         5.21616191e-02,  1.27308935e-01,  1.99600801e-01,\n",
       "        -1.78855151e-01, -1.22519255e-01, -2.44839452e-02,\n",
       "         4.50110808e-02,  6.14507012e-02,  1.53017521e-01,\n",
       "         1.39285013e-01,  9.75831971e-03, -1.55636638e-01,\n",
       "        -5.20371385e-02,  1.33772671e-01, -1.10096946e-01,\n",
       "        -4.87865508e-02,  2.21384875e-03],\n",
       "       [-1.50232995e-02,  1.29560754e-01, -4.34604995e-02,\n",
       "         1.85960263e-01,  2.40827456e-01, -2.78511494e-01,\n",
       "        -8.46025571e-02,  7.11593404e-02, -1.62923992e-01,\n",
       "         3.02339233e-02,  1.52561069e-01, -1.59721330e-01,\n",
       "         1.41333241e-03,  1.32456020e-01,  1.99379101e-01,\n",
       "        -2.03620255e-01, -1.83058709e-01, -7.72719532e-02,\n",
       "         1.11246370e-01, -1.12550050e-01, -2.62592375e-01,\n",
       "         1.00316137e-01,  1.25408098e-01,  1.04957126e-01,\n",
       "         1.44798011e-01,  2.08740950e-01,  5.41995503e-02,\n",
       "        -8.30248073e-02, -7.72012770e-02, -4.48073298e-02,\n",
       "         1.82094440e-01, -1.76455438e-01],\n",
       "       [-1.02905400e-01,  1.20622767e-02, -3.43544260e-02,\n",
       "         5.02908267e-02,  5.24583319e-03,  1.21510467e-02,\n",
       "         1.23097580e-02,  6.53764382e-02,  5.06333597e-02,\n",
       "        -1.51222330e-02, -3.06390896e-02, -3.43153030e-02,\n",
       "        -8.05312023e-02,  3.81817739e-03, -2.04783119e-02,\n",
       "        -9.47018117e-02, -3.24616302e-03, -1.46133006e-01,\n",
       "         7.43725896e-02,  1.90156791e-02, -4.04071622e-02,\n",
       "         5.47039844e-02, -7.73485824e-02,  3.92400920e-02,\n",
       "        -1.87782869e-02,  5.33421300e-02,  3.11175995e-02,\n",
       "        -1.26190603e-01, -5.43137304e-02,  2.02227570e-02,\n",
       "         5.06790914e-02,  1.98921245e-02],\n",
       "       [ 3.88710141e-01, -3.85612138e-02, -3.31839845e-02,\n",
       "         2.45409068e-02, -2.14680180e-01, -1.61275879e-01,\n",
       "         2.00239658e-01,  7.98231289e-02,  1.96346879e-01,\n",
       "         8.79255012e-02,  7.39358515e-02, -7.56433327e-03,\n",
       "        -2.01022580e-01,  1.25776201e-01, -1.69894174e-01,\n",
       "        -4.07060459e-02, -6.13762289e-02, -1.70883313e-01,\n",
       "         9.85374488e-03,  6.47754520e-02,  2.51368731e-01,\n",
       "         1.76956654e-01, -1.17640235e-01, -1.71837434e-01,\n",
       "        -1.57262117e-01, -1.57666832e-01,  1.99038193e-01,\n",
       "         1.73075855e-01, -3.21898088e-02,  1.74045280e-01,\n",
       "        -3.41440439e-02,  5.00944955e-03],\n",
       "       [-5.74485250e-02,  8.97116065e-02,  1.87104121e-01,\n",
       "        -1.66409716e-01, -4.75681238e-02,  1.43057868e-01,\n",
       "        -1.70706317e-01, -1.96090087e-01, -9.31725800e-02,\n",
       "        -3.25518548e-01, -1.87789887e-01,  1.24453604e-01,\n",
       "         2.29734808e-01, -2.43136808e-01,  7.22825006e-02,\n",
       "         1.66572958e-01,  2.43289828e-01,  3.29041839e-01,\n",
       "        -3.06375653e-01, -1.26120999e-01,  1.35820052e-02,\n",
       "         1.08869836e-01,  1.30391106e-01,  6.47662058e-02,\n",
       "         1.07178323e-01,  1.39477715e-01, -1.62164450e-01,\n",
       "        -1.20348975e-01,  1.77352473e-01, -1.89732343e-01,\n",
       "        -1.33792490e-01, -2.01012269e-02],\n",
       "       [-1.50325924e-01,  1.93810880e-01,  3.16252522e-02,\n",
       "         1.92876622e-01,  1.85322046e-01, -1.08517766e-01,\n",
       "         1.91488806e-02,  2.58131534e-01, -7.52363428e-02,\n",
       "         1.04082190e-01, -4.30871323e-02,  9.51101854e-02,\n",
       "         7.19344616e-02, -5.37332483e-02,  1.09453611e-01,\n",
       "        -4.26497795e-02, -1.42225370e-01, -2.57758144e-03,\n",
       "         9.74491984e-02,  4.97321412e-02, -1.09790415e-01,\n",
       "         5.06906174e-02, -6.51153177e-02,  1.98939487e-01,\n",
       "         9.57767945e-03,  2.89900392e-01, -1.31641015e-01,\n",
       "        -8.15594122e-02,  1.11705489e-01,  7.34907985e-02,\n",
       "        -5.99900447e-02, -7.16038197e-02],\n",
       "       [-1.54500872e-01,  8.61580893e-02, -1.12985699e-02,\n",
       "         1.09358937e-01, -2.38678679e-02, -1.25587024e-02,\n",
       "        -3.35145518e-02,  4.20260727e-02,  1.06204353e-01,\n",
       "         4.82293703e-02, -7.89159015e-02,  2.98435893e-02,\n",
       "        -3.91968898e-02, -8.16229880e-02, -6.22132570e-02,\n",
       "         4.85280566e-02, -4.32670210e-03, -4.52505089e-02,\n",
       "         1.35978222e-01,  7.57586658e-02,  9.50273592e-03,\n",
       "         9.90801677e-03, -4.23704199e-02,  6.93547949e-02,\n",
       "         9.47913900e-03, -2.32442608e-03, -2.55779270e-03,\n",
       "         3.82328331e-02,  1.09846242e-01,  9.54581350e-02,\n",
       "        -6.19559884e-02,  6.94816932e-02],\n",
       "       [-8.62359107e-02,  3.00708741e-01,  4.51266393e-02,\n",
       "         1.81410238e-01,  1.22599259e-01, -1.91223025e-01,\n",
       "        -5.88708594e-02,  1.25846118e-01, -1.30659804e-01,\n",
       "         4.92667481e-02, -4.90515083e-02, -1.35835109e-03,\n",
       "         1.35810763e-01,  1.12903146e-02,  1.98346928e-01,\n",
       "        -1.18192196e-01, -1.29890770e-01, -4.80383541e-03,\n",
       "         7.06462264e-02, -5.62866516e-02, -1.09600358e-01,\n",
       "         2.35222355e-01, -7.62278587e-03,  1.50051042e-01,\n",
       "         1.45414516e-01,  2.01689243e-01,  3.72698754e-02,\n",
       "        -2.03160122e-01,  1.60697758e-01, -1.98333636e-02,\n",
       "         6.97985515e-02, -1.19195670e-01],\n",
       "       [-4.75147320e-03, -8.55911002e-02, -1.36969626e-01,\n",
       "        -1.13860905e-01,  2.14800149e-01, -1.98370945e-02,\n",
       "        -2.28898913e-01, -2.81113535e-01, -2.09590495e-01,\n",
       "        -8.11201036e-02,  3.00711036e-01, -3.14854264e-01,\n",
       "         1.80238888e-01,  1.20115206e-01,  1.18223928e-01,\n",
       "        -2.26910278e-01, -6.71257153e-02,  1.36503667e-01,\n",
       "        -2.16858357e-01, -1.50385827e-01, -2.06722558e-01,\n",
       "        -3.22050452e-02,  1.92126006e-01,  1.47283599e-01,\n",
       "         1.89578339e-01, -1.15443200e-01,  3.12128849e-02,\n",
       "        -7.53318965e-02, -2.29161739e-01, -1.70482621e-01,\n",
       "         3.05325776e-01, -2.13914648e-01],\n",
       "       [-3.85091603e-02,  1.85212374e-01,  1.08182870e-01,\n",
       "         1.52096018e-01,  9.75878686e-02, -1.69093251e-01,\n",
       "         6.09168485e-02,  2.02717587e-01, -9.07143764e-03,\n",
       "         1.00378335e-01,  2.69997828e-02, -1.55913699e-02,\n",
       "         6.57070056e-02, -1.55247813e-02,  1.21157117e-01,\n",
       "        -8.09945166e-02, -8.86829644e-02, -9.74856541e-02,\n",
       "         1.47403479e-01, -5.85573316e-02, -1.19444750e-01,\n",
       "         1.46001980e-01, -9.72322896e-02,  1.43593103e-01,\n",
       "         2.98116244e-02,  2.00638056e-01, -7.45345205e-02,\n",
       "        -2.01444104e-01,  7.22362399e-02,  8.73287991e-02,\n",
       "         1.17736934e-02, -5.51076122e-02]], dtype=float32)"
      ]
     },
     "execution_count": 19,
     "metadata": {},
     "output_type": "execute_result"
    }
   ],
   "source": [
    "word_embeddings = model.layers[0].get_weights()[0]\n",
    "word_embeddings"
   ]
  },
  {
   "cell_type": "code",
   "execution_count": null,
   "metadata": {
    "id": "cwuMGQJ2giJY"
   },
   "outputs": [],
   "source": [
    "#elasstic search =>\n",
    "#search Data Warehouse"
   ]
  }
 ],
 "metadata": {
  "accelerator": "GPU",
  "colab": {
   "gpuType": "T4",
   "provenance": []
  },
  "kernelspec": {
   "display_name": "Python 3",
   "name": "python3"
  },
  "language_info": {
   "codemirror_mode": {
    "name": "ipython",
    "version": 3
   },
   "file_extension": ".py",
   "mimetype": "text/x-python",
   "name": "python",
   "nbconvert_exporter": "python",
   "pygments_lexer": "ipython3",
   "version": "3.12.5"
  }
 },
 "nbformat": 4,
 "nbformat_minor": 0
}
