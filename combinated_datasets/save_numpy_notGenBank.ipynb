{
 "cells": [
  {
   "cell_type": "code",
   "execution_count": 1,
   "id": "3b499680-a6fb-4dde-b24c-1c8fd3f5d74a",
   "metadata": {},
   "outputs": [
    {
     "name": "stderr",
     "output_type": "stream",
     "text": [
      "2025-05-05 17:39:05.866832: I tensorflow/stream_executor/platform/default/dso_loader.cc:49] Successfully opened dynamic library libcudart.so.10.1\n"
     ]
    }
   ],
   "source": [
    "import pandas as pd\n",
    "import numpy as np\n",
    "import csv\n",
    "import matplotlib.pyplot as plt\n",
    "pd.options.mode.chained_assignment = None  # default='warn'\n",
    "from sklearn.model_selection import train_test_split\n",
    "from tensorflow.keras.preprocessing.text import Tokenizer\n",
    "from tensorflow.keras.preprocessing.sequence import pad_sequences\n",
    "import tensorflow as tf\n",
    "from tensorflow.keras import layers, Model\n",
    "from tensorflow.keras.optimizers import Adam\n",
    "from tensorflow.keras.callbacks import ModelCheckpoint, EarlyStopping, ReduceLROnPlateau\n",
    "from tensorflow.keras.layers import Input, Dense, Dropout, LayerNormalization, MultiHeadAttention, Concatenate, Reshape, Embedding, GlobalAveragePooling1D, Lambda"
   ]
  },
  {
   "cell_type": "markdown",
   "id": "7d9692a8-0e80-4a61-9a6b-f0b67d073550",
   "metadata": {},
   "source": [
    "# NOT GENBANK"
   ]
  },
  {
   "cell_type": "code",
   "execution_count": 2,
   "id": "e0f0a9ba-792f-4bb9-bff1-4333b6345ca9",
   "metadata": {},
   "outputs": [],
   "source": [
    "def read_csv_head(input_file, num_lines):\n",
    "    \"\"\"\n",
    "    Đọc num_lines dòng đầu tiên từ file CSV (kể cả dòng header) và trả về dưới dạng list.\n",
    "    \n",
    "    :param input_file: Đường dẫn file CSV.\n",
    "    :param num_lines: Số dòng muốn lấy (bao gồm header).\n",
    "    :return: Danh sách các dòng đã lấy.\n",
    "    \"\"\"\n",
    "    result = []\n",
    "    with open(input_file, 'r', newline='', encoding='utf-8') as csvfile:\n",
    "        reader = csv.reader(csvfile)\n",
    "        for i, row in enumerate(reader):\n",
    "            if i >= num_lines:\n",
    "                break\n",
    "            result.append(row)\n",
    "    return result"
   ]
  },
  {
   "cell_type": "code",
   "execution_count": 3,
   "id": "ae885b2f-115d-40e9-9c72-e475b54c60a5",
   "metadata": {},
   "outputs": [],
   "source": [
    "data_namp = read_csv_head(r'/mnt/nvme1/nAMP_notGenBank.csv', 900001)  # 1 dòng tiêu đề + 2500 dòng dữ liệu\n",
    "data_namp = pd.DataFrame(data_namp[1:], columns=data_namp[0])\n",
    "# data_namp"
   ]
  },
  {
   "cell_type": "code",
   "execution_count": 4,
   "id": "cb673d0c-b3ee-41e5-9f79-f5d1688a4efe",
   "metadata": {},
   "outputs": [],
   "source": [
    "# data_amp = pd.read_csv(r'/mnt/nvme1/AMP_GenBank.csv')\n",
    "# data_amp = pd.read_csv(r'/mnt/nvme1/AMP_GenBank.csv')  # 1 dòng tiêu đề + 2500 dòng dữ liệu\n",
    "# data_amp\n",
    "data_amp = read_csv_head(r'/mnt/nvme1/AMP_notGenBank.csv', 900001)  # 1 dòng tiêu đề + 2500 dòng dữ liệu\n",
    "data_amp = pd.DataFrame(data_amp[1:], columns=data_amp[0])"
   ]
  },
  {
   "cell_type": "code",
   "execution_count": 5,
   "id": "63315803-d1f9-43ce-9ac9-a972256953f7",
   "metadata": {},
   "outputs": [],
   "source": [
    "combinated_data = pd.concat([data_namp, data_amp], ignore_index=True)\n",
    "# data"
   ]
  },
  {
   "cell_type": "code",
   "execution_count": 6,
   "id": "b2d73f70-a0c5-4c0c-b93d-d7d5b059eb47",
   "metadata": {},
   "outputs": [],
   "source": [
    "data, data_test = train_test_split(combinated_data, test_size=0.3, stratify=combinated_data['Label'], random_state=42, shuffle=True)"
   ]
  },
  {
   "cell_type": "code",
   "execution_count": 7,
   "id": "67642104-e3af-4895-a372-31fd00aac0de",
   "metadata": {},
   "outputs": [],
   "source": [
    "data = data.drop(columns=['ID'])\n",
    "data_test = data_test.drop(columns=['ID'])"
   ]
  },
  {
   "cell_type": "code",
   "execution_count": 8,
   "id": "e792275e-865b-4b91-b4c7-7c4a4d407ebb",
   "metadata": {},
   "outputs": [],
   "source": [
    "float_columns = data.select_dtypes(include=['float64']).columns\n",
    "object_columns = data.select_dtypes(include=['object']).columns"
   ]
  },
  {
   "cell_type": "code",
   "execution_count": 9,
   "id": "828e6ec7-4432-4a98-9221-3adfb03c28b0",
   "metadata": {},
   "outputs": [],
   "source": [
    "data.loc[:, 'Label'] = data['Label'].apply(lambda x: 0 if x == 'nAMP' else 1)\n",
    "data['Label'] = data['Label'].astype(float)\n",
    "\n",
    "data_test.loc[:, 'Label'] = data_test['Label'].apply(lambda x: 0 if x == 'nAMP' else 1)\n",
    "data_test['Label'] = data_test['Label'].astype(float)\n",
    "\n",
    "# data"
   ]
  },
  {
   "cell_type": "code",
   "execution_count": 10,
   "id": "64668f10-bf70-409b-9a42-95b552b9280c",
   "metadata": {},
   "outputs": [
    {
     "data": {
      "image/png": "[encoded data removed]",
      "text/plain": [
       "<Figure size 1000x600 with 1 Axes>"
      ]
     },
     "metadata": {},
     "output_type": "display_data"
    }
   ],
   "source": [
    "label_counts = data['Label'].value_counts()\n",
    "plt.figure(figsize=(10, 6))\n",
    "label_counts.plot(kind='bar', color = 'skyblue')\n",
    "plt.title('Tỉ lệ phân phối chuỗi peptide kháng khuẩn và không kháng khuẩn')\n",
    "plt.xlabel('Label', fontsize=12)\n",
    "plt.ylabel('Count', fontsize=12)\n",
    "plt.xticks(rotation=0, ha='right')\n",
    "plt.tight_layout()\n",
    "plt.show()"
   ]
  },
  {
   "cell_type": "code",
   "execution_count": 11,
   "id": "d2c0d2c6-a2c2-46df-90df-cdc47e6bb967",
   "metadata": {},
   "outputs": [],
   "source": [
    "x_test = data_test.drop(columns=['Label'])\n",
    "y_test = data_test['Label']\n",
    "\n",
    "X_train = data.drop(columns=['Label'])\n",
    "y_train = data['Label']"
   ]
  },
  {
   "cell_type": "code",
   "execution_count": 12,
   "id": "6e05f4fb-b049-4703-8fb3-7b87ec1139f7",
   "metadata": {},
   "outputs": [],
   "source": [
    "X_val, X_test, Y_val, Y_test = train_test_split(x_test, y_test, test_size=0.5, stratify=y_test, random_state=42, shuffle=True)"
   ]
  },
  {
   "cell_type": "code",
   "execution_count": 13,
   "id": "1db30c3d-73cc-4490-9f9d-5a63cb297810",
   "metadata": {},
   "outputs": [],
   "source": [
    "max_length = 50\n",
    "\n",
    "padding_type = 'post' # Đệm thêm số 0\n",
    "trunc_type = 'post'  # Cắt nếu chuỗi dài"
   ]
  },
  {
   "cell_type": "code",
   "execution_count": 14,
   "id": "8c28c158-f1c0-4977-ac31-1a5712a4a356",
   "metadata": {},
   "outputs": [
    {
     "name": "stdout",
     "output_type": "stream",
     "text": [
      "Vocab Size:  26\n"
     ]
    }
   ],
   "source": [
    "tokenizer = Tokenizer(char_level=True)\n",
    "tokenizer.fit_on_texts(data['Sequence'])\n",
    "vocab_size = len(tokenizer.word_index) + 1\n",
    "print(\"Vocab Size: \",vocab_size)"
   ]
  },
  {
   "cell_type": "code",
   "execution_count": 15,
   "id": "f412932c-2d3a-4581-86b0-f9f2fefb3a6a",
   "metadata": {},
   "outputs": [
    {
     "data": {
      "text/plain": [
       "{'l': 1,\n",
       " 'r': 2,\n",
       " 'a': 3,\n",
       " 'v': 4,\n",
       " 'k': 5,\n",
       " 'g': 6,\n",
       " 's': 7,\n",
       " 'i': 8,\n",
       " 't': 9,\n",
       " 'p': 10,\n",
       " 'f': 11,\n",
       " 'q': 12,\n",
       " 'n': 13,\n",
       " 'e': 14,\n",
       " 'y': 15,\n",
       " 'd': 16,\n",
       " 'm': 17,\n",
       " 'h': 18,\n",
       " 'w': 19,\n",
       " 'c': 20,\n",
       " 'x': 21,\n",
       " 'b': 22,\n",
       " 'j': 23,\n",
       " 'z': 24,\n",
       " 'u': 25}"
      ]
     },
     "execution_count": 15,
     "metadata": {},
     "output_type": "execute_result"
    }
   ],
   "source": [
    "tokenizer.word_index"
   ]
  },
  {
   "cell_type": "code",
   "execution_count": 16,
   "id": "c84137b7-ea2d-4b29-b540-fbf84d8cab28",
   "metadata": {},
   "outputs": [],
   "source": [
    "train_sequences  = tokenizer.texts_to_sequences(X_train['Sequence'])\n",
    "train_sequence_array = pad_sequences(train_sequences , maxlen= max_length, padding= padding_type, truncating=trunc_type)\n",
    "\n",
    "val_sequences = tokenizer.texts_to_sequences(X_val['Sequence'])\n",
    "val_sequence_array = pad_sequences(val_sequences , maxlen= max_length, padding= padding_type, truncating=trunc_type)\n",
    "\n",
    "test_sequences = tokenizer.texts_to_sequences(X_test['Sequence'])\n",
    "test_sequence_array = pad_sequences(test_sequences , maxlen= max_length, padding= padding_type, truncating=trunc_type)"
   ]
  },
  {
   "cell_type": "code",
   "execution_count": 17,
   "id": "22af61ec-f4ed-4d8f-8f3d-2d722b3f6184",
   "metadata": {},
   "outputs": [],
   "source": [
    "X_train= X_train.drop(columns=['Sequence'])\n",
    "X_train['train_sequences'] = train_sequence_array.tolist()\n",
    "\n",
    "X_val= X_val.drop(columns=['Sequence'])\n",
    "X_val['val_sequences'] = val_sequence_array.tolist()\n",
    "\n",
    "X_test= X_test.drop(columns=['Sequence'])\n",
    "X_test['test_sequences'] = test_sequence_array.tolist()"
   ]
  },
  {
   "cell_type": "code",
   "execution_count": 18,
   "id": "dc97f0e6-fa85-4134-9ed2-6561f288af50",
   "metadata": {},
   "outputs": [],
   "source": [
    "X_train_num = X_train.iloc[:, :126]  # Chọn 126 cột đầu tiên\n",
    "X_train_text = X_train.iloc[:, -1]   # Chọn cột cuối cùng"
   ]
  },
  {
   "cell_type": "code",
   "execution_count": 19,
   "id": "9071dd2c-32df-425c-a481-810a06142944",
   "metadata": {},
   "outputs": [],
   "source": [
    "X_val_num = X_val.iloc[:, :126]  # Chọn 126 cột đầu tiên\n",
    "X_val_text = X_val.iloc[:, -1]   # Chọn cột cuối cùng"
   ]
  },
  {
   "cell_type": "code",
   "execution_count": 20,
   "id": "ca429cae-0a7e-4989-a517-ec2dce190de3",
   "metadata": {},
   "outputs": [],
   "source": [
    "X_train_num = X_train_num.to_numpy(dtype=np.float32)\n",
    "X_val_num = X_val_num.to_numpy(dtype=np.float32)"
   ]
  },
  {
   "cell_type": "code",
   "execution_count": 21,
   "id": "402f9905-caf8-4401-a7e7-e601b078f9fc",
   "metadata": {},
   "outputs": [
    {
     "name": "stdout",
     "output_type": "stream",
     "text": [
      "X_train_text shape: (1260000, 50)\n",
      "X_val_text shape: (270000, 50)\n"
     ]
    }
   ],
   "source": [
    "# Định nghĩa độ dài cố định cho X_train_text và X_val_text\n",
    "max_len = max_length  \n",
    "\n",
    "# Chuyển đổi tất cả thành danh sách cùng kích thước\n",
    "X_train_text = np.array([seq[:max_len] + [0] * (max_len - len(seq)) if len(seq) < max_len else seq[:max_len] for seq in X_train_text], dtype=np.int32)\n",
    "\n",
    "X_val_text = np.array([seq[:max_len] + [0] * (max_len - len(seq)) if len(seq) < max_len else seq[:max_len] for seq in X_val_text], dtype=np.int32)\n",
    "\n",
    "print(\"X_train_text shape:\", X_train_text.shape)\n",
    "print(\"X_val_text shape:\", X_val_text.shape)"
   ]
  },
  {
   "cell_type": "code",
   "execution_count": 24,
   "id": "0c7bc21e-cff3-4aea-b41b-2c2ac4d92a92",
   "metadata": {},
   "outputs": [],
   "source": [
    "X_train_num_notGenBank = X_train_num\n",
    "X_val_num_notGenBank = X_val_num\n",
    "\n",
    "X_train_text_notGenBank = X_train_text\n",
    "X_val_text_notGenBank = X_val_text\n",
    "X_test_notGenBank = X_test\n",
    "\n",
    "y_train_notGenBank = y_train\n",
    "Y_val_notGenBank = Y_val"
   ]
  },
  {
   "cell_type": "code",
   "execution_count": 22,
   "id": "46f4b77c-d414-437f-b34d-8ec928e78002",
   "metadata": {},
   "outputs": [],
   "source": [
    "Y_test_notGenBank = Y_test"
   ]
  },
  {
   "cell_type": "code",
   "execution_count": 25,
   "id": "107f364d-8e7e-4ff1-b3f6-67d64798a92c",
   "metadata": {},
   "outputs": [],
   "source": [
    "np.save('numpy_notGenBank/X_train_num_notGenBank.npy', X_train_num_notGenBank)"
   ]
  },
  {
   "cell_type": "code",
   "execution_count": 26,
   "id": "4f687aae-6396-4e8a-a19f-b586d68e2a4f",
   "metadata": {},
   "outputs": [],
   "source": [
    "np.save('numpy_notGenBank/X_val_num_notGenBank.npy', X_val_num_notGenBank)"
   ]
  },
  {
   "cell_type": "code",
   "execution_count": 27,
   "id": "a5406de8-5e64-41f1-8be2-2b45e9200f8d",
   "metadata": {},
   "outputs": [],
   "source": [
    "np.save('numpy_notGenBank/X_train_text_notGenBank.npy', X_train_text_notGenBank)"
   ]
  },
  {
   "cell_type": "code",
   "execution_count": 28,
   "id": "6c0b99f3-1d9b-410d-9f07-33f4c915c67b",
   "metadata": {},
   "outputs": [],
   "source": [
    "np.save('numpy_notGenBank/X_val_text_notGenBank.npy', X_val_text_notGenBank)"
   ]
  },
  {
   "cell_type": "code",
   "execution_count": 29,
   "id": "1893d63f-5795-47ef-b8be-e830ef338518",
   "metadata": {},
   "outputs": [],
   "source": [
    "X_test_notGenBank.to_csv('numpy_notGenBank/X_test_notGenBank.csv', index=False)"
   ]
  },
  {
   "cell_type": "code",
   "execution_count": 30,
   "id": "e2758607-1aa4-4b66-a79f-e183cf90fbd1",
   "metadata": {},
   "outputs": [],
   "source": [
    "np.save('numpy_notGenBank/y_train_notGenBank.npy', y_train_notGenBank)"
   ]
  },
  {
   "cell_type": "code",
   "execution_count": 31,
   "id": "4cb43766-9a04-46d7-9b41-20f6e7932cbd",
   "metadata": {},
   "outputs": [],
   "source": [
    "np.save('numpy_notGenBank/Y_val_notGenBank.npy', Y_val_notGenBank)"
   ]
  },
  {
   "cell_type": "code",
   "execution_count": 23,
   "id": "c5047687-286a-4c7a-a3a0-1f5c55c3e641",
   "metadata": {},
   "outputs": [],
   "source": [
    "np.save('numpy_notGenBank/Y_test_notGenBank.npy', Y_test_notGenBank)"
   ]
  },
  {
   "cell_type": "code",
   "execution_count": null,
   "id": "1f5be101-f8ea-475e-b9be-01a2e8996f86",
   "metadata": {},
   "outputs": [],
   "source": []
  },
  {
   "cell_type": "code",
   "execution_count": 32,
   "id": "035b40d6-45ec-4edc-b4cc-91a26a87047f",
   "metadata": {},
   "outputs": [
    {
     "data": {
      "text/plain": [
       "(1260000, 126)"
      ]
     },
     "execution_count": 32,
     "metadata": {},
     "output_type": "execute_result"
    }
   ],
   "source": [
    "X_train_num_notGenBank_loaded = np.load('numpy_notGenBank/X_train_num_notGenBank.npy')\n",
    "X_train_num_notGenBank_loaded.shape"
   ]
  },
  {
   "cell_type": "code",
   "execution_count": 33,
   "id": "c57a98bf-30f0-40bc-9008-ba24f125d42a",
   "metadata": {},
   "outputs": [
    {
     "data": {
      "text/plain": [
       "(270000, 126)"
      ]
     },
     "execution_count": 33,
     "metadata": {},
     "output_type": "execute_result"
    }
   ],
   "source": [
    "X_val_num_notGenBank_loaded = np.load('numpy_notGenBank/X_val_num_notGenBank.npy')\n",
    "X_val_num_notGenBank_loaded.shape"
   ]
  },
  {
   "cell_type": "code",
   "execution_count": 34,
   "id": "37cc75e6-6e7f-4249-bcb1-4805acc594ad",
   "metadata": {},
   "outputs": [
    {
     "data": {
      "text/plain": [
       "(1260000, 50)"
      ]
     },
     "execution_count": 34,
     "metadata": {},
     "output_type": "execute_result"
    }
   ],
   "source": [
    "X_train_text_notGenBank_loaded = np.load('numpy_notGenBank/X_train_text_notGenBank.npy')\n",
    "X_train_text_notGenBank_loaded.shape"
   ]
  },
  {
   "cell_type": "code",
   "execution_count": 35,
   "id": "14522d15-ce61-4884-bdb9-be5a0e985ab2",
   "metadata": {},
   "outputs": [
    {
     "data": {
      "text/plain": [
       "(270000, 50)"
      ]
     },
     "execution_count": 35,
     "metadata": {},
     "output_type": "execute_result"
    }
   ],
   "source": [
    "X_val_text_notGenBank_loaded = np.load('numpy_notGenBank/X_val_text_notGenBank.npy')\n",
    "X_val_text_notGenBank_loaded.shape"
   ]
  },
  {
   "cell_type": "code",
   "execution_count": 36,
   "id": "c82de79c-90dd-4a60-9bd1-105fa35897f0",
   "metadata": {},
   "outputs": [
    {
     "data": {
      "text/plain": [
       "(270000, 127)"
      ]
     },
     "execution_count": 36,
     "metadata": {},
     "output_type": "execute_result"
    }
   ],
   "source": [
    "X_test_notGenBank_loaded = pd.read_csv('numpy_notGenBank/X_test_notGenBank.csv')\n",
    "X_test_notGenBank_loaded.shape"
   ]
  },
  {
   "cell_type": "code",
   "execution_count": 37,
   "id": "daa264ec-ee32-438f-9edc-d6dec7c81c17",
   "metadata": {},
   "outputs": [
    {
     "data": {
      "text/plain": [
       "(1260000,)"
      ]
     },
     "execution_count": 37,
     "metadata": {},
     "output_type": "execute_result"
    }
   ],
   "source": [
    "y_train_notGenBank_loaded = np.load('numpy_notGenBank/y_train_notGenBank.npy')\n",
    "y_train_notGenBank_loaded.shape"
   ]
  },
  {
   "cell_type": "code",
   "execution_count": 38,
   "id": "a06a3163-9ade-46bd-86b4-151e6f2474e6",
   "metadata": {},
   "outputs": [
    {
     "data": {
      "text/plain": [
       "(270000,)"
      ]
     },
     "execution_count": 38,
     "metadata": {},
     "output_type": "execute_result"
    }
   ],
   "source": [
    "Y_val_notGenBank_loaded = np.load('numpy_notGenBank/Y_val_notGenBank.npy')\n",
    "Y_val_notGenBank_loaded.shape"
   ]
  },
  {
   "cell_type": "code",
   "execution_count": 24,
   "id": "0820ffed-4b97-416c-af1c-a641e08d909a",
   "metadata": {},
   "outputs": [
    {
     "data": {
      "text/plain": [
       "(270000,)"
      ]
     },
     "execution_count": 24,
     "metadata": {},
     "output_type": "execute_result"
    }
   ],
   "source": [
    "Y_test_notGenBank_loaded = np.load('numpy_notGenBank/Y_test_notGenBank.npy')\n",
    "Y_test_notGenBank_loaded.shape"
   ]
  },
  {
   "cell_type": "code",
   "execution_count": null,
   "id": "f2b70a65-a3f3-4199-a72c-3b469c1ffb15",
   "metadata": {},
   "outputs": [],
   "source": []
  }
 ],
 "metadata": {
  "kernelspec": {
   "display_name": "Python 3 (ipykernel)",
   "language": "python",
   "name": "python3"
  },
  "language_info": {
   "codemirror_mode": {
    "name": "ipython",
    "version": 3
   },
   "file_extension": ".py",
   "mimetype": "text/x-python",
   "name": "python",
   "nbconvert_exporter": "python",
   "pygments_lexer": "ipython3",
   "version": "3.9.21"
  }
 },
 "nbformat": 4,
 "nbformat_minor": 5
}
